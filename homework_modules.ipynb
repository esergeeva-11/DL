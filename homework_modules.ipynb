{
  "cells": [
    {
      "cell_type": "markdown",
      "metadata": {
        "id": "mDCO3JaB_XDL"
      },
      "source": [
        "**1-я часть задания:** реализация слоев, лосей и функций активации - 5 баллов.<br>\n",
        "\n",
        "**2-я часть задания:** реализация моделей на своих классах. Что должно быть:<br>\n",
        "Выберите оптимизатор и реализуйте его, чтоб он\n",
        "\n",
        "1.   Выберите оптимизатор и реализуйте его, чтоб он работал с вашими классами. - 1 балл.\n",
        "2.   Модель для задачи мультирегрессии на выбраных вами данных. Использовать FCNN, dropout, batchnorm, MSE. Пробуйте различные фукнции активации. Для первой модели попробуйте большую, среднюю и маленькую модель. - 1 балл.\n",
        "3.   Модель для задачи мультиклассификации на MNIST. Использовать свёртки, макспулы, флэттэны, софтмаксы - 1 балл.\n",
        "4.   Автоэнкодер для выбранных вами данных. Должен быть на свёртках и полносвязных слоях, дропаутах, батчнормах и тд. - 2 балла.\n",
        "\n",
        "Дополнительно в оценке каждой модели будет учитываться:\n",
        "*   Наличие правильно выбранной метрики и лосс функции.\n",
        "*   Отрисовка графиков лосей и метрик на трейне-валидации.\n",
        "*   Проверка качества модели на тесте.\n",
        "*   Наличие шедулера для lr.\n",
        "*   Наличие вормапа.\n",
        "*   Наличие механизма ранней остановки и сохранение лучшей модели.\n",
        "*   Свитч лося (метрики) и оптимайзера."
      ]
    },
    {
      "cell_type": "markdown",
      "metadata": {
        "id": "wqwLlqaf-OEM"
      },
      "source": [
        "# Введение"
      ]
    },
    {
      "cell_type": "code",
      "execution_count": 2,
      "metadata": {
        "id": "3MeKai5Xj6eX"
      },
      "outputs": [],
      "source": [
        "import numpy as np"
      ]
    },
    {
      "cell_type": "markdown",
      "metadata": {
        "id": "wwlFrG-Tj6eY"
      },
      "source": [
        "**Module** is an abstract class which defines fundamental methods necessary for a training a neural network. You do not need to change anything here, just read the comments."
      ]
    },
    {
      "cell_type": "code",
      "execution_count": 3,
      "metadata": {
        "id": "W8BLmtZ3j6eZ"
      },
      "outputs": [],
      "source": [
        "class Module(object):\n",
        "    \"\"\"\n",
        "    Basically, you can think of a module as of a something (black box)\n",
        "    which can process `input` data and produce `ouput` data.\n",
        "    This is like applying a function which is called `forward`:\n",
        "\n",
        "        output = module.forward(input)\n",
        "\n",
        "    The module should be able to perform a backward pass: to differentiate the `forward` function.\n",
        "    More, it should be able to differentiate it if is a part of chain (chain rule).\n",
        "    The latter implies there is a gradient from previous step of a chain rule.\n",
        "\n",
        "        gradInput = module.backward(input, gradOutput)\n",
        "    \"\"\"\n",
        "    def __init__ (self):\n",
        "        self.output = None\n",
        "        self.gradInput = None\n",
        "        self.training = True\n",
        "\n",
        "    def forward(self, input):\n",
        "        \"\"\"\n",
        "        Takes an input object, and computes the corresponding output of the module.\n",
        "        \"\"\"\n",
        "        return self.updateOutput(input)\n",
        "\n",
        "    def backward(self,input, gradOutput):\n",
        "        \"\"\"\n",
        "        Performs a backpropagation step through the module, with respect to the given input.\n",
        "\n",
        "        This includes\n",
        "         - computing a gradient w.r.t. `input` (is needed for further backprop),\n",
        "         - computing a gradient w.r.t. parameters (to update parameters while optimizing).\n",
        "        \"\"\"\n",
        "        self.updateGradInput(input, gradOutput)\n",
        "        self.accGradParameters(input, gradOutput)\n",
        "        return self.gradInput\n",
        "\n",
        "\n",
        "    def updateOutput(self, input):\n",
        "        \"\"\"\n",
        "        Computes the output using the current parameter set of the class and input.\n",
        "        This function returns the result which is stored in the `output` field.\n",
        "\n",
        "        Make sure to both store the data in `output` field and return it.\n",
        "        \"\"\"\n",
        "\n",
        "        # The easiest case:\n",
        "\n",
        "        # self.output = input\n",
        "        # return self.output\n",
        "\n",
        "        pass\n",
        "\n",
        "    def updateGradInput(self, input, gradOutput):\n",
        "        \"\"\"\n",
        "        Computing the gradient of the module with respect to its own input.\n",
        "        This is returned in `gradInput`. Also, the `gradInput` state variable is updated accordingly.\n",
        "\n",
        "        The shape of `gradInput` is always the same as the shape of `input`.\n",
        "\n",
        "        Make sure to both store the gradients in `gradInput` field and return it.\n",
        "        \"\"\"\n",
        "\n",
        "        # The easiest case:\n",
        "\n",
        "        # self.gradInput = gradOutput\n",
        "        # return self.gradInput\n",
        "        pass\n",
        "\n",
        "    def accGradParameters(self, input, gradOutput):\n",
        "        \"\"\"\n",
        "        Computing the gradient of the module with respect to its own parameters.\n",
        "        No need to override if module has no parameters (e.g. ReLU).\n",
        "        \"\"\"\n",
        "        pass\n",
        "\n",
        "    def zeroGradParameters(self):\n",
        "        \"\"\"\n",
        "        Zeroes `gradParams` variable if the module has params.\n",
        "        \"\"\"\n",
        "        pass\n",
        "\n",
        "    def getParameters(self):\n",
        "        \"\"\"\n",
        "        Returns a list with its parameters.\n",
        "        If the module does not have parameters return empty list.\n",
        "        \"\"\"\n",
        "        return []\n",
        "\n",
        "    def getGradParameters(self):\n",
        "        \"\"\"\n",
        "        Returns a list with gradients with respect to its parameters.\n",
        "        If the module does not have parameters return empty list.\n",
        "        \"\"\"\n",
        "        return []\n",
        "\n",
        "    def train(self):\n",
        "        \"\"\"\n",
        "        Sets training mode for the module.\n",
        "        Training and testing behaviour differs for Dropout, BatchNorm.\n",
        "        \"\"\"\n",
        "        self.training = True\n",
        "\n",
        "    def evaluate(self):\n",
        "        \"\"\"\n",
        "        Sets evaluation mode for the module.\n",
        "        Training and testing behaviour differs for Dropout, BatchNorm.\n",
        "        \"\"\"\n",
        "        self.training = False\n",
        "\n",
        "    def __repr__(self):\n",
        "        \"\"\"\n",
        "        Pretty printing. Should be overrided in every module if you want\n",
        "        to have readable description.\n",
        "        \"\"\"\n",
        "        return \"Module\""
      ]
    },
    {
      "cell_type": "markdown",
      "metadata": {
        "id": "YzSLvOON-yJO"
      },
      "source": [
        "# Часть 1"
      ]
    },
    {
      "cell_type": "markdown",
      "metadata": {
        "id": "mKRkIjT8j6eZ"
      },
      "source": [
        "## Sequential container ✅\n"
      ]
    },
    {
      "cell_type": "markdown",
      "metadata": {
        "id": "Cb98PPpJj6ea"
      },
      "source": [
        "**Define** a forward and backward pass procedures."
      ]
    },
    {
      "cell_type": "code",
      "source": [
        "class Sequential1(Module):\n",
        "    \"\"\"\n",
        "         This class implements a container, which processes `input` data sequentially.\n",
        "\n",
        "         `input` is processed by each module (layer) in self.modules consecutively.\n",
        "         The resulting array is called `output`.\n",
        "    \"\"\"\n",
        "\n",
        "    def __init__ (self):\n",
        "        super(Sequential1, self).__init__()\n",
        "        self.modules = []\n",
        "\n",
        "    def add(self, module):\n",
        "        \"\"\"\n",
        "        Adds a module to the container.\n",
        "        \"\"\"\n",
        "        self.modules.append(module)\n",
        "\n",
        "    def updateOutput(self, input):\n",
        "        \"\"\"\n",
        "        Basic workflow of FORWARD PASS:\n",
        "\n",
        "            y_0    = module[0].forward(input)\n",
        "            y_1    = module[1].forward(y_0)\n",
        "            ...\n",
        "            output = module[n-1].forward(y_{n-2})\n",
        "\n",
        "\n",
        "        Just write a little loop.\n",
        "        \"\"\"\n",
        "        # Your code goes here. ################################################\n",
        "        self.Outputs = []\n",
        "        self.output = input\n",
        "        self.Outputs.append(self.output)\n",
        "        for module in self.modules:\n",
        "            self.output = module.forward(self.output)\n",
        "            self.Outputs.append(self.output)\n",
        "        return self.output\n",
        "\n",
        "    def backward(self, input, gradOutput):\n",
        "        \"\"\"\n",
        "        Workflow of BACKWARD PASS:\n",
        "\n",
        "            g_{n-1} = module[n-1].backward(y_{n-2}, gradOutput)\n",
        "            g_{n-2} = module[n-2].backward(y_{n-3}, g_{n-1})\n",
        "            ...\n",
        "            g_1 = module[1].backward(y_0, g_2)\n",
        "            gradInput = module[0].backward(input, g_1)\n",
        "\n",
        "\n",
        "        !!!\n",
        "\n",
        "        To ech module you need to provide the input, module saw while forward pass,\n",
        "        it is used while computing gradients.\n",
        "        Make sure that the input for `i-th` layer the output of `module[i]` (just the same input as in forward pass)\n",
        "        and NOT `input` to this Sequential module.\n",
        "\n",
        "        !!!\n",
        "\n",
        "        \"\"\"\n",
        "        # Your code goes here. ################################################\n",
        "        for i in range(len(self.modules) - 1, -1, -1):\n",
        "            gradOutput = self.modules[i].backward(self.Outputs[i], gradOutput)\n",
        "        self.gradInput = gradOutput\n",
        "        return self.gradInput\n",
        "\n",
        "\n",
        "    def zeroGradParameters(self):\n",
        "        for module in self.modules:\n",
        "            module.zeroGradParameters()\n",
        "\n",
        "    def getParameters(self):\n",
        "        \"\"\"\n",
        "        Should gather all parameters in a list.\n",
        "        \"\"\"\n",
        "        params = []\n",
        "        for module in self.modules:\n",
        "            if len(module.getParameters())!=0:\n",
        "                params.append(list(module.getParameters()))\n",
        "        return params\n",
        " #       return [x.getParameters() for x in self.modules]\n",
        "\n",
        "    def getGradParameters(self):\n",
        "        \"\"\"\n",
        "        Should gather all gradients w.r.t parameters in a list.\n",
        "        \"\"\"\n",
        "        Grad_params = []\n",
        "        for module in self.modules:\n",
        "            if len(module.getGradParameters())!=0:\n",
        "                Grad_params.append(list(module.getGradParameters()))\n",
        "        return Grad_params\n",
        "    #    return [x.getGradParameters() for x in self.modules]\n",
        "\n",
        "    def __repr__(self):\n",
        "        string = \"\".join([str(x) + '\\n' for x in self.modules])\n",
        "        return string\n",
        "\n",
        "    def __getitem__(self,x):\n",
        "        return self.modules.__getitem__(x)\n",
        "\n",
        "    def train(self):\n",
        "        \"\"\"\n",
        "        Propagates training parameter through all modules\n",
        "        \"\"\"\n",
        "        self.training = True\n",
        "        for module in self.modules:\n",
        "            module.train()\n",
        "\n",
        "    def evaluate(self):\n",
        "        \"\"\"\n",
        "        Propagates training parameter through all modules\n",
        "        \"\"\"\n",
        "        self.training = False\n",
        "        for module in self.modules:\n",
        "            module.evaluate()"
      ],
      "metadata": {
        "id": "SYfJQI7LKCcI"
      },
      "execution_count": 36,
      "outputs": []
    },
    {
      "cell_type": "code",
      "execution_count": 5,
      "metadata": {
        "id": "7y2lav4dj6ea"
      },
      "outputs": [],
      "source": [
        "class Sequential(Module):\n",
        "    \"\"\"\n",
        "         This class implements a container, which processes `input` data sequentially.\n",
        "\n",
        "         `input` is processed by each module (layer) in self.modules consecutively.\n",
        "         The resulting array is called `output`.\n",
        "    \"\"\"\n",
        "\n",
        "    def __init__ (self):\n",
        "        super(Sequential, self).__init__()\n",
        "        self.modules = []\n",
        "\n",
        "    def add(self, module):\n",
        "        \"\"\"\n",
        "        Adds a module to the container.\n",
        "        \"\"\"\n",
        "        self.modules.append(module)\n",
        "\n",
        "    def updateOutput(self, input):\n",
        "        \"\"\"\n",
        "        Basic workflow of FORWARD PASS:\n",
        "\n",
        "            y_0    = module[0].forward(input)\n",
        "            y_1    = module[1].forward(y_0)\n",
        "            ...\n",
        "            output = module[n-1].forward(y_{n-2})\n",
        "\n",
        "\n",
        "        Just write a little loop.\n",
        "        \"\"\"\n",
        "        # Your code goes here. ################################################\n",
        "        self.Outputs = []\n",
        "        self.output = input\n",
        "        self.Outputs.append(self.output)\n",
        "        for module in self.modules:\n",
        "            self.output = module.forward(self.output)\n",
        "            self.Outputs.append(self.output)\n",
        "        return self.output\n",
        "\n",
        "    def backward(self, input, gradOutput):\n",
        "        \"\"\"\n",
        "        Workflow of BACKWARD PASS:\n",
        "\n",
        "            g_{n-1} = module[n-1].backward(y_{n-2}, gradOutput)\n",
        "            g_{n-2} = module[n-2].backward(y_{n-3}, g_{n-1})\n",
        "            ...\n",
        "            g_1 = module[1].backward(y_0, g_2)\n",
        "            gradInput = module[0].backward(input, g_1)\n",
        "\n",
        "\n",
        "        !!!\n",
        "\n",
        "        To ech module you need to provide the input, module saw while forward pass,\n",
        "        it is used while computing gradients.\n",
        "        Make sure that the input for `i-th` layer the output of `module[i]` (just the same input as in forward pass)\n",
        "        and NOT `input` to this Sequential module.\n",
        "\n",
        "        !!!\n",
        "\n",
        "        \"\"\"\n",
        "        # Your code goes here. ################################################\n",
        "        for i in range(len(self.modules) - 1, -1, -1):\n",
        "            gradOutput = self.modules[i].backward(self.Outputs[i], gradOutput)\n",
        "        self.gradInput = gradOutput\n",
        "        return self.gradInput\n",
        "\n",
        "\n",
        "    def zeroGradParameters(self):\n",
        "        for module in self.modules:\n",
        "            module.zeroGradParameters()\n",
        "\n",
        "    def getParameters(self):\n",
        "        \"\"\"\n",
        "        Should gather all parameters in a list.\n",
        "        \"\"\"\n",
        "     #   params = []\n",
        "     #   for module in self.modules:\n",
        "     #       if len(module.getParameters())!=0:\n",
        "     #           params.append(list(module.getParameters()))\n",
        "     #   return params\n",
        "        return [x.getParameters() for x in self.modules]\n",
        "\n",
        "    def getGradParameters(self):\n",
        "        \"\"\"\n",
        "        Should gather all gradients w.r.t parameters in a list.\n",
        "        \"\"\"\n",
        "  #      Grad_params = []\n",
        "  #      for module in self.modules:\n",
        "  #          if len(module.getGradParameters())!=0:\n",
        "  #              Grad_params.append(list(module.getGradParameters()))\n",
        "  #      return Grad_params\n",
        "        return [x.getGradParameters() for x in self.modules]\n",
        "\n",
        "    def __repr__(self):\n",
        "        string = \"\".join([str(x) + '\\n' for x in self.modules])\n",
        "        return string\n",
        "\n",
        "    def __getitem__(self,x):\n",
        "        return self.modules.__getitem__(x)\n",
        "\n",
        "    def train(self):\n",
        "        \"\"\"\n",
        "        Propagates training parameter through all modules\n",
        "        \"\"\"\n",
        "        self.training = True\n",
        "        for module in self.modules:\n",
        "            module.train()\n",
        "\n",
        "    def evaluate(self):\n",
        "        \"\"\"\n",
        "        Propagates training parameter through all modules\n",
        "        \"\"\"\n",
        "        self.training = False\n",
        "        for module in self.modules:\n",
        "            module.evaluate()"
      ]
    },
    {
      "cell_type": "markdown",
      "metadata": {
        "id": "zfXdYfO4j6ea"
      },
      "source": [
        "## Layers"
      ]
    },
    {
      "cell_type": "markdown",
      "metadata": {
        "id": "ZuwvBkuNj6ea"
      },
      "source": [
        "###1. (0.2). Linear transform layer ✅\n",
        "Also known as dense layer, fully-connected layer, FC-layer, InnerProductLayer (in caffe), affine transform\n",
        "- input:   **`batch_size x n_feats1`**\n",
        "- output: **`batch_size x n_feats2`**"
      ]
    },
    {
      "cell_type": "code",
      "execution_count": 6,
      "metadata": {
        "id": "D0uoyqkpj6ea"
      },
      "outputs": [],
      "source": [
        "class Linear(Module):\n",
        "    \"\"\"\n",
        "    A module which applies a linear transformation\n",
        "    A common name is fully-connected layer, InnerProductLayer in caffe.\n",
        "\n",
        "    The module should work with 2D input of shape (n_samples, n_feature).\n",
        "    \"\"\"\n",
        "    def __init__(self, n_in, n_out):\n",
        "        super(Linear, self).__init__()\n",
        "\n",
        "        # This is a nice initialization\n",
        "        stdv = 1./np.sqrt(n_in)\n",
        "        self.W = np.random.uniform(-stdv, stdv, size = (n_out, n_in))\n",
        "        self.b = np.random.uniform(-stdv, stdv, size = n_out)\n",
        "\n",
        "        self.gradW = np.zeros_like(self.W)\n",
        "        self.gradb = np.zeros_like(self.b)\n",
        "\n",
        "    def updateOutput(self, input):\n",
        "        # Your code goes here. ################################################✅\n",
        "        self.output = np.dot(input, self.W.T) + self.b\n",
        "        return self.output\n",
        "\n",
        "    def updateGradInput(self, input, gradOutput):\n",
        "        # Your code goes here. ################################################✅\n",
        "        self.gradInput = np.dot(gradOutput, self.W)\n",
        "        return self.gradInput\n",
        "\n",
        "    def accGradParameters(self, input, gradOutput):\n",
        "        # Your code goes here. ################################################✅\n",
        "        self.gradW += np.dot(gradOutput.T, input)\n",
        "        self.gradb += np.sum(gradOutput, axis=0)\n",
        "        pass\n",
        "\n",
        "    def zeroGradParameters(self):\n",
        "        self.gradW.fill(0)\n",
        "        self.gradb.fill(0)\n",
        "\n",
        "    def getParameters(self):\n",
        "        return [self.W, self.b]\n",
        "\n",
        "    def getGradParameters(self):\n",
        "        return [self.gradW, self.gradb]\n",
        "\n",
        "    def __repr__(self):\n",
        "        s = self.W.shape\n",
        "        q = 'Linear %d -> %d' %(s[1],s[0])\n",
        "        return q"
      ]
    },
    {
      "cell_type": "markdown",
      "metadata": {
        "id": "tNOnHXZJj6eb"
      },
      "source": [
        "### 2. (0.2) SoftMax ✅\n",
        "- input:   **`batch_size x n_feats`**\n",
        "- output: **`batch_size x n_feats`**\n",
        "\n",
        "$\\text{softmax}(x)_i = \\frac{\\exp x_i} {\\sum_j \\exp x_j}$\n",
        "\n",
        "Recall that $\\text{softmax}(x) == \\text{softmax}(x - \\text{const})$. It makes possible to avoid computing exp() from large argument."
      ]
    },
    {
      "cell_type": "code",
      "execution_count": 7,
      "metadata": {
        "colab": {
          "base_uri": "https://localhost:8080/"
        },
        "id": "tUuIJNOkjro3",
        "outputId": "23ba44eb-d76d-4a7b-aa95-f3f8fdbf295e"
      },
      "outputs": [
        {
          "output_type": "execute_result",
          "data": {
            "text/plain": [
              "array([[0.09003057, 0.24472847, 0.66524096],\n",
              "       [0.66524096, 0.24472847, 0.09003057]])"
            ]
          },
          "metadata": {},
          "execution_count": 7
        }
      ],
      "source": [
        "p=np.array([[1,2,3], [3,2,1]])\n",
        "np.divide(np.exp(p), np.sum(np.exp(p), axis=1, keepdims=True))"
      ]
    },
    {
      "cell_type": "code",
      "execution_count": 8,
      "metadata": {
        "collapsed": true,
        "id": "VIValI0hj6eb"
      },
      "outputs": [],
      "source": [
        "class SoftMax(Module):\n",
        "    def __init__(self):\n",
        "         super(SoftMax, self).__init__()\n",
        "\n",
        "    def updateOutput(self, input):\n",
        "        # start with normalization for numerical stability\n",
        "        self.output = np.subtract(input, input.max(axis=1, keepdims=True))      # max для каждого наблюдения берём свой\n",
        "\n",
        "        # Your code goes here. ################################################✅\n",
        "        self.output = np.divide(np.exp(self.output), np.sum(np.exp(self.output), axis=1, keepdims=True))\n",
        "        return self.output\n",
        "\n",
        "    def updateGradInput(self, input, gradOutput):\n",
        "        # Your code goes here. ################################################✅\n",
        "        self.gradInput = np.zeros_like(input)\n",
        "\n",
        "        for i in range(input.shape[0]):\n",
        "          G = np.diag(self.output[i]) - self.output[i] * self.output[i].reshape(-1, 1)\n",
        "          self.gradInput[i] = np.dot(gradOutput[i], G)\n",
        "\n",
        "        return self.gradInput\n",
        "\n",
        "    def __repr__(self):\n",
        "        return \"SoftMax\""
      ]
    },
    {
      "cell_type": "markdown",
      "metadata": {
        "id": "Cy3DJjynj6eb"
      },
      "source": [
        "### 3. (0.2) LogSoftMax ✅\n",
        "- input:   **`batch_size x n_feats`**\n",
        "- output: **`batch_size x n_feats`**\n",
        "\n",
        "$\\text{logsoftmax}(x)_i = \\log\\text{softmax}(x)_i = x_i - \\log {\\sum_j \\exp x_j}$\n",
        "\n",
        "The main goal of this layer is to be used in computation of log-likelihood loss."
      ]
    },
    {
      "cell_type": "code",
      "execution_count": 9,
      "metadata": {
        "colab": {
          "base_uri": "https://localhost:8080/"
        },
        "id": "zLti5Iarpa98",
        "outputId": "373309f4-f779-460d-f620-1313355dbdeb"
      },
      "outputs": [
        {
          "output_type": "execute_result",
          "data": {
            "text/plain": [
              "array([[-2.40760596, -1.40760596, -0.40760596],\n",
              "       [-0.40760596, -1.40760596, -2.40760596]])"
            ]
          },
          "metadata": {},
          "execution_count": 9
        }
      ],
      "source": [
        "p=np.array([[1,2,3], [3,2,1]])\n",
        "np.subtract(p, np.log(np.sum(np.exp(p), axis=1, keepdims=True)))"
      ]
    },
    {
      "cell_type": "code",
      "execution_count": 10,
      "metadata": {
        "colab": {
          "base_uri": "https://localhost:8080/"
        },
        "id": "KR47fSf0jLI1",
        "outputId": "cd82dd24-5789-485a-a79a-508ff4166f34"
      },
      "outputs": [
        {
          "output_type": "execute_result",
          "data": {
            "text/plain": [
              "array([[ 0.90996943, -0.24472847, -0.66524096],\n",
              "       [-0.09003057,  0.75527153, -0.66524096],\n",
              "       [-0.09003057, -0.24472847,  0.33475904]])"
            ]
          },
          "metadata": {},
          "execution_count": 10
        }
      ],
      "source": [
        "-np.tile(np.exp(p[0]), (3, 1)) / np.sum(np.exp(p[0])) + np.identity(3)"
      ]
    },
    {
      "cell_type": "code",
      "execution_count": 11,
      "metadata": {
        "colab": {
          "base_uri": "https://localhost:8080/"
        },
        "id": "PjhyqkrqlImC",
        "outputId": "63d197fa-4829-48ec-d9ec-8652977978cd"
      },
      "outputs": [
        {
          "output_type": "execute_result",
          "data": {
            "text/plain": [
              "array([[ 0.90996943, -0.24472847, -0.66524096],\n",
              "       [-0.09003057,  0.75527153, -0.66524096],\n",
              "       [-0.09003057, -0.24472847,  0.33475904]])"
            ]
          },
          "metadata": {},
          "execution_count": 11
        }
      ],
      "source": [
        "exp_input = np.exp(p[0])\n",
        "n = len(exp_input)\n",
        "-np.tile(exp_input, (n,1)) / np.sum(exp_input) + np.identity(n)"
      ]
    },
    {
      "cell_type": "code",
      "execution_count": 12,
      "metadata": {
        "collapsed": true,
        "id": "Xo7DRdAJj6eb"
      },
      "outputs": [],
      "source": [
        "class LogSoftMax(Module):\n",
        "    def __init__(self):\n",
        "         super(LogSoftMax, self).__init__()\n",
        "\n",
        "    def updateOutput(self, input):\n",
        "        # start with normalization for numerical stability\n",
        "        self.output = np.subtract(input, input.max(axis=1, keepdims=True))\n",
        "\n",
        "        # Your code goes here. ################################################ ✅\n",
        "        self.output = np.subtract(self.output, np.log(np.sum(np.exp(self.output), axis=1, keepdims=True)))\n",
        "\n",
        "        return self.output\n",
        "\n",
        "    def updateGradInput(self, input, gradOutput):\n",
        "        # Your code goes here. ################################################✅\n",
        "        self.gradInput = np.zeros_like(input)\n",
        "\n",
        "        for i in range(input.shape[0]):\n",
        "          exp_input = np.exp(input[i])\n",
        "          n = len(exp_input)\n",
        "          G = -np.tile(exp_input, (n,1)) / np.sum(exp_input) + np.identity(n)\n",
        "\n",
        "          self.gradInput[i] = np.dot(gradOutput[i], G)\n",
        "        return self.gradInput\n",
        "\n",
        "    def __repr__(self):\n",
        "        return \"LogSoftMax\""
      ]
    },
    {
      "cell_type": "markdown",
      "metadata": {
        "id": "QP5QdmmPj6eb"
      },
      "source": [
        "### 4. (0.3) Batch normalization ✅\n",
        "One of the most significant recent ideas that impacted NNs a lot is [**Batch normalization**](http://arxiv.org/abs/1502.03167). The idea is simple, yet effective: the features should be whitened ($mean = 0$, $std = 1$) all the way through NN. This improves the convergence for deep models letting it train them for days but not weeks. **You are** to implement the first part of the layer: features normalization. The second part (`ChannelwiseScaling` layer) is implemented below.\n",
        "\n",
        "- input:   **`batch_size x n_feats`**\n",
        "- output: **`batch_size x n_feats`**\n",
        "\n",
        "The layer should work as follows. While training (`self.training == True`) it transforms input as $$y = \\frac{x - \\mu}  {\\sqrt{\\sigma + \\epsilon}}$$\n",
        "where $\\mu$ and $\\sigma$ - mean and variance of feature values in **batch** and $\\epsilon$ is just a small number for numericall stability. Also during training, layer should maintain exponential moving average values for mean and variance:\n",
        "```\n",
        "    self.moving_mean = self.moving_mean * alpha + batch_mean * (1 - alpha)\n",
        "    self.moving_variance = self.moving_variance * alpha + batch_variance * (1 - alpha)\n",
        "```\n",
        "During testing (`self.training == False`) the layer normalizes input using moving_mean and moving_variance.\n",
        "\n",
        "Note that decomposition of batch normalization on normalization itself and channelwise scaling here is just a common **implementation** choice. In general \"batch normalization\" always assumes normalization + scaling."
      ]
    },
    {
      "cell_type": "code",
      "execution_count": 13,
      "metadata": {
        "collapsed": true,
        "id": "fGTTDqVgj6eb"
      },
      "outputs": [],
      "source": [
        "class BatchNormalization(Module):\n",
        "    EPS = 1e-3\n",
        "    def __init__(self, alpha = 0.):\n",
        "        super(BatchNormalization, self).__init__()\n",
        "        self.alpha = alpha\n",
        "        self.moving_mean = None\n",
        "        self.moving_variance = None\n",
        "\n",
        "    def updateOutput(self, input):\n",
        "        # Your code goes here. ################################################✅\n",
        "        if self.training == True:\n",
        "          batch_mean = np.mean(input, axis=0)\n",
        "          batch_variance = np.var(input, axis=0)\n",
        "          self.output= (input-batch_mean) / np.sqrt((batch_variance + self.EPS))\n",
        "\n",
        "          if self.moving_mean is None:\n",
        "            self.moving_mean = batch_mean\n",
        "            self.moving_variance = batch_variance\n",
        "\n",
        "          self.moving_mean = self.moving_mean * self.alpha + batch_mean * (1 - self.alpha)\n",
        "          self.moving_variance = self.moving_variance * self.alpha + batch_variance * (1 - self.alpha)\n",
        "        else:\n",
        "          self.output= (input-self.moving_mean) / np.sqrt((self.moving_variance + self.EPS))\n",
        "        return self.output\n",
        "\n",
        "    def updateGradInput(self, input, gradOutput):\n",
        "        # Your code goes here. ################################################✅\n",
        "        batch_size = input.shape[0]\n",
        "        batch_mean = np.mean(input, axis=0)\n",
        "        batch_variance = np.var(input, axis=0)\n",
        "\n",
        "        std = (batch_variance + self.EPS)**(-0.5)\n",
        "\n",
        "        dL_dvar = np.sum(gradOutput * (input - batch_mean) * (-0.5) * (std)**3, axis=0)\n",
        "        d_mean = np.sum(gradOutput * (-std), axis=0) + dL_dvar * (-2) * np.sum((input - batch_mean), axis=0) / batch_size\n",
        "\n",
        "        self.gradInput = gradOutput * std + (dL_dvar * 2 * (input - batch_mean) + d_mean) / batch_size\n",
        "        return self.gradInput\n",
        "\n",
        "    def __repr__(self):\n",
        "        return \"BatchNormalization\""
      ]
    },
    {
      "cell_type": "code",
      "execution_count": 14,
      "metadata": {
        "collapsed": true,
        "id": "8XUS3Lt-j6eb"
      },
      "outputs": [],
      "source": [
        "class ChannelwiseScaling(Module):\n",
        "    \"\"\"\n",
        "       Implements linear transform of input y = \\gamma * x + \\beta\n",
        "       where \\gamma, \\beta - learnable vectors of length x.shape[-1]\n",
        "    \"\"\"\n",
        "    def __init__(self, n_out):\n",
        "        super(ChannelwiseScaling, self).__init__()\n",
        "\n",
        "        stdv = 1./np.sqrt(n_out)\n",
        "        self.gamma = np.random.uniform(-stdv, stdv, size=n_out)\n",
        "        self.beta = np.random.uniform(-stdv, stdv, size=n_out)\n",
        "\n",
        "        self.gradGamma = np.zeros_like(self.gamma)\n",
        "        self.gradBeta = np.zeros_like(self.beta)\n",
        "\n",
        "    def updateOutput(self, input):\n",
        "        self.output = input * self.gamma + self.beta\n",
        "        return self.output\n",
        "\n",
        "    def updateGradInput(self, input, gradOutput):\n",
        "        self.gradInput = gradOutput * self.gamma\n",
        "        return self.gradInput\n",
        "\n",
        "    def accGradParameters(self, input, gradOutput):\n",
        "        self.gradBeta = np.sum(gradOutput, axis=0)\n",
        "        self.gradGamma = np.sum(gradOutput*input, axis=0)\n",
        "\n",
        "    def zeroGradParameters(self):\n",
        "        self.gradGamma.fill(0)\n",
        "        self.gradBeta.fill(0)\n",
        "\n",
        "    def getParameters(self):\n",
        "        return [self.gamma, self.beta]\n",
        "\n",
        "    def getGradParameters(self):\n",
        "        return [self.gradGamma, self.gradBeta]\n",
        "\n",
        "    def __repr__(self):\n",
        "        return \"ChannelwiseScaling\""
      ]
    },
    {
      "cell_type": "markdown",
      "metadata": {
        "id": "vA5zjM3jj6eb"
      },
      "source": [
        "Practical notes. If BatchNormalization is placed after a linear transformation layer (including dense layer, convolutions, channelwise scaling) that implements function like `y = weight * x + bias`, than bias adding become useless and could be omitted since its effect will be discarded while batch mean subtraction. If BatchNormalization (followed by `ChannelwiseScaling`) is placed before a layer that propagates scale (including ReLU, LeakyReLU) followed by any linear transformation layer than parameter `gamma` in `ChannelwiseScaling` could be freezed since it could be absorbed into the linear transformation layer."
      ]
    },
    {
      "cell_type": "markdown",
      "metadata": {
        "id": "Gackeo1cj6eb"
      },
      "source": [
        "### 5. (0.3) Dropout ✅\n",
        "Implement [**dropout**](https://www.cs.toronto.edu/~hinton/absps/JMLRdropout.pdf). The idea and implementation is really simple: just multimply the input by $Bernoulli(p)$ mask. Here $p$ is probability of an element to be zeroed.\n",
        "\n",
        "This has proven to be an effective technique for regularization and preventing the co-adaptation of neurons.\n",
        "\n",
        "While training (`self.training == True`) it should sample a mask on each iteration (for every batch), zero out elements and multiply elements by $1 / (1 - p)$. The latter is needed for keeping mean values of features close to mean values which will be in test mode. When testing this module should implement identity transform i.e. `self.output = input`.\n",
        "\n",
        "- input:   **`batch_size x n_feats`**\n",
        "- output: **`batch_size x n_feats`**"
      ]
    },
    {
      "cell_type": "code",
      "execution_count": 15,
      "metadata": {
        "colab": {
          "base_uri": "https://localhost:8080/"
        },
        "id": "wk-RoloH0vr1",
        "outputId": "76d3d327-6c22-41b5-c3d9-d42ed11b9107"
      },
      "outputs": [
        {
          "output_type": "execute_result",
          "data": {
            "text/plain": [
              "array([[0, 0, 0, 0, 0],\n",
              "       [0, 0, 0, 0, 0],\n",
              "       [0, 1, 0, 0, 0],\n",
              "       [0, 0, 0, 0, 0],\n",
              "       [0, 1, 0, 0, 0]])"
            ]
          },
          "metadata": {},
          "execution_count": 15
        }
      ],
      "source": [
        "np.random.binomial(1, 1-0.9, (5, 5))"
      ]
    },
    {
      "cell_type": "code",
      "execution_count": 16,
      "metadata": {
        "id": "NmLQV3jXj6eb"
      },
      "outputs": [],
      "source": [
        "class Dropout(Module):\n",
        "    def __init__(self, p=0.5):\n",
        "        super(Dropout, self).__init__()\n",
        "\n",
        "        self.p = p\n",
        "        self.mask = None\n",
        "\n",
        "    def updateOutput(self, input):\n",
        "        # Your code goes here. ################################################✅\n",
        "        if self.training:\n",
        "          self.mask = np.random.binomial(1, (1-self.p), input.shape)  # 1 - если нейрон не отключается\n",
        "          self.output = input * self.mask / (1 - self.p)\n",
        "        else:\n",
        "          self.output = input\n",
        "        return  self.output\n",
        "\n",
        "    def updateGradInput(self, input, gradOutput):\n",
        "        # Your code goes here. ################################################✅\n",
        "        self.gradInput = gradOutput * self.mask / (1 - self.p)\n",
        "        return self.gradInput\n",
        "\n",
        "    def __repr__(self):\n",
        "        return \"Dropout\""
      ]
    },
    {
      "cell_type": "markdown",
      "metadata": {
        "id": "-WHGIqJFlhz2"
      },
      "source": [
        "###6. (2.0) Conv2d ✅\n",
        "Implement [**Conv2d**](https://pytorch.org/docs/stable/generated/torch.nn.Conv2d.html). Use only this list of parameters: (in_channels, out_channels, kernel_size, stride, padding, bias, padding_mode) and fix dilation=1 and groups=1."
      ]
    },
    {
      "cell_type": "code",
      "execution_count": 17,
      "metadata": {
        "id": "c1RjNoEXlOHP"
      },
      "outputs": [],
      "source": [
        "class Conv2d(Module):\n",
        "    def __init__(self, in_channels, out_channels, kernel_size,\n",
        "                 stride=1, padding=0, bias=True, padding_mode='zeros'):\n",
        "        super(Conv2d, self).__init__()\n",
        "\n",
        "        self.in_channels = in_channels\n",
        "        self.out_channels = out_channels\n",
        "        self.kernel_size = (kernel_size, kernel_size) if isinstance(kernel_size, int) else kernel_size\n",
        "        self.stride = (stride, stride) if isinstance(stride, int) else stride\n",
        "        if padding == 'same':\n",
        "          self.padding = (int((self.kernel_size[0] - 1) / 2), int((self.kernel_size[1] - 1) / 2))\n",
        "        else:\n",
        "          self.padding = (padding, padding) if isinstance(padding, int) else padding\n",
        "        self.bias_TF = bias\n",
        "        self.padding_mode = padding_mode\n",
        "\n",
        "        self.weight = np.random.randn(self.out_channels, self.in_channels, self.kernel_size[0], self.kernel_size[1])\n",
        "        self.gradW = np.zeros_like(self.weight)\n",
        "        if self.bias_TF:\n",
        "          self.bias = np.random.randn(out_channels)\n",
        "          self.gradb = np.zeros_like(self.bias)\n",
        "\n",
        "        if self.padding_mode=='zeros':\n",
        "          self.mode='constant'\n",
        "          self.constant_values=0\n",
        "        elif self.padding_mode=='replicate':\n",
        "          self.mode='edge'\n",
        "        elif self.padding_mode=='reflect':\n",
        "          self.mode='reflect'\n",
        "    def updateOutput(self, input):\n",
        "        # Your code goes here. ################################################✅\n",
        "        batch_size = input.shape[0]\n",
        "        H_in, W_in = input.shape[-2:]\n",
        "\n",
        "        H_out = int(np.floor((H_in + 2 * self.padding[0] - self.kernel_size[0]) / self.stride[0])) + 1  # формула с семинара, только + 2 * self.padding\n",
        "        W_out = int(np.floor((W_in + 2 * self.padding[1] - self.kernel_size[1]) / self.stride[1])) + 1  # 2 тк padding добавляет значения с двух сторон\n",
        "\n",
        "        self.output = np.zeros((batch_size, self.out_channels, H_out, W_out))\n",
        "\n",
        "        if self.mode=='constant':\n",
        "          self.input_pad = np.pad(input, ((0, 0), (0, 0), (self.padding[0], self.padding[0]), (self.padding[1], self.padding[1])), mode=self.mode, constant_values=self.constant_values)\n",
        "        else:\n",
        "          self.input_pad = np.pad(input, ((0, 0), (0, 0), (self.padding[0], self.padding[0]), (self.padding[1], self.padding[1])), mode=self.mode)\n",
        "        for n in range(batch_size):\n",
        "          for c_out in range(self.out_channels):\n",
        "            for h_out in range(H_out):\n",
        "              for w_out in range(W_out):\n",
        "\n",
        "                h_start = h_out * self.stride[0] # левый верхний угл рецептивного поля\n",
        "                w_start = w_out * self.stride[1]\n",
        "\n",
        "                receptive_field = self.input_pad[n, :, h_start:(h_start + self.kernel_size[0]), w_start: (w_start+ self.kernel_size[1])]\n",
        "                self.output[n, c_out, h_out, w_out] = np.sum(receptive_field * self.weight[c_out])\n",
        "\n",
        "                if self.bias_TF:\n",
        "                  self.output[n, c_out, h_out, w_out] += self.bias[c_out]\n",
        "        return self.output\n",
        "\n",
        "\n",
        "    def updateGradInput(self, input, gradOutput):\n",
        "        # Your code goes here. ################################################✅\n",
        "        def edge_mode(row, col, input_height, input_width, padding):\n",
        "          if row < padding[0]:\n",
        "            original_row = 0\n",
        "          elif row >= input_height + padding[0]:\n",
        "            original_row = input_height - 1\n",
        "          else:\n",
        "            original_row = row - padding[0]\n",
        "\n",
        "          if col < padding[1]:\n",
        "            original_col = 0\n",
        "          elif col >= input_width + padding[1]:\n",
        "            original_col = input_width - 1\n",
        "          else:\n",
        "            original_col = col - padding[1]\n",
        "\n",
        "          return original_row, original_col\n",
        "\n",
        "        def reflect_mode(row, col, input_height, input_width, padding):\n",
        "              height = input_height\n",
        "              width = input_width\n",
        "              original_row = row\n",
        "              if row < 0:\n",
        "                original_row = -row\n",
        "              elif row >= height:\n",
        "                original_row = 2 * (height - 1) - row\n",
        "\n",
        "              original_col = col\n",
        "              if col < 0:\n",
        "                original_col = -col\n",
        "              elif col >= width:\n",
        "                original_col = 2 * (width - 1) - col\n",
        "              return original_row, original_col\n",
        "\n",
        "\n",
        "        H_in, W_in = input.shape[-2:]\n",
        "        batch_size, C_out, H_out, W_out = gradOutput.shape\n",
        "\n",
        "        self.gradInput = np.zeros_like(input)\n",
        "        for n in range(batch_size):\n",
        "          for c_out in range(self.out_channels):\n",
        "            for h_out in range(H_out):\n",
        "              for w_out in range(W_out):\n",
        "                h_start = h_out * self.stride[0]\n",
        "                w_start = w_out * self.stride[1]\n",
        "\n",
        "                for c_in in range(self.in_channels):\n",
        "                 for h_ker in range(self.kernel_size[0]):\n",
        "                  for w_ker in range(self.kernel_size[1]):\n",
        "                    h_in = h_start + h_ker - self.padding[0]\n",
        "                    w_in = w_start + w_ker - self.padding[1]\n",
        "\n",
        "                    if (0 <= h_in < H_in) and (0 <= w_in < W_in):\n",
        "                       self.gradInput[n, c_in, h_in, w_in] += gradOutput[n, c_out, h_out, w_out] * self.weight[c_out, c_in, h_ker, w_ker]\n",
        "                    else:\n",
        "                      if self.mode=='edge':\n",
        "                          original_h, original_w = edge_mode(h_in+self.padding[0], w_in+self.padding[1], H_in, W_in, self.padding)\n",
        "                          self.gradInput[n, c_in, original_h, original_w] += gradOutput[n, c_out, h_out, w_out] * self.weight[c_out, c_in, h_ker, w_ker]\n",
        "                      elif self.mode=='reflect':\n",
        "                          original_h, original_w = reflect_mode(h_in, w_in, H_in, W_in, self.padding)\n",
        "                          self.gradInput[n, c_in, original_h, original_w] += gradOutput[n, c_out, h_out, w_out] * self.weight[c_out, c_in, h_ker, w_ker]\n",
        "\n",
        "        return self.gradInput\n",
        "\n",
        "    def accGradParameters(self, input, gradOutput):\n",
        "        H_in, W_in = input.shape[-2:]\n",
        "        batch_size, C_out, H_out, W_out = gradOutput.shape\n",
        "\n",
        "        self.gradInput = np.zeros_like(input)\n",
        "\n",
        "        for n in range(batch_size):\n",
        "          for c_out in range(self.out_channels):\n",
        "            for h_out in range(H_out):\n",
        "              for w_out in range(W_out):\n",
        "                h_start = h_out * self.stride[0]\n",
        "                w_start = w_out * self.stride[1]\n",
        "\n",
        "                receptive_field = self.input_pad[n, :, h_start:(h_start + self.kernel_size[0]), w_start: (w_start+ self.kernel_size[1])]\n",
        "\n",
        "                self.gradW[c_out] += receptive_field * gradOutput[n, c_out, h_out, w_out]\n",
        "                if self.bias_TF:\n",
        "                  self.gradb[c_out] += gradOutput[n, c_out, h_out, w_out]\n",
        "        pass\n",
        "\n",
        "    def zeroGradParameters(self):\n",
        "        self.gradW.fill(0)\n",
        "        if self.bias_TF:\n",
        "          self.gradb.fill(0)\n",
        "\n",
        "    def getParameters(self):\n",
        "        if self.bias_TF:\n",
        "          return [self.weight, self.bias]\n",
        "        else: return [self.weight]\n",
        "\n",
        "    def getGradParameters(self):\n",
        "        if self.bias_TF:\n",
        "          return [self.gradW, self.gradb]\n",
        "        else: return [self.gradW]\n",
        "\n",
        "    def __repr__(self):\n",
        "        return \"Conv2d\""
      ]
    },
    {
      "cell_type": "markdown",
      "metadata": {
        "id": "updUVZE9qixP"
      },
      "source": [
        "###7. (0.5) Implement [**MaxPool2d**](https://pytorch.org/docs/stable/generated/torch.nn.MaxPool2d.html) and [**AvgPool2d**](https://pytorch.org/docs/stable/generated/torch.nn.AvgPool2d.html). ✅\n",
        "Use only parameters like kernel_size, stride, padding (negative infinity for maxpool and zero for avgpool) and other parameters fixed as in framework."
      ]
    },
    {
      "cell_type": "code",
      "execution_count": 18,
      "metadata": {
        "id": "Qys58EzkqhLj"
      },
      "outputs": [],
      "source": [
        "class MaxPool2d(Module):\n",
        "    def __init__(self, kernel_size, stride, padding):\n",
        "        super(MaxPool2d, self).__init__()\n",
        "\n",
        "        self.kernel_size = (kernel_size, kernel_size) if isinstance(kernel_size, int) else kernel_size\n",
        "        self.stride = (stride, stride) if isinstance(stride, int) else stride\n",
        "        self.padding = (padding, padding) if isinstance(padding, int) else padding\n",
        "\n",
        "    def updateOutput(self, input):\n",
        "        # Your code goes here. ################################################✅\n",
        "        batch_size, C, H_in, W_in = input.shape\n",
        "\n",
        "        H_out = int(np.floor((H_in + 2 * self.padding[0] - self.kernel_size[0]) / self.stride[0])) + 1\n",
        "        W_out = int(np.floor((W_in + 2 * self.padding[1] - self.kernel_size[1]) / self.stride[1])) + 1\n",
        "\n",
        "        self.input_pad = np.pad(input, ((0, 0), (0, 0), (self.padding[0], self.padding[0]), (self.padding[1], self.padding[1])), mode='constant', constant_values=-np.inf)\n",
        "\n",
        "        self.output = np.zeros((batch_size, C, H_out, W_out))\n",
        "\n",
        "        for n in range(batch_size):\n",
        "            for c in range(C):\n",
        "                for h_out in range(H_out):\n",
        "                    for w_out in range(W_out):\n",
        "                      h_start = h_out * self.stride[0] # левый верхний угл рецептивного поля\n",
        "                      w_start = w_out * self.stride[1]\n",
        "\n",
        "                      receptive_field = self.input_pad[n, c, h_start:(h_start + self.kernel_size[0]), w_start:(w_start+ self.kernel_size[1])]\n",
        "                      self.output[n,c,h_out,w_out] = np.max(receptive_field)\n",
        "        return  self.output\n",
        "\n",
        "    def updateGradInput(self, input, gradOutput):\n",
        "        # Your code goes here. ################################################✅\n",
        "        H_in, W_in = input.shape[-2:]\n",
        "        batch_size, C, H_out, W_out = gradOutput.shape\n",
        "\n",
        "        self.gradInput = np.zeros_like(input)\n",
        "\n",
        "        for n in range(batch_size):\n",
        "            for c in range(C):\n",
        "                for h_out in range(H_out):\n",
        "                    for w_out in range(W_out):\n",
        "                      h_start = h_out * self.stride[0] # левый верхний угл рецептивного поля\n",
        "                      w_start = w_out * self.stride[1]\n",
        "\n",
        "                      receptive_field = self.input_pad[n, c, h_start:(h_start + self.kernel_size[0]), w_start:(w_start+ self.kernel_size[1])]\n",
        "                      index = np.unravel_index(np.argmax(receptive_field), receptive_field.shape)\n",
        "\n",
        "                      h_index = h_start - self.padding[0] + index[0]\n",
        "                      w_index = w_start - self.padding[1] + index[1]\n",
        "\n",
        "                      if 0 <= h_index < H_in and 0 <= w_index < W_in:\n",
        "                        self.gradInput[n, c, h_index, w_index] += gradOutput[n, c, h_out, w_out]\n",
        "        return self.gradInput\n",
        "\n",
        "    def __repr__(self):\n",
        "        return \"MaxPool2d\"\n",
        "\n",
        "\n",
        "\n",
        "class AvgPool2d(Module):\n",
        "    def __init__(self, kernel_size, stride, padding):\n",
        "        super(AvgPool2d, self).__init__()\n",
        "\n",
        "        self.kernel_size = (kernel_size, kernel_size) if isinstance(kernel_size, int) else kernel_size\n",
        "        self.stride = (stride, stride) if isinstance(stride, int) else stride\n",
        "        self.padding = (padding, padding) if isinstance(padding, int) else padding\n",
        "\n",
        "    def updateOutput(self, input):\n",
        "        # Your code goes here. ################################################✅\n",
        "        batch_size, C, H_in, W_in = input.shape\n",
        "\n",
        "        H_out = int(np.floor((H_in + 2 * self.padding[0] - self.kernel_size[0]) / self.stride[0])) + 1\n",
        "        W_out = int(np.floor((W_in + 2 * self.padding[1] - self.kernel_size[1]) / self.stride[1])) + 1\n",
        "\n",
        "        self.input_pad = np.pad(input, ((0, 0), (0, 0), (self.padding[0], self.padding[0]), (self.padding[1], self.padding[1])), mode='constant', constant_values=0)\n",
        "\n",
        "        self.output = np.zeros((batch_size, C, H_out, W_out))\n",
        "\n",
        "        for n in range(batch_size):\n",
        "            for c in range(C):\n",
        "                for h_out in range(H_out):\n",
        "                    for w_out in range(W_out):\n",
        "                      h_start = h_out * self.stride[0] # левый верхний угл рецептивного поля\n",
        "                      w_start = w_out * self.stride[1]\n",
        "\n",
        "                      receptive_field = self.input_pad[n, c, h_start:(h_start + self.kernel_size[0]), w_start:(w_start+ self.kernel_size[1])]\n",
        "                      self.output[n,c,h_out,w_out] = np.average(receptive_field)\n",
        "        return  self.output\n",
        "\n",
        "    def updateGradInput(self, input, gradOutput):\n",
        "        # Your code goes here. ################################################✅\n",
        "        batch_size, C, H_out, W_out = gradOutput.shape\n",
        "        H_in, W_in = input.shape[-2:]\n",
        "\n",
        "        self.gradInput = np.zeros_like(input)\n",
        "        n_pix = self.kernel_size[0] * self.kernel_size[1]\n",
        "\n",
        "        for n in range(batch_size):\n",
        "            for c in range(C):\n",
        "                for h_out in range(H_out):\n",
        "                    for w_out in range(W_out):\n",
        "                      h_start = h_out * self.stride[0]  # левый верхний угл рецептивного поля\n",
        "                      w_start = w_out * self.stride[1]\n",
        "\n",
        "                      for h_ker in range(self.kernel_size[0]):\n",
        "                        for w_ker in range(self.kernel_size[1]):\n",
        "                          h_in = h_start + h_ker - self.padding[0]\n",
        "                          w_in = w_start + w_ker - self.padding[1]\n",
        "\n",
        "                          if (0 <= h_in < H_in) and (0 <= w_in < W_in):\n",
        "                            self.gradInput[n, c, h_in, w_in] += gradOutput[n,c,h_out,w_out] / n_pix\n",
        "        return self.gradInput\n",
        "\n",
        "    def __repr__(self):\n",
        "        return \"AvgPool2d\""
      ]
    },
    {
      "cell_type": "markdown",
      "metadata": {
        "id": "KTN5R3CwrukV"
      },
      "source": [
        "###8. (0.3) Implement **GlobalMaxPool2d** and **GlobalAvgPool2d**.\n",
        "They do not have testing and parameters are up to you but they must aggregate information within channels. Write test functions for these layers on your own."
      ]
    },
    {
      "cell_type": "markdown",
      "metadata": {
        "id": "0YnpQGJho5do"
      },
      "source": [
        "Как я поняла: <br> у нас на вход есть тензор размера (batch_size, C_in, H_in, W_in). Выход:\n",
        "\n",
        "*   (batch_size, C_in, 1, 1) если keepdims=True\n",
        "*   (batch_size, C_in) если keepdims=False\n",
        "\n"
      ]
    },
    {
      "cell_type": "code",
      "execution_count": 19,
      "metadata": {
        "id": "Y1pqUGYMnlVy"
      },
      "outputs": [],
      "source": [
        "class GlobalMaxPool2d(Module):\n",
        "    def __init__(self, keepdims):\n",
        "        super(GlobalMaxPool2d, self).__init__()\n",
        "\n",
        "        self.keepdims = keepdims\n",
        "\n",
        "    def updateOutput(self, input):\n",
        "        # Your code goes here. ################################################✅\n",
        "        batch_size, C, H, W = input.shape\n",
        "\n",
        "        self.output = np.max(input, axis=(2, 3))\n",
        "        input_1 = input.reshape(batch_size, C, -1)\n",
        "        self.max_indices = np.argmax(input_1, axis=2)\n",
        "        if self.keepdims:\n",
        "          self.output = self.output.reshape((batch_size, C, 1, 1))\n",
        "        return self.output\n",
        "\n",
        "    def updateGradInput(self, input, gradOutput):\n",
        "        # Your code goes here. ################################################❌\n",
        "        batch_size, C = gradOutput.shape[:2]\n",
        "        H, W = input.shape[-2:]\n",
        "\n",
        "        self.gradInput = np.zeros_like(input)\n",
        "\n",
        "        if self.keepdims:\n",
        "            gradOutput = gradOutput.reshape(batch_size, C)\n",
        "\n",
        "        max_h = self.max_indices // W\n",
        "        max_w = self.max_indices % W\n",
        "\n",
        "        batch, channel = np.indices((batch_size, C))\n",
        "\n",
        "        self.gradInput[batch, channel, max_h, max_w] = gradOutput\n",
        "        return self.gradInput\n",
        "\n",
        "    def __repr__(self):\n",
        "        return \"GlobalMaxPool2d\""
      ]
    },
    {
      "cell_type": "code",
      "execution_count": 20,
      "metadata": {
        "id": "wfbPJ-MKzVja"
      },
      "outputs": [],
      "source": [
        "class GlobalAvgPool2d(Module):\n",
        "    def __init__(self, keepdims):\n",
        "        super(GlobalAvgPool2d, self).__init__()\n",
        "\n",
        "        self.keepdims = keepdims\n",
        "\n",
        "    def updateOutput(self, input):\n",
        "        # Your code goes here. ################################################✅\n",
        "        batch_size, C, H, W = input.shape\n",
        "\n",
        "        self.output = np.average(input, axis=(2, 3))\n",
        "\n",
        "        if self.keepdims:\n",
        "          self.output = self.output.reshape((batch_size, C, 1, 1))\n",
        "        return self.output\n",
        "\n",
        "    def updateGradInput(self, input, gradOutput):\n",
        "        # Your code goes here. ################################################❌\n",
        "        batch_size, C = gradOutput.shape[:2]\n",
        "        H, W = input.shape[-2:]\n",
        "        n_pix = H*W\n",
        "\n",
        "        self.gradInput = np.zeros_like(input)\n",
        "\n",
        "        if self.keepdims:\n",
        "            gradOutput = gradOutput.reshape(batch_size, C)\n",
        "\n",
        "        for n in range(batch_size):\n",
        "            for c in range(C):\n",
        "              self.gradInput[n, c] = gradOutput[n,c] / n_pix\n",
        "\n",
        "        return self.gradInput\n",
        "\n",
        "    def __repr__(self):\n",
        "        return \"GlobalAvgPool2d\""
      ]
    },
    {
      "cell_type": "markdown",
      "metadata": {
        "id": "cYeBQDBhtViy"
      },
      "source": [
        "###9. (0.2) Implement [**Flatten**](https://pytorch.org/docs/stable/generated/torch.flatten.html) ✅"
      ]
    },
    {
      "cell_type": "code",
      "execution_count": 21,
      "metadata": {
        "id": "SimPEMOFqhTQ"
      },
      "outputs": [],
      "source": [
        "class Flatten(Module):\n",
        "    def __init__(self, start_dim=0, end_dim=-1):\n",
        "        super(Flatten, self).__init__()\n",
        "\n",
        "        self.start_dim = start_dim\n",
        "        self.end_dim = end_dim\n",
        "\n",
        "    def updateOutput(self, input):\n",
        "        # Your code goes here. ################################################✅\n",
        "        self.in_shape = input.shape\n",
        "        in_sh = list(self.in_shape)\n",
        "\n",
        "        if self.end_dim == -1:\n",
        "            self.end_dim = len(in_sh) - 1\n",
        "\n",
        "        out_shape = in_sh[:self.start_dim]\n",
        "        prod = np.prod(in_sh[self.start_dim : self.end_dim + 1])\n",
        "        out_shape.append(prod)\n",
        "        out_shape.extend(in_sh[self.end_dim + 1:])\n",
        "\n",
        "        out_shape = tuple(out_shape)\n",
        "        self.output = input.reshape(out_shape)\n",
        "        return self.output\n",
        "\n",
        "    def updateGradInput(self, input, gradOutput):\n",
        "        # Your code goes here. ################################################✅\n",
        "        self.gradInput = gradOutput.reshape(self.in_shape)\n",
        "        return self.gradInput\n",
        "\n",
        "    def __repr__(self):\n",
        "        return \"Flatten\""
      ]
    },
    {
      "cell_type": "markdown",
      "metadata": {
        "id": "o36vPHSSj6eb"
      },
      "source": [
        "## Activation functions ✅"
      ]
    },
    {
      "cell_type": "markdown",
      "metadata": {
        "id": "l_pryRQIj6ec"
      },
      "source": [
        "Here's the complete example for the **Rectified Linear Unit** non-linearity (aka **ReLU**):"
      ]
    },
    {
      "cell_type": "code",
      "execution_count": 22,
      "metadata": {
        "collapsed": true,
        "id": "sgm8bXjKj6ec"
      },
      "outputs": [],
      "source": [
        "class ReLU(Module):\n",
        "    def __init__(self):\n",
        "         super(ReLU, self).__init__()\n",
        "\n",
        "    def updateOutput(self, input):\n",
        "        self.output = np.maximum(input, 0)\n",
        "        return self.output\n",
        "\n",
        "    def updateGradInput(self, input, gradOutput):\n",
        "        self.gradInput = np.multiply(gradOutput , input > 0)\n",
        "        return self.gradInput\n",
        "\n",
        "    def __repr__(self):\n",
        "        return \"ReLU\""
      ]
    },
    {
      "cell_type": "markdown",
      "metadata": {
        "id": "yB0UHGagj6ec"
      },
      "source": [
        "### 10. (0.1) Leaky ReLU ✅\n",
        "Implement [**Leaky Rectified Linear Unit**](http://en.wikipedia.org/wiki%2FRectifier_%28neural_networks%29%23Leaky_ReLUs). Expriment with slope."
      ]
    },
    {
      "cell_type": "code",
      "execution_count": 23,
      "metadata": {
        "colab": {
          "base_uri": "https://localhost:8080/"
        },
        "id": "U9MeoorDKl9U",
        "outputId": "410321cc-0ebe-464a-c828-9f52353824c9"
      },
      "outputs": [
        {
          "output_type": "execute_result",
          "data": {
            "text/plain": [
              "array([[10,  4],\n",
              "       [ 5,  6]])"
            ]
          },
          "metadata": {},
          "execution_count": 23
        }
      ],
      "source": [
        "a = np.array([[10,2], [3,4]])\n",
        "b = np.array([[3,4],[5,6]])\n",
        "np.maximum(a, b)"
      ]
    },
    {
      "cell_type": "code",
      "execution_count": 24,
      "metadata": {
        "id": "agwfkwO0j6ec"
      },
      "outputs": [],
      "source": [
        "class LeakyReLU(Module):\n",
        "    def __init__(self, slope = 0.03):\n",
        "        super(LeakyReLU, self).__init__()\n",
        "\n",
        "        self.slope = slope\n",
        "\n",
        "    def updateOutput(self, input):\n",
        "        # Your code goes here. ################################################✅\n",
        "        self.output = np.maximum(self.slope*input, input)\n",
        "        return  self.output\n",
        "\n",
        "    def updateGradInput(self, input, gradOutput):\n",
        "        # Your code goes here. ################################################✅\n",
        "        self.gradInput = np.where(input>0, gradOutput, self.slope*gradOutput)\n",
        "        return self.gradInput\n",
        "\n",
        "    def __repr__(self):\n",
        "        return \"LeakyReLU\""
      ]
    },
    {
      "cell_type": "markdown",
      "metadata": {
        "id": "t-STyecvj6ec"
      },
      "source": [
        "### 11. (0.1) ELU ✅\n",
        "Implement [**Exponential Linear Units**](http://arxiv.org/abs/1511.07289) activations."
      ]
    },
    {
      "cell_type": "code",
      "execution_count": 25,
      "metadata": {
        "collapsed": true,
        "id": "jJSzEu1mj6ec"
      },
      "outputs": [],
      "source": [
        "class ELU(Module):\n",
        "    def __init__(self, alpha = 1.0):\n",
        "        super(ELU, self).__init__()\n",
        "\n",
        "        self.alpha = alpha\n",
        "\n",
        "    def updateOutput(self, input):\n",
        "        # Your code goes here. ################################################✅\n",
        "        self.output = np.where(input<0, self.alpha*(np.exp(input)-1), input)\n",
        "        return  self.output\n",
        "\n",
        "    def updateGradInput(self, input, gradOutput):\n",
        "        # Your code goes here. ################################################✅\n",
        "        self.gradInput = np.where(input<0, gradOutput*self.alpha*np.exp(input), gradOutput)\n",
        "        return self.gradInput\n",
        "\n",
        "    def __repr__(self):\n",
        "        return \"ELU\""
      ]
    },
    {
      "cell_type": "markdown",
      "metadata": {
        "id": "Gn3C7KTqj6ec"
      },
      "source": [
        "### 12. (0.1) SoftPlus ✅\n",
        "Implement [**SoftPlus**](https://en.wikipedia.org/wiki%2FRectifier_%28neural_networks%29) activations. Look, how they look a lot like ReLU."
      ]
    },
    {
      "cell_type": "code",
      "execution_count": 26,
      "metadata": {
        "collapsed": true,
        "id": "xcDPMssrj6ec"
      },
      "outputs": [],
      "source": [
        "class SoftPlus(Module):\n",
        "    def __init__(self):\n",
        "        super(SoftPlus, self).__init__()\n",
        "\n",
        "    def updateOutput(self, input):\n",
        "        # Your code goes here. ################################################✅\n",
        "        self.output = np.log(1+np.exp(input))\n",
        "        return  self.output\n",
        "\n",
        "    def updateGradInput(self, input, gradOutput):\n",
        "        # Your code goes here. ################################################✅\n",
        "        self.gradInput = gradOutput* np.exp(input) / (1+np.exp(input))\n",
        "        return self.gradInput\n",
        "\n",
        "    def __repr__(self):\n",
        "        return \"SoftPlus\""
      ]
    },
    {
      "cell_type": "markdown",
      "metadata": {
        "id": "kw3PeZjOuo0e"
      },
      "source": [
        "### 13. (0.2) Gelu ✅\n",
        "Implement [**Gelu**](https://pytorch.org/docs/stable/generated/torch.nn.GELU.html) activations."
      ]
    },
    {
      "cell_type": "code",
      "execution_count": 27,
      "metadata": {
        "id": "SdieE0Dtuo8j"
      },
      "outputs": [],
      "source": [
        "class Gelu(Module):\n",
        "    def __init__(self):\n",
        "        super(Gelu, self).__init__()\n",
        "\n",
        "    def updateOutput(self, input):\n",
        "        # Your code goes here. ################################################✅\n",
        "        self.output = 0.5 * input * (1 + np.tanh((2 / np.pi)**0.5 * (input + 0.044715 * input**3)))\n",
        "        return  self.output\n",
        "\n",
        "    def updateGradInput(self, input, gradOutput):\n",
        "        # Your code goes here. ###############################################✅\n",
        "        x = input\n",
        "        r = np.sqrt(2 / np.pi) * (x + 0.044715 * x**3)\n",
        "        dtanh_dx = (1 - np.tanh(r)**2) * np.sqrt(2 / np.pi) * (1 + 3 * 0.044715 * x**2)\n",
        "        dy_dx = 0.5 * (1 + np.tanh(r)) + 0.5*x*dtanh_dx\n",
        "\n",
        "        self.gradInput = gradOutput * dy_dx\n",
        "        return self.gradInput\n",
        "\n",
        "    def __repr__(self):\n",
        "        return \"Gelu\""
      ]
    },
    {
      "cell_type": "markdown",
      "metadata": {
        "id": "55p7UvPAj6ec"
      },
      "source": [
        "## Criterions ✅"
      ]
    },
    {
      "cell_type": "markdown",
      "metadata": {
        "id": "5NFaxZaqj6ec"
      },
      "source": [
        "Criterions are used to score the models answers."
      ]
    },
    {
      "cell_type": "code",
      "execution_count": 28,
      "metadata": {
        "id": "XGu45A8qj6ec"
      },
      "outputs": [],
      "source": [
        "class Criterion(object):\n",
        "    def __init__ (self):\n",
        "        self.output = None\n",
        "        self.gradInput = None\n",
        "\n",
        "    def forward(self, input, target):\n",
        "        \"\"\"\n",
        "            Given an input and a target, compute the loss function\n",
        "            associated to the criterion and return the result.\n",
        "\n",
        "            For consistency this function should not be overrided,\n",
        "            all the code goes in `updateOutput`.\n",
        "        \"\"\"\n",
        "        return self.updateOutput(input, target)\n",
        "\n",
        "    def backward(self, input, target):\n",
        "        \"\"\"\n",
        "            Given an input and a target, compute the gradients of the loss function\n",
        "            associated to the criterion and return the result.\n",
        "\n",
        "            For consistency this function should not be overrided,\n",
        "            all the code goes in `updateGradInput`.\n",
        "        \"\"\"\n",
        "        return self.updateGradInput(input, target)\n",
        "\n",
        "    def updateOutput(self, input, target):\n",
        "        \"\"\"\n",
        "        Function to override.\n",
        "        \"\"\"\n",
        "        return self.output\n",
        "\n",
        "    def updateGradInput(self, input, target):\n",
        "        \"\"\"\n",
        "        Function to override.\n",
        "        \"\"\"\n",
        "        return self.gradInput\n",
        "\n",
        "    def __repr__(self):\n",
        "        \"\"\"\n",
        "        Pretty printing. Should be overrided in every module if you want\n",
        "        to have readable description.\n",
        "        \"\"\"\n",
        "        return \"Criterion\""
      ]
    },
    {
      "cell_type": "markdown",
      "metadata": {
        "id": "WuU26xkpj6ec"
      },
      "source": [
        "The **MSECriterion**, which is basic L2 norm usually used for regression, is implemented here for you.\n",
        "- input:   **`batch_size x n_feats`**\n",
        "- target: **`batch_size x n_feats`**\n",
        "- output: **scalar**"
      ]
    },
    {
      "cell_type": "code",
      "execution_count": 29,
      "metadata": {
        "id": "-i3VNuHhj6ec"
      },
      "outputs": [],
      "source": [
        "class MSECriterion(Criterion):\n",
        "    def __init__(self):\n",
        "        super(MSECriterion, self).__init__()\n",
        "\n",
        "    def updateOutput(self, input, target):\n",
        "        self.output = np.sum(np.power(input - target,2)) / input.shape[0]\n",
        "        return self.output\n",
        "\n",
        "    def updateGradInput(self, input, target):\n",
        "        self.gradInput  = (input - target) * 2 / input.shape[0]\n",
        "        return self.gradInput\n",
        "\n",
        "    def __repr__(self):\n",
        "        return \"MSECriterion\""
      ]
    },
    {
      "cell_type": "markdown",
      "metadata": {
        "id": "x8LKLWNVj6ec"
      },
      "source": [
        "### 14. (0.2) Negative LogLikelihood criterion (numerically unstable) ✅\n",
        "You task is to implement the **ClassNLLCriterion**. It should implement [multiclass log loss](http://scikit-learn.org/stable/modules/model_evaluation.html#log-loss). Nevertheless there is a sum over `y` (target) in that formula,\n",
        "remember that targets are one-hot encoded. This fact simplifies the computations a lot. Note, that criterions are the only places, where you divide by batch size. Also there is a small hack with adding small number to probabilities to avoid computing log(0).\n",
        "- input:   **`batch_size x n_feats`** - probabilities\n",
        "- target: **`batch_size x n_feats`** - one-hot representation of ground truth\n",
        "- output: **scalar**\n",
        "\n"
      ]
    },
    {
      "cell_type": "code",
      "execution_count": 30,
      "metadata": {
        "id": "die7KvW6j6ec"
      },
      "outputs": [],
      "source": [
        "class ClassNLLCriterionUnstable(Criterion):\n",
        "    EPS = 1e-15\n",
        "    def __init__(self):\n",
        "       # a = super(ClassNLLCriterionUnstable, self)\n",
        "        super(ClassNLLCriterionUnstable, self).__init__()\n",
        "\n",
        "    def updateOutput(self, input, target):\n",
        "\n",
        "        # Use this trick to avoid numerical errors\n",
        "        input_clamp = np.clip(input, self.EPS, 1 - self.EPS)\n",
        "\n",
        "        # Your code goes here. ################################################\n",
        "        batch_size = input.shape[0]\n",
        "        loss = -np.log(input_clamp) * target\n",
        "        self.output = np.sum(loss) / batch_size\n",
        "        return self.output\n",
        "\n",
        "    def updateGradInput(self, input, target):\n",
        "\n",
        "        # Use this trick to avoid numerical errors\n",
        "        input_clamp = np.clip(input, self.EPS, 1 - self.EPS)\n",
        "\n",
        "        # Your code goes here. ################################################\n",
        "        batch_size = input.shape[0]\n",
        "        self.gradInput = (-1/batch_size) * (target / input_clamp)\n",
        "        return self.gradInput\n",
        "\n",
        "    def __repr__(self):\n",
        "        return \"ClassNLLCriterionUnstable\""
      ]
    },
    {
      "cell_type": "markdown",
      "metadata": {
        "id": "uHr_JbU5j6ec"
      },
      "source": [
        "### 15. (0.3) Negative LogLikelihood criterion (numerically stable)✅\n",
        "- input:   **`batch_size x n_feats`** - log probabilities\n",
        "- target: **`batch_size x n_feats`** - one-hot representation of ground truth\n",
        "- output: **scalar**\n",
        "\n",
        "Task is similar to the previous one, but now the criterion input is the output of log-softmax layer. This decomposition allows us to avoid problems with computation of forward and backward of log()."
      ]
    },
    {
      "cell_type": "code",
      "execution_count": 31,
      "metadata": {
        "collapsed": true,
        "id": "v7N8bVP9j6ec"
      },
      "outputs": [],
      "source": [
        "class ClassNLLCriterion(Criterion):\n",
        "    def __init__(self):\n",
        "       # a = super(ClassNLLCriterion, self)\n",
        "        super(ClassNLLCriterion, self).__init__()\n",
        "\n",
        "    def updateOutput(self, input, target):\n",
        "        # Your code goes here. ################################################\n",
        "        batch_size = input.shape[0]\n",
        "        self.output = - np.sum(input * target) / batch_size\n",
        "        return self.output\n",
        "\n",
        "    def updateGradInput(self, input, target):\n",
        "        # Your code goes here. ################################################\n",
        "        batch_size = input.shape[0]\n",
        "\n",
        "        self.gradInput = -target / batch_size\n",
        "        return self.gradInput\n",
        "\n",
        "    def __repr__(self):\n",
        "        return \"ClassNLLCriterion\""
      ]
    },
    {
      "cell_type": "markdown",
      "metadata": {
        "id": "c2MR-iSg_Iwc"
      },
      "source": [
        "# Часть 2"
      ]
    },
    {
      "cell_type": "markdown",
      "metadata": {
        "id": "HXXrAVe8Z-Sd"
      },
      "source": [
        "# 1. Adam"
      ]
    },
    {
      "cell_type": "code",
      "execution_count": 32,
      "metadata": {
        "id": "Aq0X5QV55ZH4"
      },
      "outputs": [],
      "source": [
        "class Adam():\n",
        "    def __init__(self, Module, learning_rate=0.001, beta1=0.9, beta2=0.95, epsilon=1e-5):\n",
        "\n",
        "        self.learning_rate = learning_rate\n",
        "        self.beta1 = beta1\n",
        "        self.beta2 = beta2\n",
        "        self.epsilon = epsilon\n",
        "\n",
        "        self.grad_parameters = Module.getGradParameters()\n",
        "        self.parameters = Module.getParameters()\n",
        "        self.h = []\n",
        "        self.G = []\n",
        "        for i in range(len(self.grad_parameters)):\n",
        "          for j in range(len(self.grad_parameters[i])):\n",
        "            self.h = self.h + [np.zeros_like(self.grad_parameters[i][j])]\n",
        "            self.G = self.G + [np.zeros_like(self.grad_parameters[i][j])]\n",
        "        self.t = 0\n",
        "    def step(self):\n",
        "        k=0\n",
        "        for i in range(len(self.grad_parameters)):\n",
        "          for j in range(len(self.grad_parameters[i])):\n",
        "            self.h[k] = self.beta1 * self.h[k] + (1 - self.beta1) * self.grad_parameters[i][j]\n",
        "            self.G[k] = self.beta2 * self.G[k] + (1 - self.beta2) * (self.grad_parameters[i][j]**2)\n",
        "            h_hat = self.h[k] / (1 - self.beta1**(self.t+1))\n",
        "            G_hat = self.G[k] / (1 - self.beta2**(self.t+1))\n",
        "            self.parameters[i][j] -= self.learning_rate * h_hat / np.sqrt(G_hat+self.epsilon)\n",
        "            k+=1\n",
        "        self.t += 1\n"
      ]
    },
    {
      "cell_type": "markdown",
      "metadata": {
        "id": "byatidUFwPRX"
      },
      "source": [
        "# 2. Мультирегрессия\n",
        "\n",
        "Модель для задачи мультирегрессии на выбраных вами данных. Использовать FCNN, dropout, batchnorm, MSE. Пробуйте различные фукнции активации. Для первой модели попробуйте большую, среднюю и маленькую модель. - 1 балл."
      ]
    },
    {
      "cell_type": "code",
      "execution_count": 33,
      "metadata": {
        "id": "7QeKLkqX_KmR"
      },
      "outputs": [],
      "source": [
        "from sklearn.datasets import make_regression\n",
        "from sklearn.model_selection import train_test_split\n",
        "import matplotlib.pyplot as plt\n",
        "from sklearn.metrics import r2_score\n",
        "\n",
        "X, y = make_regression(n_samples=1000, n_features=10, n_targets=3)\n",
        "X_train, X_test, y_train, y_test = train_test_split(X, y, test_size=0.2, random_state=42)"
      ]
    },
    {
      "cell_type": "code",
      "execution_count": 34,
      "metadata": {
        "colab": {
          "base_uri": "https://localhost:8080/"
        },
        "id": "19Wk2D7vqXA_",
        "outputId": "385664c2-5597-4098-f732-188d0979e335"
      },
      "outputs": [
        {
          "output_type": "execute_result",
          "data": {
            "text/plain": [
              "(800, 3)"
            ]
          },
          "metadata": {},
          "execution_count": 34
        }
      ],
      "source": [
        "y_train.shape"
      ]
    },
    {
      "cell_type": "markdown",
      "metadata": {
        "id": "zzcZBzFUjpIf"
      },
      "source": [
        "### Маленькая модель"
      ]
    },
    {
      "cell_type": "code",
      "execution_count": 37,
      "metadata": {
        "colab": {
          "base_uri": "https://localhost:8080/"
        },
        "id": "D0fYHi8ZjorG",
        "outputId": "79235c15-e382-4597-ef42-0dbf1079afb3"
      },
      "outputs": [
        {
          "output_type": "execute_result",
          "data": {
            "text/plain": [
              "Linear 10 -> 64\n",
              "BatchNormalization\n",
              "ReLU\n",
              "Dropout\n",
              "Linear 64 -> 32\n",
              "BatchNormalization\n",
              "Gelu\n",
              "Dropout\n",
              "Linear 32 -> 3"
            ]
          },
          "metadata": {},
          "execution_count": 37
        }
      ],
      "source": [
        "model_small = Sequential1()\n",
        "\n",
        "model_small.add(Linear(X_train.shape[1], 64))\n",
        "model_small.add(BatchNormalization())\n",
        "model_small.add(ReLU())\n",
        "model_small.add(Dropout(0.1))\n",
        "\n",
        "model_small.add(Linear(64, 32))\n",
        "model_small.add(BatchNormalization())\n",
        "model_small.add(Gelu())\n",
        "model_small.add(Dropout(0.5))\n",
        "\n",
        "model_small.add(Linear(32, 3))\n",
        "\n",
        "model_small"
      ]
    },
    {
      "cell_type": "code",
      "execution_count": 38,
      "metadata": {
        "colab": {
          "base_uri": "https://localhost:8080/",
          "height": 930
        },
        "id": "cIlDB38Trb6c",
        "outputId": "a9d8ccb2-a924-4c77-c75c-6baa592b24a5"
      },
      "outputs": [
        {
          "output_type": "execute_result",
          "data": {
            "text/plain": [
              "<matplotlib.legend.Legend at 0x7c44241eba50>"
            ]
          },
          "metadata": {},
          "execution_count": 38
        },
        {
          "output_type": "display_data",
          "data": {
            "text/plain": [
              "<Figure size 1200x500 with 1 Axes>"
            ],
            "image/png": "[encoded data removed]"
          },
          "metadata": {}
        },
        {
          "output_type": "display_data",
          "data": {
            "text/plain": [
              "<Figure size 1200x500 with 1 Axes>"
            ],
            "image/png": "[encoded data removed]"
          },
          "metadata": {}
        }
      ],
      "source": [
        "criterion = MSECriterion()\n",
        "optimizer = Adam(model_small, learning_rate=0.01)\n",
        "\n",
        "def trainnn(model, criterion, optimizer, num_epochs, batch_size):\n",
        "  train_losses = []\n",
        "  test_losses = []\n",
        "  train_R2 = []\n",
        "  test_R2 = []\n",
        "\n",
        "  for epoch in range(num_epochs):\n",
        "      model.train()\n",
        "      for i in range(0, X_train.shape[0], batch_size):\n",
        "          X_batch = X_train[i:i+batch_size]\n",
        "          y_batch = y_train[i:i+batch_size]\n",
        "\n",
        "          output = model.forward(X_batch)\n",
        "          loss = criterion.updateOutput(output, y_batch)\n",
        "\n",
        "          grad_output = criterion.updateGradInput(output, y_batch)\n",
        "          model.backward(X_batch, grad_output)\n",
        "\n",
        "          optimizer.step()\n",
        "          model.zeroGradParameters()\n",
        "\n",
        "      model.evaluate()\n",
        "      train_output = model.forward(X_train)\n",
        "      train_loss = criterion.forward(train_output, y_train)\n",
        "      train_losses.append(train_loss)\n",
        "      train_R2.append(r2_score(y_train, train_output))\n",
        "\n",
        "      test_output = model.forward(X_test)\n",
        "      test_loss = criterion.forward(test_output, y_test)\n",
        "      test_losses.append(test_loss)\n",
        "      test_R2.append(r2_score(y_test, test_output))\n",
        "  return train_losses, test_losses, train_R2, test_R2\n",
        "\n",
        "train_losses, test_losses, train_R2, test_R2 = trainnn(model_small, criterion, optimizer, 1000, 120)\n",
        "\n",
        "plt.figure(figsize=(12,5))\n",
        "plt.subplot(1,2,1)\n",
        "plt.plot(range(1, len(train_losses)+1), train_losses, label=\"Train\")\n",
        "plt.plot(range(1, len(test_losses)+1), test_losses, label=\"Test\")\n",
        "plt.xlabel(\"Эпохи\")\n",
        "plt.ylabel(\"Loss\")\n",
        "plt.legend()\n",
        "\n",
        "plt.figure(figsize=(12,5))\n",
        "plt.subplot(1,2,2)\n",
        "plt.plot(range(1, len(train_R2)+1), train_R2, label=\"Train\")\n",
        "plt.plot(range(1, len(test_R2)+1), test_R2, label=\"Test\")\n",
        "plt.xlabel(\"Эпохи\")\n",
        "plt.ylabel(\"R2\")\n",
        "plt.legend()"
      ]
    },
    {
      "cell_type": "markdown",
      "metadata": {
        "id": "gPQmkZPBS1wP"
      },
      "source": [
        "## Средняя модель"
      ]
    },
    {
      "cell_type": "code",
      "execution_count": 35,
      "metadata": {
        "colab": {
          "base_uri": "https://localhost:8080/"
        },
        "id": "4t2nY1DmS1ij",
        "outputId": "4fe634cf-9a59-403f-8680-f319bfe64ee0"
      },
      "outputs": [
        {
          "output_type": "execute_result",
          "data": {
            "text/plain": [
              "Linear 10 -> 128\n",
              "BatchNormalization\n",
              "ReLU\n",
              "Dropout\n",
              "Linear 128 -> 64\n",
              "BatchNormalization\n",
              "ReLU\n",
              "Linear 64 -> 32\n",
              "BatchNormalization\n",
              "ReLU\n",
              "Linear 32 -> 16\n",
              "BatchNormalization\n",
              "ReLU\n",
              "Dropout\n",
              "Linear 16 -> 3"
            ]
          },
          "metadata": {},
          "execution_count": 35
        }
      ],
      "source": [
        "model_medium = Sequential1()\n",
        "\n",
        "model_medium.add(Linear(X_train.shape[1], 128))\n",
        "model_medium.add(BatchNormalization())\n",
        "model_medium.add(ReLU())\n",
        "model_medium.add(Dropout(0.2))\n",
        "\n",
        "model_medium.add(Linear(128, 64))\n",
        "model_medium.add(BatchNormalization())\n",
        "model_medium.add(ReLU())\n",
        "\n",
        "model_medium.add(Linear(64, 32))\n",
        "model_medium.add(BatchNormalization())\n",
        "model_medium.add(ReLU())\n",
        "\n",
        "model_medium.add(Linear(32, 16))\n",
        "model_medium.add(BatchNormalization())\n",
        "model_medium.add(ReLU())\n",
        "model_medium.add(Dropout(0.5))\n",
        "\n",
        "\n",
        "model_medium.add(Linear(16, 3))\n",
        "\n",
        "model_medium"
      ]
    },
    {
      "cell_type": "code",
      "execution_count": 36,
      "metadata": {
        "colab": {
          "base_uri": "https://localhost:8080/",
          "height": 930
        },
        "id": "nxLT6x03SkRj",
        "outputId": "2ab3956d-33ce-4557-d332-c481c00131a3"
      },
      "outputs": [
        {
          "output_type": "execute_result",
          "data": {
            "text/plain": [
              "<matplotlib.legend.Legend at 0x7a802623bcd0>"
            ]
          },
          "metadata": {},
          "execution_count": 36
        },
        {
          "output_type": "display_data",
          "data": {
            "text/plain": [
              "<Figure size 1200x500 with 1 Axes>"
            ],
            "image/png": "[encoded data removed]"
          },
          "metadata": {}
        },
        {
          "output_type": "display_data",
          "data": {
            "text/plain": [
              "<Figure size 1200x500 with 1 Axes>"
            ],
            "image/png": "[encoded data removed]"
          },
          "metadata": {}
        }
      ],
      "source": [
        "criterion = MSECriterion()\n",
        "optimizer = Adam(model_medium, learning_rate=0.01)\n",
        "\n",
        "train_losses, test_losses, train_R2, test_R2 = trainnn(model_medium, criterion, optimizer, 1000, 120)\n",
        "\n",
        "plt.figure(figsize=(12,5))\n",
        "plt.subplot(1,2,1)\n",
        "plt.plot(range(1, len(train_losses)+1), train_losses, label=\"Train\")\n",
        "plt.plot(range(1, len(test_losses)+1), test_losses, label=\"Test\")\n",
        "plt.xlabel(\"Эпохи\")\n",
        "plt.ylabel(\"Loss\")\n",
        "plt.legend()\n",
        "\n",
        "plt.figure(figsize=(12,5))\n",
        "plt.subplot(1,2,2)\n",
        "plt.plot(range(1, len(train_R2)+1), train_R2, label=\"Train\")\n",
        "plt.plot(range(1, len(test_R2)+1), test_R2, label=\"Test\")\n",
        "plt.xlabel(\"Эпохи\")\n",
        "plt.ylabel(\"R2\")\n",
        "plt.legend()"
      ]
    },
    {
      "cell_type": "markdown",
      "metadata": {
        "id": "KXhrlK57idUK"
      },
      "source": [
        "## Большая модель"
      ]
    },
    {
      "cell_type": "code",
      "execution_count": 37,
      "metadata": {
        "colab": {
          "base_uri": "https://localhost:8080/"
        },
        "id": "poyY-yycrjWn",
        "outputId": "58dbd76f-97b5-4238-ee98-d67c768911c2"
      },
      "outputs": [
        {
          "output_type": "execute_result",
          "data": {
            "text/plain": [
              "Linear 10 -> 256\n",
              "BatchNormalization\n",
              "ReLU\n",
              "Dropout\n",
              "Linear 256 -> 128\n",
              "BatchNormalization\n",
              "Linear 128 -> 64\n",
              "BatchNormalization\n",
              "ELU\n",
              "Linear 64 -> 32\n",
              "BatchNormalization\n",
              "Gelu\n",
              "Linear 32 -> 16\n",
              "BatchNormalization\n",
              "Gelu\n",
              "Dropout\n",
              "Linear 16 -> 3"
            ]
          },
          "metadata": {},
          "execution_count": 37
        }
      ],
      "source": [
        "model_large = Sequential1()\n",
        "\n",
        "model_large.add(Linear(X_train.shape[1], 256))\n",
        "model_large.add(BatchNormalization())\n",
        "model_large.add(ReLU())\n",
        "model_large.add(Dropout(0.2))\n",
        "\n",
        "model_large.add(Linear(256, 128))\n",
        "model_large.add(BatchNormalization())\n",
        "\n",
        "model_large.add(Linear(128, 64))\n",
        "model_large.add(BatchNormalization())\n",
        "model_large.add(ELU())\n",
        "\n",
        "model_large.add(Linear(64, 32))\n",
        "model_large.add(BatchNormalization())\n",
        "model_large.add(Gelu())\n",
        "\n",
        "model_large.add(Linear(32, 16))\n",
        "model_large.add(BatchNormalization())\n",
        "model_large.add(Gelu())\n",
        "model_large.add(Dropout(0.5))\n",
        "\n",
        "\n",
        "model_large.add(Linear(16, 3))\n",
        "\n",
        "model_large"
      ]
    },
    {
      "cell_type": "code",
      "execution_count": 38,
      "metadata": {
        "colab": {
          "base_uri": "https://localhost:8080/",
          "height": 930
        },
        "id": "hBlftAjtaiR4",
        "outputId": "9d3ebb32-143f-4c3b-8895-b26c333263b0"
      },
      "outputs": [
        {
          "output_type": "execute_result",
          "data": {
            "text/plain": [
              "<matplotlib.legend.Legend at 0x7a80265fed50>"
            ]
          },
          "metadata": {},
          "execution_count": 38
        },
        {
          "output_type": "display_data",
          "data": {
            "text/plain": [
              "<Figure size 1200x500 with 1 Axes>"
            ],
            "image/png": "[encoded data removed]"
          },
          "metadata": {}
        },
        {
          "output_type": "display_data",
          "data": {
            "text/plain": [
              "<Figure size 1200x500 with 1 Axes>"
            ],
            "image/png": "[encoded data removed]"
          },
          "metadata": {}
        }
      ],
      "source": [
        "criterion = MSECriterion()\n",
        "optimizer = Adam(model_large, learning_rate=0.01)\n",
        "\n",
        "train_losses, test_losses, train_R2, test_R2 = trainnn(model_large, criterion, optimizer, 1000, 128)\n",
        "\n",
        "plt.figure(figsize=(12,5))\n",
        "plt.subplot(1,2,1)\n",
        "plt.plot(range(1, len(train_losses)+1), train_losses, label=\"Train\")\n",
        "plt.plot(range(1, len(test_losses)+1), test_losses, label=\"Test\")\n",
        "plt.xlabel(\"Эпохи\")\n",
        "plt.ylabel(\"Loss\")\n",
        "plt.legend()\n",
        "\n",
        "plt.figure(figsize=(12,5))\n",
        "plt.subplot(1,2,2)\n",
        "plt.plot(range(1, len(train_R2)+1), train_R2, label=\"Train\")\n",
        "plt.plot(range(1, len(test_R2)+1), test_R2, label=\"Test\")\n",
        "plt.xlabel(\"Эпохи\")\n",
        "plt.ylabel(\"R2\")\n",
        "plt.legend()"
      ]
    },
    {
      "cell_type": "markdown",
      "source": [],
      "metadata": {
        "id": "yeGuQFwwLr0J"
      }
    },
    {
      "cell_type": "markdown",
      "metadata": {
        "id": "yhP8CPcG5dfh"
      },
      "source": [
        "# 3. MNIST"
      ]
    },
    {
      "cell_type": "code",
      "execution_count": 47,
      "metadata": {
        "id": "SXSTqXBu6Nyu"
      },
      "outputs": [],
      "source": [
        "from torchvision.datasets import MNIST\n",
        "import torchvision.transforms as T\n",
        "\n",
        "train_set = MNIST('.MNIST', transform=T.ToTensor(), train=True, download=True)\n",
        "test_set = MNIST('.MNIST', transform=T.ToTensor(), train=False, download=True)\n",
        "\n",
        "X_train = np.expand_dims(train_set.data.numpy(), axis=1)\n",
        "y_train = np.expand_dims(train_set.targets.numpy(), axis=1)\n",
        "\n",
        "X_test = np.expand_dims(test_set.data.numpy(), axis=1)\n",
        "y_test = np.expand_dims(test_set.targets.numpy(), axis=1)\n",
        "\n",
        "X_train = X_train / 255.0\n",
        "X_test = X_test / 255.0\n",
        "\n",
        "X_train_small, _, y_train_small, _ = train_test_split(\n",
        "    X_train, y_train,\n",
        "    train_size=1000,\n",
        "    stratify=y_train,\n",
        ")\n",
        "\n",
        "X_test_small, _, y_test_small, _ = train_test_split(\n",
        "    X_test, y_test,\n",
        "    train_size=200,\n",
        "    stratify=y_test,\n",
        ")"
      ]
    },
    {
      "cell_type": "code",
      "execution_count": 48,
      "metadata": {
        "colab": {
          "base_uri": "https://localhost:8080/"
        },
        "id": "vVtX9oF8YTcI",
        "outputId": "79cfe925-0958-4900-9f45-259eabc5226d"
      },
      "outputs": [
        {
          "output_type": "execute_result",
          "data": {
            "text/plain": [
              "(1000, 1, 28, 28)"
            ]
          },
          "metadata": {},
          "execution_count": 48
        }
      ],
      "source": [
        "X_train_small.shape"
      ]
    },
    {
      "cell_type": "code",
      "execution_count": 49,
      "metadata": {
        "colab": {
          "base_uri": "https://localhost:8080/"
        },
        "id": "IevwEVC35pfq",
        "outputId": "6abe37c7-a2be-4e4d-8efa-6be63ee98737"
      },
      "outputs": [
        {
          "output_type": "execute_result",
          "data": {
            "text/plain": [
              "Conv2d\n",
              "BatchNormalization\n",
              "ReLU\n",
              "MaxPool2d\n",
              "Flatten\n",
              "Linear 5408 -> 128\n",
              "Dropout\n",
              "Linear 128 -> 10\n",
              "SoftMax"
            ]
          },
          "metadata": {},
          "execution_count": 49
        }
      ],
      "source": [
        "model_MNIST = Sequential1()\n",
        "\n",
        "model_MNIST.add(Conv2d(1, 32, kernel_size=3,stride=1, padding=0, bias=True, padding_mode='zeros'))\n",
        "model_MNIST.add(BatchNormalization())\n",
        "model_MNIST.add(ReLU())\n",
        "model_MNIST.add(MaxPool2d(kernel_size=2, stride=2, padding=0))\n",
        "\n",
        "#model_MNIST.add(Conv2d(32, 64, kernel_size=3,stride=1, padding=0, bias=True, padding_mode='zeros'))\n",
        "#model_MNIST.add(BatchNormalization())\n",
        "#model_MNIST.add(ReLU())\n",
        "#model_MNIST.add(MaxPool2d(kernel_size=2, stride=2, padding=0))\n",
        "\n",
        "model_MNIST.add(Flatten( start_dim=1))\n",
        "model_MNIST.add(Linear(32*13*13, 128))\n",
        "model_MNIST.add(Dropout(0.5))\n",
        "model_MNIST.add(Linear(128, 10))\n",
        "model_MNIST.add(SoftMax())\n",
        "model_MNIST"
      ]
    },
    {
      "cell_type": "code",
      "execution_count": 50,
      "metadata": {
        "id": "q5IeNpZ1LX74"
      },
      "outputs": [],
      "source": [
        "criterion = ClassNLLCriterionUnstable()\n",
        "optimizer = Adam(model_MNIST, learning_rate=0.01)\n",
        "\n",
        "def train_class(model, criterion, optimizer, num_epochs, batch_size):\n",
        "  train_losses = []\n",
        "  test_losses = []\n",
        "\n",
        "  for epoch in range(num_epochs):\n",
        "      model.train()\n",
        "      for i in range(0, X_train_small.shape[0], batch_size):\n",
        "          X_batch = X_train_small[i:i+batch_size]\n",
        "          y_batch = y_train_small[i:i+batch_size]\n",
        "\n",
        "          output = model.forward(X_batch)\n",
        "          loss = criterion.updateOutput(output, y_batch)\n",
        "\n",
        "          grad_output = criterion.updateGradInput(output, y_batch)\n",
        "          model.backward(X_batch, grad_output)\n",
        "\n",
        "          optimizer.step()\n",
        "          model.zeroGradParameters()\n",
        "\n",
        "      model.evaluate()\n",
        "      train_output = model.forward(X_train_small)\n",
        "      train_loss = criterion.forward(train_output, y_train_small)\n",
        "      train_losses.append(train_loss)\n",
        "\n",
        "      test_output = model.forward(X_test_small)\n",
        "      test_loss = criterion.forward(test_output, y_test_small)\n",
        "      test_losses.append(test_loss)\n",
        "  return train_losses, test_losses\n",
        "\n",
        "train_losses, test_losses = train_class(model_MNIST, criterion, optimizer, 5, 128)"
      ]
    },
    {
      "cell_type": "code",
      "execution_count": 51,
      "metadata": {
        "id": "912hOfDsRzXN",
        "colab": {
          "base_uri": "https://localhost:8080/",
          "height": 482
        },
        "outputId": "63ae2930-9258-42e5-e047-d48c905741e6"
      },
      "outputs": [
        {
          "output_type": "execute_result",
          "data": {
            "text/plain": [
              "<matplotlib.legend.Legend at 0x7a80261d6390>"
            ]
          },
          "metadata": {},
          "execution_count": 51
        },
        {
          "output_type": "display_data",
          "data": {
            "text/plain": [
              "<Figure size 1200x500 with 1 Axes>"
            ],
            "image/png": "[encoded data removed]"
          },
          "metadata": {}
        }
      ],
      "source": [
        "plt.figure(figsize=(12,5))\n",
        "plt.subplot(1,2,1)\n",
        "plt.plot(range(1, len(train_losses)+1), train_losses, label=\"Train\")\n",
        "plt.plot(range(1, len(test_losses)+1), test_losses, label=\"Test\")\n",
        "plt.xlabel(\"Эпохи\")\n",
        "plt.ylabel(\"Loss\")\n",
        "plt.legend()"
      ]
    },
    {
      "cell_type": "markdown",
      "metadata": {
        "id": "-iJiswCDtGCW"
      },
      "source": [
        "#Автоэнкодер ( не получилось :( )"
      ]
    },
    {
      "cell_type": "code",
      "source": [
        "from torchvision.datasets import MNIST\n",
        "import torchvision.transforms as T\n",
        "\n",
        "train_set = MNIST('.MNIST', transform=T.ToTensor(), train=True, download=True)\n",
        "test_set = MNIST('.MNIST', transform=T.ToTensor(), train=False, download=True)\n",
        "\n",
        "X_train = np.expand_dims(train_set.data.numpy(), axis=1)\n",
        "y_train = np.expand_dims(train_set.targets.numpy(), axis=1)\n",
        "\n",
        "X_test = np.expand_dims(test_set.data.numpy(), axis=1)\n",
        "y_test = np.expand_dims(test_set.targets.numpy(), axis=1)\n",
        "\n",
        "X_train = X_train / 255.0\n",
        "X_test = X_test / 255.0\n",
        "\n",
        "X_train_small, _, y_train_small, _ = train_test_split(\n",
        "    X_train, y_train,\n",
        "    train_size=100,\n",
        "    stratify=y_train,\n",
        ")\n",
        "\n",
        "X_test_small, _, y_test_small, _ = train_test_split(\n",
        "    X_test, y_test,\n",
        "    train_size=20,\n",
        "    stratify=y_test,\n",
        ")"
      ],
      "metadata": {
        "id": "0BWnbBa1ldmP"
      },
      "execution_count": 57,
      "outputs": []
    },
    {
      "cell_type": "code",
      "source": [
        "encoder = Sequential1()\n",
        "encoder.add(Conv2d(1, 32, kernel_size=3, stride=1))\n",
        "encoder.add(BatchNormalization())\n",
        "encoder.add(ReLU())\n",
        "encoder.add(MaxPool2d(kernel_size=2, stride=2))\n",
        "\n",
        "encoder.add(Conv2d(32, 64, kernel_size=3, stride=1))\n",
        "encoder.add(BatchNormalization())\n",
        "encoder.add(ReLU())\n",
        "encoder.add(MaxPool2d(kernel_size=2, stride=2))\n",
        "\n",
        "encoder.add(Flatten())\n",
        "encoder.add(Linear(64 * 5 * 5, 128))\n",
        "encoder.add(Gelu())"
      ],
      "metadata": {
        "id": "0MHy6n_N3q9S"
      },
      "execution_count": 56,
      "outputs": []
    },
    {
      "cell_type": "code",
      "source": [
        "class Reshape(Module):\n",
        "    def __init__(self, output_shape):\n",
        "        super(Reshape, self).__init__()\n",
        "        self.output_shape = output_shape\n",
        "\n",
        "    def updateOutput(self, input):\n",
        "        self.output = input.reshape(input.shape[0], self.output_shape)\n",
        "        return self.output\n",
        "\n",
        "    def updateGradInput(self, input, gradOutput):\n",
        "        self.gradInput = gradOutput.reshape(input.shape)\n",
        "        return self.gradInput\n",
        "\n",
        "    def __repr__(self):\n",
        "        return \"Reshape\""
      ],
      "metadata": {
        "id": "Bg-KVrMMl_NN"
      },
      "execution_count": 58,
      "outputs": []
    },
    {
      "cell_type": "markdown",
      "source": [
        "Я вот тут запнулась и не успела разобраться как нормально decoder написать"
      ],
      "metadata": {
        "id": "UjN1Uwz5sDf1"
      }
    },
    {
      "cell_type": "code",
      "source": [
        "decoder = Sequential1()\n",
        "decoder.add(Linear(128, 64 * 5 * 5))\n",
        "decoder.add(ReLU())\n",
        "decoder.add(Reshape(-1, 64, 5, 5))\n",
        "\n",
        "decoder.add(Conv2d(64, 32, kernel_size=3, stride=1, padding=1))\n",
        "decoder.add(BatchNormalization())\n",
        "decoder.add(ReLU())\n",
        "decoder.add(AvgPool2d(kernel_size=2, stride=2, padding=0))\n",
        "\n",
        "decoder.add(Conv2d(32, 1, kernel_size=3, stride=1, padding=1))\n",
        "decoder.add(ReLU())"
      ],
      "metadata": {
        "id": "KOZLiNwk3zqM"
      },
      "execution_count": 54,
      "outputs": []
    },
    {
      "cell_type": "code",
      "execution_count": 55,
      "metadata": {
        "id": "fQIkWb8itFre"
      },
      "outputs": [],
      "source": [
        "class Autoencoder():\n",
        "    def __init__(self, encoder, decoder):\n",
        "        self.encoder = encoder\n",
        "        self.decoder = decoder\n",
        "\n",
        "    def forward(self, x):\n",
        "        encoded = self.encoder.forward(x)\n",
        "        decoded = self.decoder.forward(encoded)\n",
        "        return decoded\n",
        "\n",
        "    def backward(self, x, grad_output):\n",
        "        grad_decoder = self.decoder.backward(x, grad_output)\n",
        "        grad_encoder = self.encoder.backward(x, grad_decoder)\n",
        "        return grad_encoder\n",
        "\n",
        "autoencoder = Autoencoder(encoder, decoder)"
      ]
    },
    {
      "cell_type": "code",
      "source": [],
      "metadata": {
        "id": "edDhfxodgo6A"
      },
      "execution_count": null,
      "outputs": []
    }
  ],
  "metadata": {
    "colab": {
      "toc_visible": true,
      "provenance": []
    },
    "kernelspec": {
      "display_name": "Python 2",
      "language": "python",
      "name": "python2"
    },
    "language_info": {
      "codemirror_mode": {
        "name": "ipython",
        "version": 2
      },
      "file_extension": ".py",
      "mimetype": "text/x-python",
      "name": "python",
      "nbconvert_exporter": "python",
      "pygments_lexer": "ipython2",
      "version": "2.7.12"
    }
  },
  "nbformat": 4,
  "nbformat_minor": 0
}