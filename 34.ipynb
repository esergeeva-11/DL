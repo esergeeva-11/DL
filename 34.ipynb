{
 "cells": [
  {
   "cell_type": "markdown",
   "id": "d0fc919f-08ca-424a-9ba3-07ee04e92a66",
   "metadata": {},
   "source": [
    "# Пакеты"
   ]
  },
  {
   "cell_type": "code",
   "execution_count": 1,
   "id": "ee9645d8-266d-445c-a9d5-703052e9f85d",
   "metadata": {
    "execution": {
     "iopub.execute_input": "2025-05-18T10:40:23.821672Z",
     "iopub.status.busy": "2025-05-18T10:40:23.820763Z",
     "iopub.status.idle": "2025-05-18T10:41:02.102041Z",
     "shell.execute_reply": "2025-05-18T10:41:02.101128Z",
     "shell.execute_reply.started": "2025-05-18T10:40:23.821629Z"
    },
    "tags": []
   },
   "outputs": [],
   "source": [
    "import numpy as np\n",
    "import pandas as pd\n",
    "import seaborn as sns\n",
    "import matplotlib.pyplot as plt\n",
    "\n",
    "import re\n",
    "import nltk\n",
    "from nltk.corpus import stopwords\n",
    "from nltk.stem import WordNetLemmatizer\n",
    "from tqdm import tqdm\n",
    "from nltk.corpus import stopwords\n",
    "from pymorphy2 import MorphAnalyzer\n",
    "import torch\n",
    "import torch.nn as nn\n",
    "from torch.utils.data import Dataset, DataLoader\n",
    "\n",
    "from sklearn.feature_extraction.text import TfidfVectorizer\n",
    "from sklearn.neural_network import MLPClassifier\n",
    "\n",
    "from sklearn.model_selection import train_test_split\n",
    "import torch.optim as optim"
   ]
  },
  {
   "cell_type": "markdown",
   "id": "bcc834e0-bfc1-41bf-adb9-27127a13f6fb",
   "metadata": {},
   "source": [
    "# Анализ данных"
   ]
  },
  {
   "cell_type": "code",
   "execution_count": 2,
   "id": "c3a0c11a-9a58-4dbc-b1da-0102c5e9e42b",
   "metadata": {
    "execution": {
     "iopub.execute_input": "2025-05-18T10:41:02.108505Z",
     "iopub.status.busy": "2025-05-18T10:41:02.107563Z",
     "iopub.status.idle": "2025-05-18T10:41:02.128448Z",
     "shell.execute_reply": "2025-05-18T10:41:02.127708Z",
     "shell.execute_reply.started": "2025-05-18T10:41:02.108462Z"
    },
    "tags": []
   },
   "outputs": [],
   "source": [
    "path_train = 'train.csv'"
   ]
  },
  {
   "cell_type": "code",
   "execution_count": 3,
   "id": "7410b7c2-93d9-4b17-a20b-ccf5b6079019",
   "metadata": {
    "execution": {
     "iopub.execute_input": "2025-05-18T10:41:02.131395Z",
     "iopub.status.busy": "2025-05-18T10:41:02.130404Z",
     "iopub.status.idle": "2025-05-18T10:41:03.201940Z",
     "shell.execute_reply": "2025-05-18T10:41:03.201098Z",
     "shell.execute_reply.started": "2025-05-18T10:41:02.131339Z"
    },
    "tags": []
   },
   "outputs": [
    {
     "name": "stdout",
     "output_type": "stream",
     "text": [
      "(29568, 3)\n"
     ]
    },
    {
     "data": {
      "text/html": [
       "<div>\n",
       "<style scoped>\n",
       "    .dataframe tbody tr th:only-of-type {\n",
       "        vertical-align: middle;\n",
       "    }\n",
       "\n",
       "    .dataframe tbody tr th {\n",
       "        vertical-align: top;\n",
       "    }\n",
       "\n",
       "    .dataframe thead th {\n",
       "        text-align: right;\n",
       "    }\n",
       "</style>\n",
       "<table border=\"1\" class=\"dataframe\">\n",
       "  <thead>\n",
       "    <tr style=\"text-align: right;\">\n",
       "      <th></th>\n",
       "      <th>id</th>\n",
       "      <th>text</th>\n",
       "      <th>labels</th>\n",
       "    </tr>\n",
       "  </thead>\n",
       "  <tbody>\n",
       "    <tr>\n",
       "      <th>0</th>\n",
       "      <td>0</td>\n",
       "      <td>15 января\\nДетская развлекательная программа\\n...</td>\n",
       "      <td>1 0 0 0 1 0 0 0 1 0 0 0 1 1 1 1 1 0 0 1</td>\n",
       "    </tr>\n",
       "    <tr>\n",
       "      <th>1</th>\n",
       "      <td>1</td>\n",
       "      <td>13 и 14 августа\\nВыходные в Меге\\nhttps://t.me...</td>\n",
       "      <td>0 0 0 1 0 0 0 0 1 0 0 0 1 1 0 1 1 0 0 1</td>\n",
       "    </tr>\n",
       "    <tr>\n",
       "      <th>2</th>\n",
       "      <td>2</td>\n",
       "      <td>Йокнапатофа\\nПостановка Театр им. Маяковского\\...</td>\n",
       "      <td>0 0 0 0 1 0 0 0 0 0 0 0 1 1 0 1 1 0 0 1</td>\n",
       "    </tr>\n",
       "    <tr>\n",
       "      <th>3</th>\n",
       "      <td>3</td>\n",
       "      <td>Впервые в Уфе танцевальная терапия в группе с ...</td>\n",
       "      <td>1 1 0 0 1 0 0 1 1 1 1 1 1 1 1 0 0 1 1 0</td>\n",
       "    </tr>\n",
       "    <tr>\n",
       "      <th>4</th>\n",
       "      <td>4</td>\n",
       "      <td>🎹\\nGRAND PIANO COMPETITION\\n🎹\\nДрузья, сегодня...</td>\n",
       "      <td>1 1 0 0 0 0 0 1 1 0 0 1 1 1 1 0 1 1 1 0</td>\n",
       "    </tr>\n",
       "  </tbody>\n",
       "</table>\n",
       "</div>"
      ],
      "text/plain": [
       "   id  ...                                   labels\n",
       "0   0  ...  1 0 0 0 1 0 0 0 1 0 0 0 1 1 1 1 1 0 0 1\n",
       "1   1  ...  0 0 0 1 0 0 0 0 1 0 0 0 1 1 0 1 1 0 0 1\n",
       "2   2  ...  0 0 0 0 1 0 0 0 0 0 0 0 1 1 0 1 1 0 0 1\n",
       "3   3  ...  1 1 0 0 1 0 0 1 1 1 1 1 1 1 1 0 0 1 1 0\n",
       "4   4  ...  1 1 0 0 0 0 0 1 1 0 0 1 1 1 1 0 1 1 1 0\n",
       "\n",
       "[5 rows x 3 columns]"
      ]
     },
     "execution_count": 3,
     "metadata": {},
     "output_type": "execute_result"
    }
   ],
   "source": [
    "train = pd.read_csv(path_train)\n",
    "print(train.shape)\n",
    "train.head()"
   ]
  },
  {
   "cell_type": "code",
   "execution_count": 4,
   "id": "e23b677e-7b42-4633-9902-a26281b0cc3e",
   "metadata": {
    "execution": {
     "iopub.execute_input": "2025-05-18T10:41:03.203961Z",
     "iopub.status.busy": "2025-05-18T10:41:03.202876Z",
     "iopub.status.idle": "2025-05-18T10:41:03.300698Z",
     "shell.execute_reply": "2025-05-18T10:41:03.299813Z",
     "shell.execute_reply.started": "2025-05-18T10:41:03.203918Z"
    },
    "tags": []
   },
   "outputs": [],
   "source": [
    "train.drop('id', axis=1, inplace=True)"
   ]
  },
  {
   "cell_type": "code",
   "execution_count": 5,
   "id": "d7ef90da-22dd-45ca-9619-37d47b177b60",
   "metadata": {
    "execution": {
     "iopub.execute_input": "2025-05-18T10:41:03.302248Z",
     "iopub.status.busy": "2025-05-18T10:41:03.301845Z",
     "iopub.status.idle": "2025-05-18T10:41:03.409407Z",
     "shell.execute_reply": "2025-05-18T10:41:03.408662Z",
     "shell.execute_reply.started": "2025-05-18T10:41:03.302215Z"
    },
    "tags": []
   },
   "outputs": [
    {
     "name": "stdout",
     "output_type": "stream",
     "text": [
      "<class 'pandas.core.frame.DataFrame'>\n",
      "RangeIndex: 29568 entries, 0 to 29567\n",
      "Data columns (total 2 columns):\n",
      " #   Column  Non-Null Count  Dtype \n",
      "---  ------  --------------  ----- \n",
      " 0   text    29568 non-null  object\n",
      " 1   labels  29568 non-null  object\n",
      "dtypes: object(2)\n",
      "memory usage: 462.1+ KB\n"
     ]
    }
   ],
   "source": [
    "train.info()"
   ]
  },
  {
   "cell_type": "code",
   "execution_count": 6,
   "id": "099d969a-b5a2-4544-80e6-eb12de2cd663",
   "metadata": {
    "execution": {
     "iopub.execute_input": "2025-05-18T10:41:03.411119Z",
     "iopub.status.busy": "2025-05-18T10:41:03.410360Z",
     "iopub.status.idle": "2025-05-18T10:41:03.643024Z",
     "shell.execute_reply": "2025-05-18T10:41:03.642180Z",
     "shell.execute_reply.started": "2025-05-18T10:41:03.411085Z"
    },
    "tags": []
   },
   "outputs": [
    {
     "name": "stdout",
     "output_type": "stream",
     "text": [
      "Кол-во дубликатов: 2114\n",
      "Кол-во пропущеных значений:\n",
      " text      0\n",
      "labels    0\n",
      "dtype: int64\n"
     ]
    }
   ],
   "source": [
    "print('Кол-во дубликатов:', sum(train.duplicated()))\n",
    "print('Кол-во пропущеных значений:\\n',np.sum(train.isna()))"
   ]
  },
  {
   "cell_type": "code",
   "execution_count": 7,
   "id": "703df5c5-fc7a-46d7-b711-39e1d67e8c00",
   "metadata": {
    "execution": {
     "iopub.execute_input": "2025-05-18T10:41:03.645129Z",
     "iopub.status.busy": "2025-05-18T10:41:03.644028Z",
     "iopub.status.idle": "2025-05-18T10:41:03.862322Z",
     "shell.execute_reply": "2025-05-18T10:41:03.860985Z",
     "shell.execute_reply.started": "2025-05-18T10:41:03.645090Z"
    },
    "tags": []
   },
   "outputs": [
    {
     "name": "stdout",
     "output_type": "stream",
     "text": [
      "Кол-во дубликатов: 0\n",
      "(27454, 2)\n"
     ]
    }
   ],
   "source": [
    "train.drop_duplicates(inplace=True)\n",
    "print('Кол-во дубликатов:', sum(train.duplicated()))\n",
    "print(train.shape)"
   ]
  },
  {
   "cell_type": "code",
   "execution_count": 8,
   "id": "746e82af-af5a-4f79-b3b9-d23b057dc42d",
   "metadata": {
    "execution": {
     "iopub.execute_input": "2025-05-18T10:41:03.863642Z",
     "iopub.status.busy": "2025-05-18T10:41:03.863210Z",
     "iopub.status.idle": "2025-05-18T10:41:04.604379Z",
     "shell.execute_reply": "2025-05-18T10:41:04.603209Z",
     "shell.execute_reply.started": "2025-05-18T10:41:03.863609Z"
    },
    "tags": []
   },
   "outputs": [
    {
     "data": {
      "image/png": "[encoded data removed]",
      "text/plain": [
       "<Figure size 640x480 with 1 Axes>"
      ]
     },
     "metadata": {},
     "output_type": "display_data"
    }
   ],
   "source": [
    "labels = train['labels'].str.split(expand=True).apply(pd.to_numeric)\n",
    "n_class = labels.sum(axis=0)\n",
    "n_class.plot(kind='bar');"
   ]
  },
  {
   "cell_type": "code",
   "execution_count": 9,
   "id": "3a4b269e-4dfc-4662-a292-3b9c838fab73",
   "metadata": {
    "execution": {
     "iopub.execute_input": "2025-05-18T10:41:04.608258Z",
     "iopub.status.busy": "2025-05-18T10:41:04.607286Z",
     "iopub.status.idle": "2025-05-18T10:41:04.674876Z",
     "shell.execute_reply": "2025-05-18T10:41:04.674002Z",
     "shell.execute_reply.started": "2025-05-18T10:41:04.608223Z"
    },
    "tags": []
   },
   "outputs": [
    {
     "name": "stdout",
     "output_type": "stream",
     "text": [
      "Минимальное кол-во примеров класса:  97\n",
      "Максимальное кол-во примеров класса: 22649\n"
     ]
    }
   ],
   "source": [
    "print('Минимальное кол-во примеров класса: ', min(n_class))\n",
    "print('Максимальное кол-во примеров класса:', max(n_class))"
   ]
  },
  {
   "cell_type": "code",
   "execution_count": 10,
   "id": "fea509d5-28cb-471b-a5c0-c862ee8f4d0f",
   "metadata": {
    "execution": {
     "iopub.execute_input": "2025-05-18T10:41:04.676152Z",
     "iopub.status.busy": "2025-05-18T10:41:04.675757Z",
     "iopub.status.idle": "2025-05-18T10:41:04.702243Z",
     "shell.execute_reply": "2025-05-18T10:41:04.701396Z",
     "shell.execute_reply.started": "2025-05-18T10:41:04.676120Z"
    },
    "tags": []
   },
   "outputs": [
    {
     "name": "stdout",
     "output_type": "stream",
     "text": [
      "['PRO standup MONEY MIC\\n22 марта\\n«Самый энергичный комедийный формат - рубилово комиков за живые бабосики, если ты такого еще не видел, то многое пропустил!\\nНо не переживай, подскажу тебе как все исправить...\\nВсе предельно просто - бронируй билет и приходи: перестань откладывать жизнь на завтра, кайфуй уже сегодня\\n😁\\n-Пиво у нас есть,\\n-Настойки есть,\\n-Еда вкусная есть,\\n-Комики смешные есть\\nА тебя нет.\\nТы нам нужен, чтобы выбрать победителя и поддержать ведущего\\n💥\\n»\\nСтрого 18+\\n⏰\\nСбор гостей с 21:30, начало в 22:00\\n📍\\nPopravka.bar\\n, Лиговский пр-кт, 50Ц (м. Пл. Восстания/Лиговский пр.)\\nВход: от 500р.\\n🔥\\nСкидка 20% по промокоду\\nFAT\\nБилеты по ссылке'\n",
      " '🎭\\n3 декабря в 19:00 на сцене  Дворец искусств Ленинградской области (ДК им. Горького) мистическая комедия «Чудо в большом городе»\\n🤩\\nТолько для подписчиков канала действует скидка 50% по промокоду: CHUDO50\\n🏃\\nТоропитесь приобрести билеты\\n🤩\\n«Чудо в большом городе» – это смешная и трогательная комедия в стиле городских сказок, после просмотра которой зрители начинают верить, что чудеса могут произойти и с ними, стоит лишь выйти из театра!\\nНа сцене звезды российского кино и театра:\\n📌\\nЕвгения Осипова\\n📌\\nАнатолий Руденко\\n📌\\nАндрей Гайдулян\\n📌\\nВера Буянова\\n📌\\nРоман Шумилов\\nБилеты со скидкой можно приобрести по ссылке:\\nhttps://spb.kassir.ru/teatr/chudo-v-bolshom-gorode'\n",
      " 'Tango Orchestra Misterioso\\n13 Августа Jam Club Москва НАЧАЛО в 20:30\\nВ этот вечер можно ощутить мощную энергетику аргентинского танго, от его классических до современных воплощений. Хриплые звуки бандонеонов, утончённые звуки, рождаемые скольжением смычка по струнам виолончели и скрипок в компании рояля и гулкого контрабаса, погрузят вас в обстановку чувственности и наэлектризуют вашу кровь до предела, позволят почувствовать биение танго в своём сердце.\\n💲\\nЦены: от 1500 до 2000 руб.\\n💲\\nЦены со скидкой: от 1000 до 1300 руб.\\n‼️\\nДля заказа пишите нашему менеджеру\\n@menedger_koncert']\n"
     ]
    }
   ],
   "source": [
    "print(train[\"text\"].sample(3).values)"
   ]
  },
  {
   "cell_type": "markdown",
   "id": "26cc0456-9f89-4985-ba54-7489122a72d5",
   "metadata": {},
   "source": [
    "Выводы:\n",
    "1. Дисбаланс классов\n",
    "2. В текстах присутствуют эмодзи, жаргонизмы, URL, ники (пример: @afisha_RB), хештеги, даты и числа"
   ]
  },
  {
   "cell_type": "markdown",
   "id": "3a34922f-273a-4a86-a358-504a091a330e",
   "metadata": {
    "tags": []
   },
   "source": [
    "# Очистка текста"
   ]
  },
  {
   "cell_type": "markdown",
   "id": "54874719-c439-462b-a4ad-33c436a11828",
   "metadata": {},
   "source": [
    "## tf-idf + любая нейронная сеть"
   ]
  },
  {
   "cell_type": "markdown",
   "id": "5328dee5-f1d9-4214-ae76-14f0a03a82fb",
   "metadata": {},
   "source": [
    "- Удалить лишнее (эмодзи, URL и тд).\n",
    "- Нормализовать текст\n",
    "- Удалить предлоги, указательные местоимения\n",
    "- Лемматизировать слова "
   ]
  },
  {
   "cell_type": "code",
   "execution_count": 11,
   "id": "872a8a6e-3d38-4b99-8d69-9d889076a0b5",
   "metadata": {
    "execution": {
     "iopub.execute_input": "2025-05-18T10:41:04.704433Z",
     "iopub.status.busy": "2025-05-18T10:41:04.703120Z",
     "iopub.status.idle": "2025-05-18T10:41:04.750410Z",
     "shell.execute_reply": "2025-05-18T10:41:04.749552Z",
     "shell.execute_reply.started": "2025-05-18T10:41:04.704387Z"
    },
    "tags": []
   },
   "outputs": [],
   "source": [
    "def preprocess_tf(text):\n",
    "    text = text.lower()                                        # к нижнему регистру\n",
    "    \n",
    "    text = re.sub(r\"http\\S+|@\\w+|#\\w+\", \"\", text)              # удаляет хештеги,ссылки.. \n",
    "    text = re.sub(r'\\d+', '', text)                            # удаление чисел\n",
    "    text = re.sub(r'[^a-zа-яё\\s]', '', text)                  # убирает эмодзи и другие символы\n",
    "    text = re.sub(r'\\s+', ' ', text).strip()\n",
    "    \n",
    "    stop_words = set(stopwords.words('russian'))\n",
    "    words = text.split()\n",
    "    lemmatizer = MorphAnalyzer()\n",
    "    words = [lemmatizer.parse(w)[0].normal_form for w in words if w not in stop_words]\n",
    "    return ' '.join(words)"
   ]
  },
  {
   "cell_type": "code",
   "execution_count": 12,
   "id": "8e3d3be8-d1ad-49f2-8937-009e7bb3a6cc",
   "metadata": {
    "execution": {
     "iopub.execute_input": "2025-05-18T10:41:04.752645Z",
     "iopub.status.busy": "2025-05-18T10:41:04.751495Z",
     "iopub.status.idle": "2025-05-18T10:41:06.640987Z",
     "shell.execute_reply": "2025-05-18T10:41:06.640223Z",
     "shell.execute_reply.started": "2025-05-18T10:41:04.752604Z"
    },
    "tags": []
   },
   "outputs": [
    {
     "name": "stdout",
     "output_type": "stream",
     "text": [
      "Неповторимый оргиниал: \n",
      " ['Спектакль Дублеры\\n1 ИЮЛЯ Театр на Мельникова МОСКВА НАЧАЛО в 16:00\\nЗрителю всегда интересно, что происходит за кулисами. Слухи, сплетни, зависть, ложь, любовь, измены и интриги. В результате этого гримерка превращается в бедлам, хаос переносится на сцену, а спектакль начинает жить своей, очень смешной жизнью.\\nИскрящиеся юмором диалоги и непредсказуемый сюжет держат внимание до самой последней реплики, заставляют зрителя строить самые невероятные предположения.\\nПродолжительность спектакля - 2 часа с антрактом.\\n💲\\nЦены: от 400 до 2500 руб.\\n💲\\nЦены со скидкой: от 200 до 1600 руб.\\n‼️\\nДля заказа пишите нашему менеджеру\\n@menedger_koncert']\n",
      "Жалкая пародия: \n",
      " ['спектакль дублёр июль театр мельников москва начало зритель интересно происходить кулиса слух сплетня зависть ложь любовь измена интрига результат гримёрка превращаться бедлам хаос переноситься сцена спектакль начинать жить свой очень смешной жизнь искриться юмор диалог непредсказуемый сюжет держать внимание сам последний реплика заставлять зритель строить самый невероятный предположение продолжительность спектакль час антракт цена руб цена скидка руб заказ писать наш менеджер']\n"
     ]
    }
   ],
   "source": [
    "t = train[\"text\"].sample(1).values[0]\n",
    "print('Неповторимый оргиниал: \\n', [t])\n",
    "print('Жалкая пародия: \\n', [preprocess_tf(t)])"
   ]
  },
  {
   "cell_type": "markdown",
   "id": "19370c89-bcd3-43a3-8305-210f5a09f9b4",
   "metadata": {},
   "source": [
    "## w2v + любая нейронная сеть"
   ]
  },
  {
   "cell_type": "code",
   "execution_count": 69,
   "id": "bf0b7c10-ac0c-4954-93c7-82f523e0675f",
   "metadata": {
    "execution": {
     "iopub.execute_input": "2025-05-18T12:33:20.012105Z",
     "iopub.status.busy": "2025-05-18T12:33:20.010962Z",
     "iopub.status.idle": "2025-05-18T12:33:20.076269Z",
     "shell.execute_reply": "2025-05-18T12:33:20.075487Z",
     "shell.execute_reply.started": "2025-05-18T12:33:20.012055Z"
    },
    "tags": []
   },
   "outputs": [],
   "source": [
    "def preprocess_w2v(text):\n",
    "    text = text.lower()                                        # к нижнему регистру\n",
    "    \n",
    "    text = re.sub(r\"http\\S+|@\\w+|#\\w+\", \"\", text)              # удаляет хештеги,ссылки, упоминания\n",
    "    text = re.sub(r'\\d+', '', text)                            # удаление чисел\n",
    "    text = re.sub(r'[^a-zа-яё\\s]', '', text)                   # убирает эмодзи и другие символы\n",
    "    text = re.sub(r'\\s+', ' ', text).strip()\n",
    "    \n",
    "    words = text.split()\n",
    "    lemmatizer = MorphAnalyzer()\n",
    "    words = [lemmatizer.parse(w)[0].normal_form for w in words]\n",
    "    return words"
   ]
  },
  {
   "cell_type": "code",
   "execution_count": 70,
   "id": "64e410af-7555-4092-8b6a-c1b8e42f7963",
   "metadata": {
    "execution": {
     "iopub.execute_input": "2025-05-18T12:33:20.421519Z",
     "iopub.status.busy": "2025-05-18T12:33:20.420374Z",
     "iopub.status.idle": "2025-05-18T12:33:20.755473Z",
     "shell.execute_reply": "2025-05-18T12:33:20.754577Z",
     "shell.execute_reply.started": "2025-05-18T12:33:20.421480Z"
    },
    "tags": []
   },
   "outputs": [
    {
     "name": "stdout",
     "output_type": "stream",
     "text": [
      "Неповторимый оргиниал: \n",
      " ['Лагерь дневного пребывания на каникулы с 27 по 31 марта\\n🚩\\nДетский научный клуб\\n@dnk_ufa\\n«ТЕАТР в моём ДНК» -МК с профессионалами, экскурсии в театр оперы и балета, увлекательные репетиции и многое другое, горячее 4-х питание, бассейн\\n💳\\nСтоимость:\\nсмены 5 дней 8400р\\n📍\\nАдрес:\\nЮ.Гагарина 29/1, 89178003444\\n🚩\\nЦентр досуга детей и подростков \"Тамыр\"\\nhttps://vk.com\\nМК (танцы, вокал, изо, прикладное творчество, актёрское мастерство), игровые программы, коллективная творческая деятельность, экскурсия.\\n💳\\nСтоимость:\\nучастие предполагает орг.взнос\\n📍\\nАдрес:\\nСагита Агиша 16, +79961030582\\n🚩\\nАрт студия\\nSchoolworkufa\\n@\\nschoolworkufa\\nТворческие и кулинарные МК по оригами, настольные игры, квест, поход в кино, зарядка, прогулки, питание\\n💳\\nСтоимость:\\nсмены 5 дней 7000р\\nРазовое посещение: 1800₽\\n📍\\nАдрес\\n: Верхнеторговая площадь 4, п3, офис 801\\n🚩\\nТалантландия\\n@\\ntalantlandiya\\nВ программе : вкусное и сбалансированное  питание 5 раз в день, ежедневно изучение английского языка, рисование, лепка, музыка, прогулка, творческие и кулинарные МК, дискотека.\\n📍\\nАдрес:\\nНагаево, Рощинская 37, 89173450575']\n",
      "Жалкая пародия: \n",
      " [['лагерь', 'дневный', 'пребывание', 'на', 'каникулы', 'с', 'по', 'март', 'детский', 'научный', 'клуб', 'театр', 'в', 'мой', 'днк', 'мк', 'с', 'профессионал', 'экскурсия', 'в', 'театр', 'опера', 'и', 'балет', 'увлекательный', 'репетиция', 'и', 'многое', 'другой', 'горячий', 'х', 'питание', 'бассейн', 'стоимость', 'смена', 'день', 'р', 'адрес', 'югагарин', 'центр', 'досуг', 'ребёнок', 'и', 'подросток', 'тамыр', 'мк', 'танец', 'вокал', 'из', 'прикладной', 'творчество', 'актёрский', 'мастерство', 'игровой', 'программа', 'коллективный', 'творческий', 'деятельность', 'экскурсия', 'стоимость', 'участие', 'предполагать', 'оргвзнос', 'адрес', 'сагит', 'агиш', 'арт', 'студия', 'schoolworkufa', 'schoolworkufa', 'творческий', 'и', 'кулинарный', 'мк', 'по', 'оригами', 'настольный', 'игра', 'квест', 'поход', 'в', 'кино', 'зарядка', 'прогулка', 'питание', 'стоимость', 'смена', 'день', 'р', 'разовый', 'посещение', 'адрес', 'верхнеторговый', 'площадь', 'п', 'офис', 'талантландия', 'talantlandiya', 'в', 'программа', 'вкусный', 'и', 'сбалансированный', 'питание', 'раз', 'в', 'день', 'ежедневно', 'изучение', 'английский', 'язык', 'рисование', 'лепка', 'музыка', 'прогулка', 'творческий', 'и', 'кулинарный', 'мк', 'дискотека', 'адрес', 'нагаево', 'рощинскай']]\n"
     ]
    }
   ],
   "source": [
    "t = train[\"text\"].sample(1).values[0]\n",
    "print('Неповторимый оргиниал: \\n', [t])\n",
    "print('Жалкая пародия: \\n', [preprocess_w2v(t)])"
   ]
  },
  {
   "cell_type": "markdown",
   "id": "fd62953f-5ea0-4390-83d1-f2208756dd7e",
   "metadata": {},
   "source": [
    "## Встроенный эмбеддинг в нейросетевое решение на свёрточных сетях"
   ]
  },
  {
   "cell_type": "code",
   "execution_count": 77,
   "id": "f707d880-e4cf-4047-a1c6-a46343de67af",
   "metadata": {
    "execution": {
     "iopub.execute_input": "2025-05-18T12:42:08.567513Z",
     "iopub.status.busy": "2025-05-18T12:42:08.566561Z",
     "iopub.status.idle": "2025-05-18T12:42:08.594046Z",
     "shell.execute_reply": "2025-05-18T12:42:08.593260Z",
     "shell.execute_reply.started": "2025-05-18T12:42:08.567473Z"
    },
    "tags": []
   },
   "outputs": [],
   "source": [
    "def preprocess_cnn(text):\n",
    "    text = text.lower()                                        # к нижнему регистру\n",
    "    \n",
    "    text = re.sub(r\"http\\S+|@\\w+|#\\w+\", \"\", text)              # удаляет хештеги,ссылки.. \n",
    "    text = re.sub(r\"[^\\w\\s]\", \" \", text)                       # убирает эмодзи и другие символы\n",
    "    text = re.sub(r'\\s+', ' ', text).strip()\n",
    "    \n",
    "    words = text.split()\n",
    "    lemmatizer = MorphAnalyzer()\n",
    "    words = [lemmatizer.parse(w)[0].normal_form for w in words]\n",
    "    return words"
   ]
  },
  {
   "cell_type": "code",
   "execution_count": 78,
   "id": "3216647f-28d7-490c-9bd7-9fb334ae4516",
   "metadata": {
    "execution": {
     "iopub.execute_input": "2025-05-18T12:42:10.566882Z",
     "iopub.status.busy": "2025-05-18T12:42:10.566007Z",
     "iopub.status.idle": "2025-05-18T12:42:10.715720Z",
     "shell.execute_reply": "2025-05-18T12:42:10.714815Z",
     "shell.execute_reply.started": "2025-05-18T12:42:10.566853Z"
    },
    "tags": []
   },
   "outputs": [
    {
     "name": "stdout",
     "output_type": "stream",
     "text": [
      "Неповторимый оргиниал: \n",
      " ['🤩\\n14 октября комедия «Сегодня или никогда» будет сыграна в 100-й раз!\\n💥\\nНа юбилейный спектакль мы подготовили особенное предложение: стоимость любого места в зале – всего 500 р.!\\nФранцузский адюльтер на русской почве, история двух семей, «четырехугольник», где персонажи — муж, жена, любовник и любовница. На «вечные» вопросы о любви, верности, измене, браке и семье, в соответствии с жанром, герои пытаются ответить легко, неожиданно и с чувством юмора.\\n📍\\nТеатр им. В. Ф. Комиссаржевской\\n🕖\\n14 октября в 19:00\\n🎭\\nСпектакль «Сегодня или никогда» / Комедия В. Красногорова в постановке В. Глазкова\\n⚡️\\nАкция: лучшие места – по 500 р.\\n🎫\\nКупить билет:\\nhttps://vk.cc/ch4jyE']\n",
      "Жалкая пародия: \n",
      " [['октябрь', 'комедия', 'сегодня', 'или', 'никогда', 'быть', 'сыграть', 'в', 'й', 'раз', 'на', 'юбилейный', 'спектакль', 'мы', 'подготовить', 'особенный', 'предложение', 'стоимость', 'любой', 'место', 'в', 'зал', 'весь', 'р', 'французский', 'адюльтер', 'на', 'русский', 'почва', 'история', 'два', 'семья', 'четырёхугольник', 'где', 'персонаж', 'муж', 'жена', 'любовник', 'и', 'любовница', 'на', 'вечный', 'вопрос', 'о', 'любовь', 'верность', 'измена', 'брак', 'и', 'семья', 'в', 'соответствие', 'с', 'жанр', 'герой', 'пытаться', 'ответить', 'легко', 'неожиданно', 'и', 'с', 'чувство', 'юмор', 'театр', 'они', 'в', 'ф', 'комиссаржевский', 'октябрь', 'в', 'спектакль', 'сегодня', 'или', 'никогда', 'комедия', 'в', 'красногоров', 'в', 'постановка', 'в', 'глазков', 'акция', 'хороший', 'место', 'по', 'р', 'купить', 'билет']]\n"
     ]
    }
   ],
   "source": [
    "t = train[\"text\"].sample(1).values[0]\n",
    "print('Неповторимый оргиниал: \\n', [t])\n",
    "print('Жалкая пародия: \\n', [preprocess_w2v(t)])"
   ]
  },
  {
   "cell_type": "markdown",
   "id": "b0f1497f-1407-4871-893b-33d8535ee2c0",
   "metadata": {},
   "source": [
    "## Встроенный эмбеддинг в нейросетевое решение на рекуррентных сетях"
   ]
  },
  {
   "cell_type": "code",
   "execution_count": 90,
   "id": "28a7fd8a-954f-4f52-80c7-6936aac67ac3",
   "metadata": {
    "execution": {
     "iopub.execute_input": "2025-05-18T12:46:10.465693Z",
     "iopub.status.busy": "2025-05-18T12:46:10.464598Z",
     "iopub.status.idle": "2025-05-18T12:46:10.501456Z",
     "shell.execute_reply": "2025-05-18T12:46:10.500629Z",
     "shell.execute_reply.started": "2025-05-18T12:46:10.465650Z"
    },
    "tags": []
   },
   "outputs": [],
   "source": [
    "import re\n",
    "from nltk.tokenize import word_tokenize\n",
    "\n",
    "\n",
    "def preprocess_r(text):\n",
    "    text = text.lower()  \n",
    "    text = re.sub(r'http\\S+|www\\S+|https\\S+', '', text) \n",
    "    text = re.sub(r'\\@\\w+|\\#', '', text)  \n",
    "    text = re.sub(r'[^\\w\\s]', '', text)  \n",
    "    text = re.sub(r'\\d+', '<NUM>', text)  \n",
    "    \n",
    "    lemmatizer = MorphAnalyzer()\n",
    "    tokens = word_tokenize(text)  \n",
    "    words = [lemmatizer.parse(w)[0].normal_form for w in tokens]  \n",
    "    return ' '.join(tokens)"
   ]
  },
  {
   "cell_type": "markdown",
   "id": "df30f26a-dab6-4f99-899f-7f50ea047a1a",
   "metadata": {},
   "source": [
    "## Эмбеддер + решение на bert-like моделях "
   ]
  },
  {
   "cell_type": "code",
   "execution_count": null,
   "id": "a5437cd3-81ba-44ce-95bf-ecbfdc1ce598",
   "metadata": {},
   "outputs": [],
   "source": [
    "def preprocess_ber(text):\n",
    "    text = text.lower()  \n",
    "    text = re.sub(r'http\\S+|www\\S+|https\\S+', '', text) \n",
    "    text = re.sub(r'\\@\\w+|\\#', '', text)  \n",
    "    text = re.sub(r'[^\\w\\s]', '', text)  \n",
    "    text = re.sub(r'\\d+', '<NUM>', text)  \n",
    "    \n",
    "    lemmatizer = MorphAnalyzer()\n",
    "    tokens = word_tokenize(text)  \n",
    "    words = [lemmatizer.parse(w)[0].normal_form for w in tokens]  \n",
    "    return ' '.join(tokens)"
   ]
  },
  {
   "cell_type": "markdown",
   "id": "9bac79fc-d534-4650-9e80-580bbf7a8935",
   "metadata": {},
   "source": [
    "# Обучение моделей"
   ]
  },
  {
   "cell_type": "code",
   "execution_count": 342,
   "id": "e51c7c19-3e1e-4c04-9276-e3865be0acf0",
   "metadata": {
    "execution": {
     "iopub.execute_input": "2025-05-18T18:00:22.285388Z",
     "iopub.status.busy": "2025-05-18T18:00:22.284377Z",
     "iopub.status.idle": "2025-05-18T18:00:22.413301Z",
     "shell.execute_reply": "2025-05-18T18:00:22.412446Z",
     "shell.execute_reply.started": "2025-05-18T18:00:22.285355Z"
    },
    "tags": []
   },
   "outputs": [],
   "source": [
    "import pymorphy2 \n",
    "morph = pymorphy2.MorphAnalyzer()\n",
    "stop_words = set(stopwords.words('russian'))\n",
    "\n",
    "def preprocess_text(text, method='lemmatize'):\n",
    "    text = text.lower()\n",
    "    text = re.sub(r'[^a-яё]', ' ', text)\n",
    "    text = re.sub(r'\\s+', ' ', text).strip()\n",
    "    tokens = text.split()\n",
    "    if method == 'lemmatize':\n",
    "        tokens = [morph.parse(token)[0].normal_form for token in tokens]\n",
    "    elif method == 'stem':\n",
    "        tokens = [stemmer.stem(token) for token in tokens]\n",
    "    tokens = [token for token in tokens if token not in stop_words and len(token) > 2]\n",
    "    return ' '.join(tokens)"
   ]
  },
  {
   "cell_type": "code",
   "execution_count": 313,
   "id": "55daafb2-d35a-44d1-8713-2a552e811eb2",
   "metadata": {
    "execution": {
     "iopub.execute_input": "2025-05-18T17:17:02.117063Z",
     "iopub.status.busy": "2025-05-18T17:17:02.116047Z",
     "iopub.status.idle": "2025-05-18T17:17:02.202582Z",
     "shell.execute_reply": "2025-05-18T17:17:02.201686Z",
     "shell.execute_reply.started": "2025-05-18T17:17:02.117023Z"
    },
    "tags": []
   },
   "outputs": [],
   "source": [
    "from sklearn.metrics import f1_score\n",
    "def mean_f1_score(y_true, y_pred):\n",
    "    y_pred = (y_pred > 0.5).float()\n",
    "    f1 = f1_score(y_true.cpu().numpy(), y_pred.cpu().numpy(), zero_division=0, average='macro')\n",
    "    return torch.tensor(f1, dtype=torch.float32)"
   ]
  },
  {
   "cell_type": "code",
   "execution_count": 166,
   "id": "dc8a6639-9f3e-4198-9eb9-83188b004f29",
   "metadata": {
    "execution": {
     "iopub.execute_input": "2025-05-18T15:26:06.794106Z",
     "iopub.status.busy": "2025-05-18T15:26:06.793084Z",
     "iopub.status.idle": "2025-05-18T15:26:06.888524Z",
     "shell.execute_reply": "2025-05-18T15:26:06.887410Z",
     "shell.execute_reply.started": "2025-05-18T15:26:06.794064Z"
    },
    "tags": []
   },
   "outputs": [
    {
     "ename": "AttributeError",
     "evalue": "'list' object has no attribute 'split'",
     "output_type": "error",
     "traceback": [
      "\u001b[0;31m---------------------------------------------------------------------------\u001b[0m",
      "\u001b[0;31mAttributeError\u001b[0m                            Traceback (most recent call last)",
      "\u001b[0;32m/tmp/ipykernel_5756/442522040.py\u001b[0m in \u001b[0;36m<cell line: 1>\u001b[0;34m()\u001b[0m\n\u001b[0;32m----> 1\u001b[0;31m \u001b[0mtrain\u001b[0m\u001b[0;34m[\u001b[0m\u001b[0;34m'labels'\u001b[0m\u001b[0;34m]\u001b[0m \u001b[0;34m=\u001b[0m \u001b[0mtrain\u001b[0m\u001b[0;34m[\u001b[0m\u001b[0;34m'labels'\u001b[0m\u001b[0;34m]\u001b[0m\u001b[0;34m.\u001b[0m\u001b[0mapply\u001b[0m\u001b[0;34m(\u001b[0m\u001b[0;32mlambda\u001b[0m \u001b[0mx\u001b[0m\u001b[0;34m:\u001b[0m \u001b[0;34m[\u001b[0m\u001b[0mint\u001b[0m\u001b[0;34m(\u001b[0m\u001b[0mnum\u001b[0m\u001b[0;34m)\u001b[0m \u001b[0;32mfor\u001b[0m \u001b[0mnum\u001b[0m \u001b[0;32min\u001b[0m \u001b[0mx\u001b[0m\u001b[0;34m.\u001b[0m\u001b[0msplit\u001b[0m\u001b[0;34m(\u001b[0m\u001b[0;34m)\u001b[0m\u001b[0;34m]\u001b[0m\u001b[0;34m)\u001b[0m\u001b[0;34m\u001b[0m\u001b[0;34m\u001b[0m\u001b[0m\n\u001b[0m",
      "\u001b[0;32m/usr/local/lib/python3.10/dist-packages/pandas/core/series.py\u001b[0m in \u001b[0;36mapply\u001b[0;34m(self, func, convert_dtype, args, **kwargs)\u001b[0m\n\u001b[1;32m   4769\u001b[0m         \u001b[0mdtype\u001b[0m\u001b[0;34m:\u001b[0m \u001b[0mfloat64\u001b[0m\u001b[0;34m\u001b[0m\u001b[0;34m\u001b[0m\u001b[0m\n\u001b[1;32m   4770\u001b[0m         \"\"\"\n\u001b[0;32m-> 4771\u001b[0;31m         \u001b[0;32mreturn\u001b[0m \u001b[0mSeriesApply\u001b[0m\u001b[0;34m(\u001b[0m\u001b[0mself\u001b[0m\u001b[0;34m,\u001b[0m \u001b[0mfunc\u001b[0m\u001b[0;34m,\u001b[0m \u001b[0mconvert_dtype\u001b[0m\u001b[0;34m,\u001b[0m \u001b[0margs\u001b[0m\u001b[0;34m,\u001b[0m \u001b[0mkwargs\u001b[0m\u001b[0;34m)\u001b[0m\u001b[0;34m.\u001b[0m\u001b[0mapply\u001b[0m\u001b[0;34m(\u001b[0m\u001b[0;34m)\u001b[0m\u001b[0;34m\u001b[0m\u001b[0;34m\u001b[0m\u001b[0m\n\u001b[0m\u001b[1;32m   4772\u001b[0m \u001b[0;34m\u001b[0m\u001b[0m\n\u001b[1;32m   4773\u001b[0m     def _reduce(\n",
      "\u001b[0;32m/usr/local/lib/python3.10/dist-packages/pandas/core/apply.py\u001b[0m in \u001b[0;36mapply\u001b[0;34m(self)\u001b[0m\n\u001b[1;32m   1121\u001b[0m \u001b[0;34m\u001b[0m\u001b[0m\n\u001b[1;32m   1122\u001b[0m         \u001b[0;31m# self.f is Callable\u001b[0m\u001b[0;34m\u001b[0m\u001b[0;34m\u001b[0m\u001b[0m\n\u001b[0;32m-> 1123\u001b[0;31m         \u001b[0;32mreturn\u001b[0m \u001b[0mself\u001b[0m\u001b[0;34m.\u001b[0m\u001b[0mapply_standard\u001b[0m\u001b[0;34m(\u001b[0m\u001b[0;34m)\u001b[0m\u001b[0;34m\u001b[0m\u001b[0;34m\u001b[0m\u001b[0m\n\u001b[0m\u001b[1;32m   1124\u001b[0m \u001b[0;34m\u001b[0m\u001b[0m\n\u001b[1;32m   1125\u001b[0m     \u001b[0;32mdef\u001b[0m \u001b[0magg\u001b[0m\u001b[0;34m(\u001b[0m\u001b[0mself\u001b[0m\u001b[0;34m)\u001b[0m\u001b[0;34m:\u001b[0m\u001b[0;34m\u001b[0m\u001b[0;34m\u001b[0m\u001b[0m\n",
      "\u001b[0;32m/usr/local/lib/python3.10/dist-packages/pandas/core/apply.py\u001b[0m in \u001b[0;36mapply_standard\u001b[0;34m(self)\u001b[0m\n\u001b[1;32m   1172\u001b[0m             \u001b[0;32melse\u001b[0m\u001b[0;34m:\u001b[0m\u001b[0;34m\u001b[0m\u001b[0;34m\u001b[0m\u001b[0m\n\u001b[1;32m   1173\u001b[0m                 \u001b[0mvalues\u001b[0m \u001b[0;34m=\u001b[0m \u001b[0mobj\u001b[0m\u001b[0;34m.\u001b[0m\u001b[0mastype\u001b[0m\u001b[0;34m(\u001b[0m\u001b[0mobject\u001b[0m\u001b[0;34m)\u001b[0m\u001b[0;34m.\u001b[0m\u001b[0m_values\u001b[0m\u001b[0;34m\u001b[0m\u001b[0;34m\u001b[0m\u001b[0m\n\u001b[0;32m-> 1174\u001b[0;31m                 mapped = lib.map_infer(\n\u001b[0m\u001b[1;32m   1175\u001b[0m                     \u001b[0mvalues\u001b[0m\u001b[0;34m,\u001b[0m\u001b[0;34m\u001b[0m\u001b[0;34m\u001b[0m\u001b[0m\n\u001b[1;32m   1176\u001b[0m                     \u001b[0mf\u001b[0m\u001b[0;34m,\u001b[0m\u001b[0;34m\u001b[0m\u001b[0;34m\u001b[0m\u001b[0m\n",
      "\u001b[0;32m/usr/local/lib/python3.10/dist-packages/pandas/_libs/lib.pyx\u001b[0m in \u001b[0;36mpandas._libs.lib.map_infer\u001b[0;34m()\u001b[0m\n",
      "\u001b[0;32m/tmp/ipykernel_5756/442522040.py\u001b[0m in \u001b[0;36m<lambda>\u001b[0;34m(x)\u001b[0m\n\u001b[0;32m----> 1\u001b[0;31m \u001b[0mtrain\u001b[0m\u001b[0;34m[\u001b[0m\u001b[0;34m'labels'\u001b[0m\u001b[0;34m]\u001b[0m \u001b[0;34m=\u001b[0m \u001b[0mtrain\u001b[0m\u001b[0;34m[\u001b[0m\u001b[0;34m'labels'\u001b[0m\u001b[0;34m]\u001b[0m\u001b[0;34m.\u001b[0m\u001b[0mapply\u001b[0m\u001b[0;34m(\u001b[0m\u001b[0;32mlambda\u001b[0m \u001b[0mx\u001b[0m\u001b[0;34m:\u001b[0m \u001b[0;34m[\u001b[0m\u001b[0mint\u001b[0m\u001b[0;34m(\u001b[0m\u001b[0mnum\u001b[0m\u001b[0;34m)\u001b[0m \u001b[0;32mfor\u001b[0m \u001b[0mnum\u001b[0m \u001b[0;32min\u001b[0m \u001b[0mx\u001b[0m\u001b[0;34m.\u001b[0m\u001b[0msplit\u001b[0m\u001b[0;34m(\u001b[0m\u001b[0;34m)\u001b[0m\u001b[0;34m]\u001b[0m\u001b[0;34m)\u001b[0m\u001b[0;34m\u001b[0m\u001b[0;34m\u001b[0m\u001b[0m\n\u001b[0m",
      "\u001b[0;31mAttributeError\u001b[0m: 'list' object has no attribute 'split'"
     ]
    }
   ],
   "source": [
    "train['labels'] = train['labels'].apply(lambda x: [int(num) for num in x.split()])"
   ]
  },
  {
   "cell_type": "code",
   "execution_count": null,
   "id": "f7056814-04c9-468f-b78a-62f1b4620175",
   "metadata": {},
   "outputs": [],
   "source": []
  },
  {
   "cell_type": "code",
   "execution_count": 368,
   "id": "2a183fcd-a5ab-48cf-bbae-5aea67dcc213",
   "metadata": {
    "execution": {
     "iopub.execute_input": "2025-05-18T18:23:08.526313Z",
     "iopub.status.busy": "2025-05-18T18:23:08.525376Z",
     "iopub.status.idle": "2025-05-18T18:30:25.113794Z",
     "shell.execute_reply": "2025-05-18T18:30:25.112959Z",
     "shell.execute_reply.started": "2025-05-18T18:23:08.526284Z"
    },
    "tags": []
   },
   "outputs": [
    {
     "name": "stderr",
     "output_type": "stream",
     "text": [
      "                                                                          \r"
     ]
    }
   ],
   "source": [
    "X = [preprocess_text(t) for t in tqdm(train['text'], desc=\"Препроцессинг train\", leave= False)]\n",
    "y = train['labels'] \n",
    "\n",
    "X_train, X_test, y_train, y_test = train_test_split(X, y, test_size=0.3)"
   ]
  },
  {
   "cell_type": "markdown",
   "id": "165a56fe-9edd-43c4-8e80-6e5ed59d034a",
   "metadata": {
    "execution": {
     "iopub.execute_input": "2025-05-16T16:28:48.355934Z",
     "iopub.status.busy": "2025-05-16T16:28:48.354963Z",
     "iopub.status.idle": "2025-05-16T16:28:48.388008Z",
     "shell.execute_reply": "2025-05-16T16:28:48.387343Z",
     "shell.execute_reply.started": "2025-05-16T16:28:48.355894Z"
    }
   },
   "source": [
    "## Модель 1"
   ]
  },
  {
   "cell_type": "code",
   "execution_count": 369,
   "id": "10c7793d-d0ca-4151-a2ff-4ec498139802",
   "metadata": {
    "execution": {
     "iopub.execute_input": "2025-05-18T18:30:59.085957Z",
     "iopub.status.busy": "2025-05-18T18:30:59.084984Z",
     "iopub.status.idle": "2025-05-18T18:30:59.131395Z",
     "shell.execute_reply": "2025-05-18T18:30:59.129733Z",
     "shell.execute_reply.started": "2025-05-18T18:30:59.085916Z"
    },
    "tags": []
   },
   "outputs": [],
   "source": [
    "train_df = pd.DataFrame({'X_train': X_train, 'y_train': y_train})\n",
    "test_df = pd.DataFrame({'X_test': X_test, 'y_test':y_test})"
   ]
  },
  {
   "cell_type": "code",
   "execution_count": 370,
   "id": "e20cfa07-cf69-4cb5-b1bb-e74addc170ab",
   "metadata": {
    "execution": {
     "iopub.execute_input": "2025-05-18T18:30:59.977953Z",
     "iopub.status.busy": "2025-05-18T18:30:59.976776Z",
     "iopub.status.idle": "2025-05-18T18:31:01.918562Z",
     "shell.execute_reply": "2025-05-18T18:31:01.917701Z",
     "shell.execute_reply.started": "2025-05-18T18:30:59.977898Z"
    },
    "tags": []
   },
   "outputs": [
    {
     "name": "stderr",
     "output_type": "stream",
     "text": [
      "100%|██████████| 19217/19217 [00:00<00:00, 66365.05it/s]\n",
      "100%|██████████| 8237/8237 [00:00<00:00, 69001.88it/s]\n"
     ]
    }
   ],
   "source": [
    "from sklearn.feature_extraction.text import CountVectorizer\n",
    "import numpy as np\n",
    "\n",
    "vectorizer = CountVectorizer()\n",
    "X = vectorizer.fit_transform(X)\n",
    "doc_freq = np.sum(X > 0, axis=0).A1\n",
    "total_docs = X.shape[0]\n",
    "words = np.array(vectorizer.get_feature_names_out())\n",
    "mask = (doc_freq > 3) & (doc_freq < total_docs)\n",
    "selected_words = set(words[mask])\n",
    "\n",
    "tqdm.pandas()\n",
    "\n",
    "train_df['X_train_1'] = train_df['X_train'].progress_apply(lambda x: ' '.join([word for word in x.split() if word in selected_words]))\n",
    "test_df['X_test_1'] = test_df['X_test'].progress_apply(lambda x: ' '.join([word for word in x.split() if word in selected_words]))"
   ]
  },
  {
   "cell_type": "code",
   "execution_count": 392,
   "id": "db72770a-be8c-4bb6-8e18-1d31d45cee71",
   "metadata": {
    "execution": {
     "iopub.execute_input": "2025-05-18T18:38:12.642788Z",
     "iopub.status.busy": "2025-05-18T18:38:12.641792Z",
     "iopub.status.idle": "2025-05-18T18:38:13.879982Z",
     "shell.execute_reply": "2025-05-18T18:38:13.879177Z",
     "shell.execute_reply.started": "2025-05-18T18:38:12.642753Z"
    },
    "tags": []
   },
   "outputs": [
    {
     "name": "stdout",
     "output_type": "stream",
     "text": [
      "X_train shape:  (19217, 10000) , y_train shape:  (19217,)\n",
      "X_test shape:  (8237, 10000) , y_test shape:  (8237,)\n"
     ]
    }
   ],
   "source": [
    "n_feature = 10000\n",
    "vectorizer = TfidfVectorizer(max_features=n_feature, min_df=2)\n",
    "X_train_tfidf = vectorizer.fit_transform(train_df['X_train_1'])\n",
    "X_test_tfidf = vectorizer.transform(test_df['X_test_1'])\n",
    "\n",
    "print(\"X_train shape: \", X_train_tfidf.shape, \", y_train shape: \", y_train.shape)\n",
    "print(\"X_test shape: \", X_test_tfidf.shape, \", y_test shape: \", y_test.shape)"
   ]
  },
  {
   "cell_type": "code",
   "execution_count": 398,
   "id": "24c52fdb-e464-48d0-a06c-b695a9b5f7dd",
   "metadata": {
    "execution": {
     "iopub.execute_input": "2025-05-18T18:39:06.580791Z",
     "iopub.status.busy": "2025-05-18T18:39:06.579838Z",
     "iopub.status.idle": "2025-05-18T18:39:06.631388Z",
     "shell.execute_reply": "2025-05-18T18:39:06.630568Z",
     "shell.execute_reply.started": "2025-05-18T18:39:06.580750Z"
    },
    "tags": []
   },
   "outputs": [
    {
     "name": "stdout",
     "output_type": "stream",
     "text": [
      "inputs:  torch.Size([32, 10000])\n",
      "labels:  torch.Size([32, 20])\n"
     ]
    }
   ],
   "source": [
    "class TDataset(Dataset):\n",
    "    def __init__(self, features, labels):\n",
    "        self.features = features\n",
    "        self.labels = labels   \n",
    "    def __getitem__(self, idx):\n",
    "        x = torch.FloatTensor(self.features[idx].toarray().squeeze())\n",
    "        y = torch.FloatTensor(self.labels.iloc[idx])\n",
    "        return x, y\n",
    "    def __len__(self):\n",
    "        return len(self.labels)\n",
    "\n",
    "train_dataset_1 = TDataset(X_train_tfidf, y_train)\n",
    "val_dataset_1 = TDataset(X_test_tfidf, y_test)\n",
    "\n",
    "train_loader_1 = DataLoader(train_dataset_1, batch_size=32, shuffle=True)\n",
    "val_loader_1 = DataLoader(val_dataset_1, batch_size=32)\n",
    "\n",
    "batch = next(iter(train_loader_1))\n",
    "print(\"inputs: \", batch[0].shape)  \n",
    "print(\"labels: \", batch[1].shape)"
   ]
  },
  {
   "cell_type": "code",
   "execution_count": 475,
   "id": "1bba1697-300c-49b5-8f3e-f16e2552175a",
   "metadata": {
    "execution": {
     "iopub.execute_input": "2025-05-18T19:23:23.579853Z",
     "iopub.status.busy": "2025-05-18T19:23:23.578904Z",
     "iopub.status.idle": "2025-05-18T19:23:23.657069Z",
     "shell.execute_reply": "2025-05-18T19:23:23.656205Z",
     "shell.execute_reply.started": "2025-05-18T19:23:23.579811Z"
    },
    "tags": []
   },
   "outputs": [
    {
     "data": {
      "text/plain": [
       "Sequential(\n",
       "  (0): Linear(in_features=10000, out_features=512, bias=True)\n",
       "  (1): BatchNorm1d(512, eps=1e-05, momentum=0.1, affine=True, track_running_stats=True)\n",
       "  (2): LeakyReLU(negative_slope=0.01)\n",
       "  (3): Dropout(p=0.5, inplace=False)\n",
       "  (4): Linear(in_features=512, out_features=128, bias=True)\n",
       "  (5): BatchNorm1d(128, eps=1e-05, momentum=0.1, affine=True, track_running_stats=True)\n",
       "  (6): LeakyReLU(negative_slope=0.01)\n",
       "  (7): Dropout(p=0.2, inplace=False)\n",
       "  (8): Linear(in_features=128, out_features=64, bias=True)\n",
       "  (9): BatchNorm1d(64, eps=1e-05, momentum=0.1, affine=True, track_running_stats=True)\n",
       "  (10): ReLU()\n",
       "  (11): Dropout(p=0.2, inplace=False)\n",
       "  (12): Linear(in_features=64, out_features=20, bias=True)\n",
       "  (13): Sigmoid()\n",
       ")"
      ]
     },
     "execution_count": 475,
     "metadata": {},
     "output_type": "execute_result"
    }
   ],
   "source": [
    "model_1 = nn.Sequential(\n",
    "    nn.Linear(X_train_tfidf.shape[1], 512),\n",
    "#    nn.LayerNorm(512),\n",
    "    nn.BatchNorm1d(512),\n",
    "    nn.LeakyReLU(),\n",
    "    nn.Dropout(0.5),\n",
    "    \n",
    "    nn.Linear(512, 128),\n",
    "    nn.BatchNorm1d(128),\n",
    "#   nn.LayerNorm(128),\n",
    "    nn.LeakyReLU(),\n",
    "    nn.Dropout(0.2),\n",
    "    \n",
    "    nn.Linear(128, 64),\n",
    "    nn.BatchNorm1d(64),\n",
    "#    nn.LayerNorm(64),\n",
    "    nn.ReLU(),\n",
    "    nn.Dropout(0.2),\n",
    "    \n",
    "    nn.Linear(64, 20),\n",
    "    nn.Sigmoid()\n",
    ")\n",
    "device = torch.device(\"cuda\" if torch.cuda.is_available() else \"cpu\")\n",
    "model_1.to(device)"
   ]
  },
  {
   "cell_type": "code",
   "execution_count": 476,
   "id": "a72ef412-21a1-4705-98a5-b42665269ee8",
   "metadata": {
    "execution": {
     "iopub.execute_input": "2025-05-18T19:23:24.946121Z",
     "iopub.status.busy": "2025-05-18T19:23:24.945191Z",
     "iopub.status.idle": "2025-05-18T19:23:24.959538Z",
     "shell.execute_reply": "2025-05-18T19:23:24.958747Z",
     "shell.execute_reply.started": "2025-05-18T19:23:24.946078Z"
    },
    "tags": []
   },
   "outputs": [],
   "source": [
    "criterion = nn.BCELoss()\n",
    "optimizer = optim.Adam(model_1.parameters(), lr=0.0001)\n",
    "scheduler= optim.lr_scheduler.ReduceLROnPlateau(optimizer, mode='min', factor=0.01, patience=1)"
   ]
  },
  {
   "cell_type": "code",
   "execution_count": 477,
   "id": "2ae29851-049b-4082-ace9-795b248b2e7a",
   "metadata": {
    "execution": {
     "iopub.execute_input": "2025-05-18T19:23:25.364539Z",
     "iopub.status.busy": "2025-05-18T19:23:25.363550Z",
     "iopub.status.idle": "2025-05-18T19:23:25.383380Z",
     "shell.execute_reply": "2025-05-18T19:23:25.382574Z",
     "shell.execute_reply.started": "2025-05-18T19:23:25.364496Z"
    },
    "tags": []
   },
   "outputs": [],
   "source": [
    "def training(model,train_loader, train_dataset, val_loader,val_dataset,num_epochs=25,patience=3,min_delta = 0.00001):\n",
    "    train_losses=[]\n",
    "    val_losses = []\n",
    "    train_f1s = []\n",
    "    val_f1s = []\n",
    "    best_val_loss = float('inf')\n",
    "    counter = 0\n",
    "    total_samples = 0\n",
    "\n",
    "    for epoch in range(num_epochs):\n",
    "        model.train()\n",
    "        running_loss = 0.0\n",
    "        all_preds = []\n",
    "        all_labels = []\n",
    "    \n",
    "        for inputs, labels in train_loader:\n",
    "            inputs = inputs.to(device)\n",
    "            labels = labels.to(device).float()\n",
    "            \n",
    "            optimizer.zero_grad()\n",
    "\n",
    "            outputs = model(inputs)\n",
    "            loss = criterion(outputs, labels) \n",
    "            loss.backward()    \n",
    "            optimizer.step()\n",
    "\n",
    "            running_loss += loss.item() * inputs.size(0)\n",
    "            all_preds.append(outputs.detach())\n",
    "            all_labels.append(labels.detach())     \n",
    "\n",
    "\n",
    "        epoch_loss = running_loss / len(train_dataset)\n",
    "        train_losses.append(epoch_loss)\n",
    "        \n",
    "        all_preds = torch.cat(all_preds)\n",
    "        all_labels = torch.cat(all_labels)\n",
    "        train_f1 = mean_f1_score(all_labels, all_preds)\n",
    "        train_f1s.append(train_f1.item())\n",
    "    \n",
    "        scheduler.step(epoch_loss)\n",
    "    \n",
    "        model.eval()\n",
    "        val_running_loss = 0.0\n",
    "        val_all_preds = []\n",
    "        val_all_labels = []\n",
    "    \n",
    "        with torch.no_grad():\n",
    "            for inputs, labels in val_loader:\n",
    "                inputs = inputs.to(device)\n",
    "                labels = labels.to(device).float()\n",
    "            \n",
    "                outputs = model(inputs)\n",
    "                loss = criterion(outputs, labels)\n",
    "            \n",
    "                val_running_loss += loss.item() * inputs.size(0)\n",
    "                val_all_preds.append(outputs)\n",
    "                val_all_labels.append(labels)   \n",
    "\n",
    "        val_epoch_loss = val_running_loss / len(val_dataset)\n",
    "        val_losses.append(val_epoch_loss)\n",
    "        \n",
    "        val_all_preds = torch.cat(val_all_preds)\n",
    "        val_all_labels = torch.cat(val_all_labels)\n",
    "        val_f1 = mean_f1_score(val_all_labels, val_all_preds)\n",
    "        val_f1s.append(val_f1.item())\n",
    "    \n",
    "        print(f'Epoch {epoch + 1}/{num_epochs} | '\n",
    "              f'Train Loss: {epoch_loss:.4f} Train F1 Score: {train_f1:.4f} | '\n",
    "              f'Val Loss: {val_epoch_loss:.4f} Val F1 Score: {val_f1:.4f}')\n",
    "    \n",
    "        if val_epoch_loss + min_delta < best_val_loss:\n",
    "            best_val_loss = val_epoch_loss\n",
    "            counter = 0\n",
    "            torch.save(model.state_dict(), 'best_model.pth')\n",
    "        else:\n",
    "            counter += 1\n",
    "            print(f'EarlyStopping counter: {counter} out of {patience}')\n",
    "            if counter >= patience:\n",
    "                print('Early stopping triggered!')\n",
    "                break\n",
    "    \n",
    "    plt.figure(figsize=(12, 5))\n",
    "    plt.subplot(1, 2, 1)\n",
    "    plt.plot(train_losses, label='Train Loss')\n",
    "    plt.plot(val_losses, label='Validation Loss')\n",
    "    plt.title('Loss')\n",
    "    plt.legend()\n",
    "\n",
    "    plt.subplot(1, 2, 2)\n",
    "    plt.plot(train_f1s, label='Train F1 Score')\n",
    "    plt.plot(val_f1s, label='Validation F1 Score')\n",
    "    plt.title(' F1 Score')\n",
    "    plt.legend()\n",
    "    plt.show()"
   ]
  },
  {
   "cell_type": "code",
   "execution_count": 478,
   "id": "6ebec581-7214-4d1f-878e-e7b21ab57b78",
   "metadata": {
    "execution": {
     "iopub.execute_input": "2025-05-18T19:23:25.908335Z",
     "iopub.status.busy": "2025-05-18T19:23:25.907426Z",
     "iopub.status.idle": "2025-05-18T19:25:07.762148Z",
     "shell.execute_reply": "2025-05-18T19:25:07.761318Z",
     "shell.execute_reply.started": "2025-05-18T19:23:25.908297Z"
    },
    "tags": []
   },
   "outputs": [
    {
     "name": "stdout",
     "output_type": "stream",
     "text": [
      "Epoch 1/25 | Train Loss: 0.5169 Train F1 Score: 0.6365 | Val Loss: 0.3985 Val F1 Score: 0.6966\n",
      "Epoch 2/25 | Train Loss: 0.3547 Train F1 Score: 0.6949 | Val Loss: 0.3096 Val F1 Score: 0.7109\n",
      "Epoch 3/25 | Train Loss: 0.2943 Train F1 Score: 0.7096 | Val Loss: 0.2755 Val F1 Score: 0.7169\n",
      "Epoch 4/25 | Train Loss: 0.2622 Train F1 Score: 0.7198 | Val Loss: 0.2576 Val F1 Score: 0.7199\n",
      "Epoch 5/25 | Train Loss: 0.2421 Train F1 Score: 0.7288 | Val Loss: 0.2495 Val F1 Score: 0.7210\n",
      "Epoch 6/25 | Train Loss: 0.2262 Train F1 Score: 0.7375 | Val Loss: 0.2403 Val F1 Score: 0.7402\n",
      "Epoch 7/25 | Train Loss: 0.2136 Train F1 Score: 0.7501 | Val Loss: 0.2360 Val F1 Score: 0.7469\n",
      "Epoch 8/25 | Train Loss: 0.2030 Train F1 Score: 0.7574 | Val Loss: 0.2325 Val F1 Score: 0.7468\n",
      "Epoch 9/25 | Train Loss: 0.1950 Train F1 Score: 0.7623 | Val Loss: 0.2301 Val F1 Score: 0.7509\n",
      "Epoch 10/25 | Train Loss: 0.1871 Train F1 Score: 0.7695 | Val Loss: 0.2289 Val F1 Score: 0.7539\n",
      "Epoch 11/25 | Train Loss: 0.1794 Train F1 Score: 0.7755 | Val Loss: 0.2268 Val F1 Score: 0.7570\n",
      "Epoch 12/25 | Train Loss: 0.1740 Train F1 Score: 0.7796 | Val Loss: 0.2262 Val F1 Score: 0.7648\n",
      "Epoch 13/25 | Train Loss: 0.1687 Train F1 Score: 0.7874 | Val Loss: 0.2293 Val F1 Score: 0.7625\n",
      "EarlyStopping counter: 1 out of 3\n",
      "Epoch 14/25 | Train Loss: 0.1629 Train F1 Score: 0.7932 | Val Loss: 0.2266 Val F1 Score: 0.7685\n",
      "EarlyStopping counter: 2 out of 3\n",
      "Epoch 15/25 | Train Loss: 0.1587 Train F1 Score: 0.7943 | Val Loss: 0.2272 Val F1 Score: 0.7702\n",
      "EarlyStopping counter: 3 out of 3\n",
      "Early stopping triggered!\n"
     ]
    },
    {
     "data": {
      "image/png": "[encoded data removed]",
      "text/plain": [
       "<Figure size 1200x500 with 2 Axes>"
      ]
     },
     "metadata": {},
     "output_type": "display_data"
    }
   ],
   "source": [
    "training(model_1,train_loader_1,train_dataset_1, val_loader_1,val_dataset_1, num_epochs=25)"
   ]
  },
  {
   "cell_type": "code",
   "execution_count": 479,
   "id": "2536299a-a0b6-4970-9023-6486c5da9538",
   "metadata": {
    "execution": {
     "iopub.execute_input": "2025-05-18T19:25:07.764486Z",
     "iopub.status.busy": "2025-05-18T19:25:07.763462Z",
     "iopub.status.idle": "2025-05-18T19:27:02.911744Z",
     "shell.execute_reply": "2025-05-18T19:27:02.910147Z",
     "shell.execute_reply.started": "2025-05-18T19:25:07.764429Z"
    },
    "tags": []
   },
   "outputs": [
    {
     "name": "stderr",
     "output_type": "stream",
     "text": [
      "                                                                  \r"
     ]
    }
   ],
   "source": [
    "submission = pd.read_csv('sample_submission.csv')\n",
    "test = pd.read_csv('test.csv')\n",
    "test['text'] = [preprocess_text(t) for t in tqdm(test['text'], desc=\"Препроцессинг\", leave= False)]"
   ]
  },
  {
   "cell_type": "code",
   "execution_count": 377,
   "id": "55394308-2f2c-4094-a8e1-c488809684c7",
   "metadata": {
    "execution": {
     "iopub.execute_input": "2025-05-18T18:32:23.074361Z",
     "iopub.status.busy": "2025-05-18T18:32:23.073301Z",
     "iopub.status.idle": "2025-05-18T18:32:23.208860Z",
     "shell.execute_reply": "2025-05-18T18:32:23.207776Z",
     "shell.execute_reply.started": "2025-05-18T18:32:23.074314Z"
    },
    "tags": []
   },
   "outputs": [
    {
     "name": "stderr",
     "output_type": "stream",
     "text": [
      "100%|██████████| 7392/7392 [00:00<00:00, 66350.43it/s]\n"
     ]
    }
   ],
   "source": [
    "test['text_1'] = test['text'].progress_apply(lambda x: ' '.join([word for word in x.split() if word in selected_words]))"
   ]
  },
  {
   "cell_type": "code",
   "execution_count": 378,
   "id": "b22e05e8-68c7-4bdd-bd9c-39af3e5e98a7",
   "metadata": {
    "execution": {
     "iopub.execute_input": "2025-05-18T18:32:23.876821Z",
     "iopub.status.busy": "2025-05-18T18:32:23.875753Z",
     "iopub.status.idle": "2025-05-18T18:32:24.230962Z",
     "shell.execute_reply": "2025-05-18T18:32:24.230117Z",
     "shell.execute_reply.started": "2025-05-18T18:32:23.876788Z"
    },
    "tags": []
   },
   "outputs": [],
   "source": [
    "X_test_tfidf = vectorizer.transform(test['text_1'])"
   ]
  },
  {
   "cell_type": "code",
   "execution_count": 380,
   "id": "7196cdae-de74-4384-81f4-f742c5425181",
   "metadata": {
    "execution": {
     "iopub.execute_input": "2025-05-18T18:32:44.979130Z",
     "iopub.status.busy": "2025-05-18T18:32:44.978160Z",
     "iopub.status.idle": "2025-05-18T18:32:45.136171Z",
     "shell.execute_reply": "2025-05-18T18:32:45.135261Z",
     "shell.execute_reply.started": "2025-05-18T18:32:44.979089Z"
    },
    "tags": []
   },
   "outputs": [
    {
     "data": {
      "text/plain": [
       "Sequential(\n",
       "  (0): Linear(in_features=10000, out_features=512, bias=True)\n",
       "  (1): BatchNorm1d(512, eps=1e-05, momentum=0.1, affine=True, track_running_stats=True)\n",
       "  (2): LeakyReLU(negative_slope=0.01)\n",
       "  (3): Dropout(p=0.2, inplace=False)\n",
       "  (4): Linear(in_features=512, out_features=128, bias=True)\n",
       "  (5): BatchNorm1d(128, eps=1e-05, momentum=0.1, affine=True, track_running_stats=True)\n",
       "  (6): LeakyReLU(negative_slope=0.01)\n",
       "  (7): Dropout(p=0.2, inplace=False)\n",
       "  (8): Linear(in_features=128, out_features=64, bias=True)\n",
       "  (9): LeakyReLU(negative_slope=0.01)\n",
       "  (10): Linear(in_features=64, out_features=20, bias=True)\n",
       "  (11): Sigmoid()\n",
       ")"
      ]
     },
     "execution_count": 380,
     "metadata": {},
     "output_type": "execute_result"
    }
   ],
   "source": [
    "model_1_best = nn.Sequential(\n",
    "    nn.Linear(X_train_tfidf.shape[1], 512),\n",
    "#    nn.LayerNorm(512),\n",
    "    nn.BatchNorm1d(512),\n",
    "    nn.LeakyReLU(),\n",
    "    nn.Dropout(0.2),\n",
    "    \n",
    "    nn.Linear(512, 128),\n",
    "    nn.BatchNorm1d(128),\n",
    "#   nn.LayerNorm(128),\n",
    "    nn.LeakyReLU(),\n",
    "    nn.Dropout(0.2),\n",
    "    \n",
    "    nn.Linear(128, 64),\n",
    "  #  nn.BatchNorm1d(64),\n",
    "  #  nn.LayerNorm(64),\n",
    "    nn.LeakyReLU(),\n",
    " #   nn.Dropout(0.2),\n",
    "    \n",
    "    nn.Linear(64, 20),\n",
    "    nn.Sigmoid()\n",
    ")\n",
    "model_1_best = model_1_best.to(device)\n",
    "model_1_best.load_state_dict(torch.load('best_model.pth'))\n",
    "model_1_best.eval()"
   ]
  },
  {
   "cell_type": "code",
   "execution_count": 381,
   "id": "eaa71ecc-c228-419b-9a03-655b08de45eb",
   "metadata": {
    "execution": {
     "iopub.execute_input": "2025-05-18T18:32:49.022300Z",
     "iopub.status.busy": "2025-05-18T18:32:49.021284Z",
     "iopub.status.idle": "2025-05-18T18:32:50.057853Z",
     "shell.execute_reply": "2025-05-18T18:32:50.056967Z",
     "shell.execute_reply.started": "2025-05-18T18:32:49.022255Z"
    },
    "tags": []
   },
   "outputs": [],
   "source": [
    "class TestDataset(Dataset):\n",
    "    def __init__(self, features):\n",
    "        self.features = features\n",
    "    \n",
    "    def __getitem__(self, idx):\n",
    "        x = torch.FloatTensor(self.features[idx].toarray().squeeze())\n",
    "        return x \n",
    "    \n",
    "    def __len__(self):\n",
    "        return self.features.shape[0]\n",
    "\n",
    "test_dataset = TestDataset(X_test_tfidf) \n",
    "test_loader = DataLoader(test_dataset, batch_size=32, shuffle=False)\n",
    "\n",
    "all_outputs = []\n",
    "\n",
    "with torch.no_grad():\n",
    "    for inputs in test_loader:\n",
    "        inputs = inputs.to(device)\n",
    "        outputs = model_1_best(inputs)\n",
    "        all_outputs.append(outputs.cpu())\n",
    "\n",
    "test_outputs = torch.cat(all_outputs)"
   ]
  },
  {
   "cell_type": "code",
   "execution_count": 382,
   "id": "343c8a32-8876-402a-be59-f579e03642b6",
   "metadata": {
    "execution": {
     "iopub.execute_input": "2025-05-18T18:32:51.268608Z",
     "iopub.status.busy": "2025-05-18T18:32:51.267323Z",
     "iopub.status.idle": "2025-05-18T18:32:51.371301Z",
     "shell.execute_reply": "2025-05-18T18:32:51.370488Z",
     "shell.execute_reply.started": "2025-05-18T18:32:51.268561Z"
    },
    "tags": []
   },
   "outputs": [],
   "source": [
    "binary_output = (test_outputs > 0.5).int()\n",
    "res = [' '.join(map(str, row.tolist())) for row in binary_output]\n",
    "submission['labels'] = res\n",
    "submission.to_csv('results.csv', index=False)"
   ]
  },
  {
   "cell_type": "markdown",
   "id": "bf939a10-4599-457f-993a-1d64d891904e",
   "metadata": {},
   "source": [
    "## Модель 2"
   ]
  },
  {
   "cell_type": "code",
   "execution_count": 71,
   "id": "0468b2f2-5651-4c86-9eeb-e0b57c1b9c10",
   "metadata": {
    "execution": {
     "iopub.execute_input": "2025-05-18T12:33:25.688300Z",
     "iopub.status.busy": "2025-05-18T12:33:25.687332Z",
     "iopub.status.idle": "2025-05-18T12:38:10.636231Z",
     "shell.execute_reply": "2025-05-18T12:38:10.634136Z",
     "shell.execute_reply.started": "2025-05-18T12:33:25.688259Z"
    },
    "tags": []
   },
   "outputs": [
    {
     "name": "stderr",
     "output_type": "stream",
     "text": [
      "Препроцессинг train:  10%|█         | 1997/19217 [04:44<51:49,  5.54it/s]"
     ]
    },
    {
     "ename": "KeyboardInterrupt",
     "evalue": "",
     "output_type": "error",
     "traceback": [
      "\u001b[0;31m---------------------------------------------------------------------------\u001b[0m",
      "\u001b[0;31mKeyboardInterrupt\u001b[0m                         Traceback (most recent call last)",
      "\u001b[0;32m/tmp/ipykernel_5756/3539915603.py\u001b[0m in \u001b[0;36m<cell line: 1>\u001b[0;34m()\u001b[0m\n\u001b[0;32m----> 1\u001b[0;31m \u001b[0mtokens_train_2\u001b[0m \u001b[0;34m=\u001b[0m \u001b[0;34m[\u001b[0m\u001b[0mpreprocess_w2v\u001b[0m\u001b[0;34m(\u001b[0m\u001b[0mt\u001b[0m\u001b[0;34m)\u001b[0m \u001b[0;32mfor\u001b[0m \u001b[0mt\u001b[0m \u001b[0;32min\u001b[0m \u001b[0mtqdm\u001b[0m\u001b[0;34m(\u001b[0m\u001b[0mX_train\u001b[0m\u001b[0;34m,\u001b[0m \u001b[0mdesc\u001b[0m\u001b[0;34m=\u001b[0m\u001b[0;34m\"Препроцессинг train\"\u001b[0m\u001b[0;34m,\u001b[0m \u001b[0mleave\u001b[0m\u001b[0;34m=\u001b[0m \u001b[0;32mFalse\u001b[0m\u001b[0;34m)\u001b[0m\u001b[0;34m]\u001b[0m\u001b[0;34m\u001b[0m\u001b[0;34m\u001b[0m\u001b[0m\n\u001b[0m\u001b[1;32m      2\u001b[0m \u001b[0mtokens_test_2\u001b[0m \u001b[0;34m=\u001b[0m \u001b[0;34m[\u001b[0m\u001b[0mpreprocess_w2v\u001b[0m\u001b[0;34m(\u001b[0m\u001b[0mt\u001b[0m\u001b[0;34m)\u001b[0m \u001b[0;32mfor\u001b[0m \u001b[0mt\u001b[0m \u001b[0;32min\u001b[0m \u001b[0mtqdm\u001b[0m\u001b[0;34m(\u001b[0m\u001b[0mX_test\u001b[0m\u001b[0;34m,\u001b[0m \u001b[0mdesc\u001b[0m\u001b[0;34m=\u001b[0m\u001b[0;34m\"Препроцессинг test\"\u001b[0m\u001b[0;34m,\u001b[0m \u001b[0mleave\u001b[0m\u001b[0;34m=\u001b[0m \u001b[0;32mFalse\u001b[0m\u001b[0;34m)\u001b[0m\u001b[0;34m]\u001b[0m\u001b[0;34m\u001b[0m\u001b[0;34m\u001b[0m\u001b[0m\n",
      "\u001b[0;32m/tmp/ipykernel_5756/3539915603.py\u001b[0m in \u001b[0;36m<listcomp>\u001b[0;34m(.0)\u001b[0m\n\u001b[0;32m----> 1\u001b[0;31m \u001b[0mtokens_train_2\u001b[0m \u001b[0;34m=\u001b[0m \u001b[0;34m[\u001b[0m\u001b[0mpreprocess_w2v\u001b[0m\u001b[0;34m(\u001b[0m\u001b[0mt\u001b[0m\u001b[0;34m)\u001b[0m \u001b[0;32mfor\u001b[0m \u001b[0mt\u001b[0m \u001b[0;32min\u001b[0m \u001b[0mtqdm\u001b[0m\u001b[0;34m(\u001b[0m\u001b[0mX_train\u001b[0m\u001b[0;34m,\u001b[0m \u001b[0mdesc\u001b[0m\u001b[0;34m=\u001b[0m\u001b[0;34m\"Препроцессинг train\"\u001b[0m\u001b[0;34m,\u001b[0m \u001b[0mleave\u001b[0m\u001b[0;34m=\u001b[0m \u001b[0;32mFalse\u001b[0m\u001b[0;34m)\u001b[0m\u001b[0;34m]\u001b[0m\u001b[0;34m\u001b[0m\u001b[0;34m\u001b[0m\u001b[0m\n\u001b[0m\u001b[1;32m      2\u001b[0m \u001b[0mtokens_test_2\u001b[0m \u001b[0;34m=\u001b[0m \u001b[0;34m[\u001b[0m\u001b[0mpreprocess_w2v\u001b[0m\u001b[0;34m(\u001b[0m\u001b[0mt\u001b[0m\u001b[0;34m)\u001b[0m \u001b[0;32mfor\u001b[0m \u001b[0mt\u001b[0m \u001b[0;32min\u001b[0m \u001b[0mtqdm\u001b[0m\u001b[0;34m(\u001b[0m\u001b[0mX_test\u001b[0m\u001b[0;34m,\u001b[0m \u001b[0mdesc\u001b[0m\u001b[0;34m=\u001b[0m\u001b[0;34m\"Препроцессинг test\"\u001b[0m\u001b[0;34m,\u001b[0m \u001b[0mleave\u001b[0m\u001b[0;34m=\u001b[0m \u001b[0;32mFalse\u001b[0m\u001b[0;34m)\u001b[0m\u001b[0;34m]\u001b[0m\u001b[0;34m\u001b[0m\u001b[0;34m\u001b[0m\u001b[0m\n",
      "\u001b[0;32m/tmp/ipykernel_5756/680193382.py\u001b[0m in \u001b[0;36mpreprocess_w2v\u001b[0;34m(text)\u001b[0m\n\u001b[1;32m      8\u001b[0m \u001b[0;34m\u001b[0m\u001b[0m\n\u001b[1;32m      9\u001b[0m     \u001b[0mwords\u001b[0m \u001b[0;34m=\u001b[0m \u001b[0mtext\u001b[0m\u001b[0;34m.\u001b[0m\u001b[0msplit\u001b[0m\u001b[0;34m(\u001b[0m\u001b[0;34m)\u001b[0m\u001b[0;34m\u001b[0m\u001b[0;34m\u001b[0m\u001b[0m\n\u001b[0;32m---> 10\u001b[0;31m     \u001b[0mlemmatizer\u001b[0m \u001b[0;34m=\u001b[0m \u001b[0mMorphAnalyzer\u001b[0m\u001b[0;34m(\u001b[0m\u001b[0;34m)\u001b[0m\u001b[0;34m\u001b[0m\u001b[0;34m\u001b[0m\u001b[0m\n\u001b[0m\u001b[1;32m     11\u001b[0m     \u001b[0mwords\u001b[0m \u001b[0;34m=\u001b[0m \u001b[0;34m[\u001b[0m\u001b[0mlemmatizer\u001b[0m\u001b[0;34m.\u001b[0m\u001b[0mparse\u001b[0m\u001b[0;34m(\u001b[0m\u001b[0mw\u001b[0m\u001b[0;34m)\u001b[0m\u001b[0;34m[\u001b[0m\u001b[0;36m0\u001b[0m\u001b[0;34m]\u001b[0m\u001b[0;34m.\u001b[0m\u001b[0mnormal_form\u001b[0m \u001b[0;32mfor\u001b[0m \u001b[0mw\u001b[0m \u001b[0;32min\u001b[0m \u001b[0mwords\u001b[0m\u001b[0;34m]\u001b[0m\u001b[0;34m\u001b[0m\u001b[0;34m\u001b[0m\u001b[0m\n\u001b[1;32m     12\u001b[0m     \u001b[0;32mreturn\u001b[0m \u001b[0mwords\u001b[0m\u001b[0;34m\u001b[0m\u001b[0;34m\u001b[0m\u001b[0m\n",
      "\u001b[0;32m/usr/local/lib/python3.10/dist-packages/pymorphy2/analyzer.py\u001b[0m in \u001b[0;36m__init__\u001b[0;34m(self, path, lang, result_type, units, probability_estimator_cls, char_substitutes)\u001b[0m\n\u001b[1;32m    198\u001b[0m             \u001b[0mlang\u001b[0m \u001b[0;34m=\u001b[0m \u001b[0;34m'ru'\u001b[0m\u001b[0;34m\u001b[0m\u001b[0;34m\u001b[0m\u001b[0m\n\u001b[1;32m    199\u001b[0m \u001b[0;34m\u001b[0m\u001b[0m\n\u001b[0;32m--> 200\u001b[0;31m         \u001b[0mpath\u001b[0m \u001b[0;34m=\u001b[0m \u001b[0mself\u001b[0m\u001b[0;34m.\u001b[0m\u001b[0mchoose_dictionary_path\u001b[0m\u001b[0;34m(\u001b[0m\u001b[0mpath\u001b[0m\u001b[0;34m,\u001b[0m \u001b[0mlang\u001b[0m\u001b[0;34m)\u001b[0m\u001b[0;34m\u001b[0m\u001b[0;34m\u001b[0m\u001b[0m\n\u001b[0m\u001b[1;32m    201\u001b[0m \u001b[0;34m\u001b[0m\u001b[0m\n\u001b[1;32m    202\u001b[0m         \u001b[0;32mwith\u001b[0m \u001b[0mself\u001b[0m\u001b[0;34m.\u001b[0m\u001b[0m_lock\u001b[0m\u001b[0;34m:\u001b[0m\u001b[0;34m\u001b[0m\u001b[0;34m\u001b[0m\u001b[0m\n",
      "\u001b[0;32m/usr/local/lib/python3.10/dist-packages/pymorphy2/analyzer.py\u001b[0m in \u001b[0;36mchoose_dictionary_path\u001b[0;34m(cls, path, lang)\u001b[0m\n\u001b[1;32m    278\u001b[0m             \u001b[0;32mreturn\u001b[0m \u001b[0mos\u001b[0m\u001b[0;34m.\u001b[0m\u001b[0menviron\u001b[0m\u001b[0;34m[\u001b[0m\u001b[0mcls\u001b[0m\u001b[0;34m.\u001b[0m\u001b[0mDICT_PATH_ENV_VARIABLE\u001b[0m\u001b[0;34m]\u001b[0m\u001b[0;34m\u001b[0m\u001b[0;34m\u001b[0m\u001b[0m\n\u001b[1;32m    279\u001b[0m \u001b[0;34m\u001b[0m\u001b[0m\n\u001b[0;32m--> 280\u001b[0;31m         \u001b[0;32mreturn\u001b[0m \u001b[0mlang_dict_path\u001b[0m\u001b[0;34m(\u001b[0m\u001b[0mlang\u001b[0m\u001b[0;34m)\u001b[0m\u001b[0;34m\u001b[0m\u001b[0;34m\u001b[0m\u001b[0m\n\u001b[0m\u001b[1;32m    281\u001b[0m \u001b[0;34m\u001b[0m\u001b[0m\n\u001b[1;32m    282\u001b[0m     \u001b[0;34m@\u001b[0m\u001b[0mclassmethod\u001b[0m\u001b[0;34m\u001b[0m\u001b[0;34m\u001b[0m\u001b[0m\n",
      "\u001b[0;32m/usr/local/lib/python3.10/dist-packages/pymorphy2/analyzer.py\u001b[0m in \u001b[0;36mlang_dict_path\u001b[0;34m(lang)\u001b[0m\n\u001b[1;32m    135\u001b[0m \u001b[0;32mdef\u001b[0m \u001b[0mlang_dict_path\u001b[0m\u001b[0;34m(\u001b[0m\u001b[0mlang\u001b[0m\u001b[0;34m)\u001b[0m\u001b[0;34m:\u001b[0m\u001b[0;34m\u001b[0m\u001b[0;34m\u001b[0m\u001b[0m\n\u001b[1;32m    136\u001b[0m     \u001b[0;34m\"\"\" Return language-specific dictionary path \"\"\"\u001b[0m\u001b[0;34m\u001b[0m\u001b[0;34m\u001b[0m\u001b[0m\n\u001b[0;32m--> 137\u001b[0;31m     \u001b[0mlang_paths\u001b[0m \u001b[0;34m=\u001b[0m \u001b[0m_lang_dict_paths\u001b[0m\u001b[0;34m(\u001b[0m\u001b[0;34m)\u001b[0m\u001b[0;34m\u001b[0m\u001b[0;34m\u001b[0m\u001b[0m\n\u001b[0m\u001b[1;32m    138\u001b[0m     \u001b[0;32mif\u001b[0m \u001b[0mlang\u001b[0m \u001b[0;32min\u001b[0m \u001b[0mlang_paths\u001b[0m\u001b[0;34m:\u001b[0m\u001b[0;34m\u001b[0m\u001b[0;34m\u001b[0m\u001b[0m\n\u001b[1;32m    139\u001b[0m         \u001b[0;32mreturn\u001b[0m \u001b[0mlang_paths\u001b[0m\u001b[0;34m[\u001b[0m\u001b[0mlang\u001b[0m\u001b[0;34m]\u001b[0m\u001b[0;34m\u001b[0m\u001b[0;34m\u001b[0m\u001b[0m\n",
      "\u001b[0;32m/usr/local/lib/python3.10/dist-packages/pymorphy2/analyzer.py\u001b[0m in \u001b[0;36m_lang_dict_paths\u001b[0;34m()\u001b[0m\n\u001b[1;32m    120\u001b[0m     paths = dict(\n\u001b[1;32m    121\u001b[0m         \u001b[0;34m(\u001b[0m\u001b[0mpkg\u001b[0m\u001b[0;34m.\u001b[0m\u001b[0mname\u001b[0m\u001b[0;34m,\u001b[0m \u001b[0mpkg\u001b[0m\u001b[0;34m.\u001b[0m\u001b[0mload\u001b[0m\u001b[0;34m(\u001b[0m\u001b[0;34m)\u001b[0m\u001b[0;34m.\u001b[0m\u001b[0mget_path\u001b[0m\u001b[0;34m(\u001b[0m\u001b[0;34m)\u001b[0m\u001b[0;34m)\u001b[0m\u001b[0;34m\u001b[0m\u001b[0;34m\u001b[0m\u001b[0m\n\u001b[0;32m--> 122\u001b[0;31m         \u001b[0;32mfor\u001b[0m \u001b[0mpkg\u001b[0m \u001b[0;32min\u001b[0m \u001b[0m_iter_entry_points\u001b[0m\u001b[0;34m(\u001b[0m\u001b[0;34m'pymorphy2_dicts'\u001b[0m\u001b[0;34m)\u001b[0m\u001b[0;34m\u001b[0m\u001b[0;34m\u001b[0m\u001b[0m\n\u001b[0m\u001b[1;32m    123\u001b[0m     )\n\u001b[1;32m    124\u001b[0m \u001b[0;34m\u001b[0m\u001b[0m\n",
      "\u001b[0;32m/usr/local/lib/python3.10/dist-packages/pymorphy2/analyzer.py\u001b[0m in \u001b[0;36m_iter_entry_points\u001b[0;34m(*args, **kwargs)\u001b[0m\n\u001b[1;32m    113\u001b[0m     \"\"\"\n\u001b[1;32m    114\u001b[0m     \u001b[0;32mimport\u001b[0m \u001b[0mpkg_resources\u001b[0m\u001b[0;34m\u001b[0m\u001b[0;34m\u001b[0m\u001b[0m\n\u001b[0;32m--> 115\u001b[0;31m     \u001b[0mws\u001b[0m \u001b[0;34m=\u001b[0m \u001b[0mpkg_resources\u001b[0m\u001b[0;34m.\u001b[0m\u001b[0mWorkingSet\u001b[0m\u001b[0;34m(\u001b[0m\u001b[0;34m)\u001b[0m\u001b[0;34m\u001b[0m\u001b[0;34m\u001b[0m\u001b[0m\n\u001b[0m\u001b[1;32m    116\u001b[0m     \u001b[0;32mreturn\u001b[0m \u001b[0mws\u001b[0m\u001b[0;34m.\u001b[0m\u001b[0miter_entry_points\u001b[0m\u001b[0;34m(\u001b[0m\u001b[0;34m*\u001b[0m\u001b[0margs\u001b[0m\u001b[0;34m,\u001b[0m \u001b[0;34m**\u001b[0m\u001b[0mkwargs\u001b[0m\u001b[0;34m)\u001b[0m\u001b[0;34m\u001b[0m\u001b[0;34m\u001b[0m\u001b[0m\n\u001b[1;32m    117\u001b[0m \u001b[0;34m\u001b[0m\u001b[0m\n",
      "\u001b[0;32m/kernel/lib/python3.10/site-packages/pkg_resources/__init__.py\u001b[0m in \u001b[0;36m__init__\u001b[0;34m(self, entries)\u001b[0m\n\u001b[1;32m    563\u001b[0m \u001b[0;34m\u001b[0m\u001b[0m\n\u001b[1;32m    564\u001b[0m         \u001b[0;32mfor\u001b[0m \u001b[0mentry\u001b[0m \u001b[0;32min\u001b[0m \u001b[0mentries\u001b[0m\u001b[0;34m:\u001b[0m\u001b[0;34m\u001b[0m\u001b[0;34m\u001b[0m\u001b[0m\n\u001b[0;32m--> 565\u001b[0;31m             \u001b[0mself\u001b[0m\u001b[0;34m.\u001b[0m\u001b[0madd_entry\u001b[0m\u001b[0;34m(\u001b[0m\u001b[0mentry\u001b[0m\u001b[0;34m)\u001b[0m\u001b[0;34m\u001b[0m\u001b[0;34m\u001b[0m\u001b[0m\n\u001b[0m\u001b[1;32m    566\u001b[0m \u001b[0;34m\u001b[0m\u001b[0m\n\u001b[1;32m    567\u001b[0m     \u001b[0;34m@\u001b[0m\u001b[0mclassmethod\u001b[0m\u001b[0;34m\u001b[0m\u001b[0;34m\u001b[0m\u001b[0m\n",
      "\u001b[0;32m/kernel/lib/python3.10/site-packages/pkg_resources/__init__.py\u001b[0m in \u001b[0;36madd_entry\u001b[0;34m(self, entry)\u001b[0m\n\u001b[1;32m    619\u001b[0m         \u001b[0mself\u001b[0m\u001b[0;34m.\u001b[0m\u001b[0mentry_keys\u001b[0m\u001b[0;34m.\u001b[0m\u001b[0msetdefault\u001b[0m\u001b[0;34m(\u001b[0m\u001b[0mentry\u001b[0m\u001b[0;34m,\u001b[0m \u001b[0;34m[\u001b[0m\u001b[0;34m]\u001b[0m\u001b[0;34m)\u001b[0m\u001b[0;34m\u001b[0m\u001b[0;34m\u001b[0m\u001b[0m\n\u001b[1;32m    620\u001b[0m         \u001b[0mself\u001b[0m\u001b[0;34m.\u001b[0m\u001b[0mentries\u001b[0m\u001b[0;34m.\u001b[0m\u001b[0mappend\u001b[0m\u001b[0;34m(\u001b[0m\u001b[0mentry\u001b[0m\u001b[0;34m)\u001b[0m\u001b[0;34m\u001b[0m\u001b[0;34m\u001b[0m\u001b[0m\n\u001b[0;32m--> 621\u001b[0;31m         \u001b[0;32mfor\u001b[0m \u001b[0mdist\u001b[0m \u001b[0;32min\u001b[0m \u001b[0mfind_distributions\u001b[0m\u001b[0;34m(\u001b[0m\u001b[0mentry\u001b[0m\u001b[0;34m,\u001b[0m \u001b[0;32mTrue\u001b[0m\u001b[0;34m)\u001b[0m\u001b[0;34m:\u001b[0m\u001b[0;34m\u001b[0m\u001b[0;34m\u001b[0m\u001b[0m\n\u001b[0m\u001b[1;32m    622\u001b[0m             \u001b[0mself\u001b[0m\u001b[0;34m.\u001b[0m\u001b[0madd\u001b[0m\u001b[0;34m(\u001b[0m\u001b[0mdist\u001b[0m\u001b[0;34m,\u001b[0m \u001b[0mentry\u001b[0m\u001b[0;34m,\u001b[0m \u001b[0;32mFalse\u001b[0m\u001b[0;34m)\u001b[0m\u001b[0;34m\u001b[0m\u001b[0;34m\u001b[0m\u001b[0m\n\u001b[1;32m    623\u001b[0m \u001b[0;34m\u001b[0m\u001b[0m\n",
      "\u001b[0;32m/kernel/lib/python3.10/site-packages/pkg_resources/__init__.py\u001b[0m in \u001b[0;36mfind_on_path\u001b[0;34m(importer, path_item, only)\u001b[0m\n\u001b[1;32m   2094\u001b[0m         \u001b[0mfullpath\u001b[0m \u001b[0;34m=\u001b[0m \u001b[0mos\u001b[0m\u001b[0;34m.\u001b[0m\u001b[0mpath\u001b[0m\u001b[0;34m.\u001b[0m\u001b[0mjoin\u001b[0m\u001b[0;34m(\u001b[0m\u001b[0mpath_item\u001b[0m\u001b[0;34m,\u001b[0m \u001b[0mentry\u001b[0m\u001b[0;34m)\u001b[0m\u001b[0;34m\u001b[0m\u001b[0;34m\u001b[0m\u001b[0m\n\u001b[1;32m   2095\u001b[0m         \u001b[0mfactory\u001b[0m \u001b[0;34m=\u001b[0m \u001b[0mdist_factory\u001b[0m\u001b[0;34m(\u001b[0m\u001b[0mpath_item\u001b[0m\u001b[0;34m,\u001b[0m \u001b[0mentry\u001b[0m\u001b[0;34m,\u001b[0m \u001b[0monly\u001b[0m\u001b[0;34m)\u001b[0m\u001b[0;34m\u001b[0m\u001b[0;34m\u001b[0m\u001b[0m\n\u001b[0;32m-> 2096\u001b[0;31m         \u001b[0;32mfor\u001b[0m \u001b[0mdist\u001b[0m \u001b[0;32min\u001b[0m \u001b[0mfactory\u001b[0m\u001b[0;34m(\u001b[0m\u001b[0mfullpath\u001b[0m\u001b[0;34m)\u001b[0m\u001b[0;34m:\u001b[0m\u001b[0;34m\u001b[0m\u001b[0;34m\u001b[0m\u001b[0m\n\u001b[0m\u001b[1;32m   2097\u001b[0m             \u001b[0;32myield\u001b[0m \u001b[0mdist\u001b[0m\u001b[0;34m\u001b[0m\u001b[0;34m\u001b[0m\u001b[0m\n\u001b[1;32m   2098\u001b[0m \u001b[0;34m\u001b[0m\u001b[0m\n",
      "\u001b[0;32m/kernel/lib/python3.10/site-packages/pkg_resources/__init__.py\u001b[0m in \u001b[0;36mdistributions_from_metadata\u001b[0;34m(path)\u001b[0m\n\u001b[1;32m   2159\u001b[0m         \u001b[0mmetadata\u001b[0m \u001b[0;34m=\u001b[0m \u001b[0mFileMetadata\u001b[0m\u001b[0;34m(\u001b[0m\u001b[0mpath\u001b[0m\u001b[0;34m)\u001b[0m\u001b[0;34m\u001b[0m\u001b[0;34m\u001b[0m\u001b[0m\n\u001b[1;32m   2160\u001b[0m     \u001b[0mentry\u001b[0m \u001b[0;34m=\u001b[0m \u001b[0mos\u001b[0m\u001b[0;34m.\u001b[0m\u001b[0mpath\u001b[0m\u001b[0;34m.\u001b[0m\u001b[0mbasename\u001b[0m\u001b[0;34m(\u001b[0m\u001b[0mpath\u001b[0m\u001b[0;34m)\u001b[0m\u001b[0;34m\u001b[0m\u001b[0;34m\u001b[0m\u001b[0m\n\u001b[0;32m-> 2161\u001b[0;31m     yield Distribution.from_location(\n\u001b[0m\u001b[1;32m   2162\u001b[0m         \u001b[0mroot\u001b[0m\u001b[0;34m,\u001b[0m \u001b[0mentry\u001b[0m\u001b[0;34m,\u001b[0m \u001b[0mmetadata\u001b[0m\u001b[0;34m,\u001b[0m \u001b[0mprecedence\u001b[0m\u001b[0;34m=\u001b[0m\u001b[0mDEVELOP_DIST\u001b[0m\u001b[0;34m,\u001b[0m\u001b[0;34m\u001b[0m\u001b[0;34m\u001b[0m\u001b[0m\n\u001b[1;32m   2163\u001b[0m     )\n",
      "\u001b[0;32m/kernel/lib/python3.10/site-packages/pkg_resources/__init__.py\u001b[0m in \u001b[0;36mfrom_location\u001b[0;34m(cls, location, basename, metadata, **kw)\u001b[0m\n\u001b[1;32m   2607\u001b[0m                     \u001b[0;34m'name'\u001b[0m\u001b[0;34m,\u001b[0m \u001b[0;34m'ver'\u001b[0m\u001b[0;34m,\u001b[0m \u001b[0;34m'pyver'\u001b[0m\u001b[0;34m,\u001b[0m \u001b[0;34m'plat'\u001b[0m\u001b[0;34m\u001b[0m\u001b[0;34m\u001b[0m\u001b[0m\n\u001b[1;32m   2608\u001b[0m                 )\n\u001b[0;32m-> 2609\u001b[0;31m         return cls(\n\u001b[0m\u001b[1;32m   2610\u001b[0m             \u001b[0mlocation\u001b[0m\u001b[0;34m,\u001b[0m \u001b[0mmetadata\u001b[0m\u001b[0;34m,\u001b[0m \u001b[0mproject_name\u001b[0m\u001b[0;34m=\u001b[0m\u001b[0mproject_name\u001b[0m\u001b[0;34m,\u001b[0m \u001b[0mversion\u001b[0m\u001b[0;34m=\u001b[0m\u001b[0mversion\u001b[0m\u001b[0;34m,\u001b[0m\u001b[0;34m\u001b[0m\u001b[0;34m\u001b[0m\u001b[0m\n\u001b[1;32m   2611\u001b[0m             \u001b[0mpy_version\u001b[0m\u001b[0;34m=\u001b[0m\u001b[0mpy_version\u001b[0m\u001b[0;34m,\u001b[0m \u001b[0mplatform\u001b[0m\u001b[0;34m=\u001b[0m\u001b[0mplatform\u001b[0m\u001b[0;34m,\u001b[0m \u001b[0;34m**\u001b[0m\u001b[0mkw\u001b[0m\u001b[0;34m\u001b[0m\u001b[0;34m\u001b[0m\u001b[0m\n",
      "\u001b[0;32m/kernel/lib/python3.10/site-packages/pkg_resources/__init__.py\u001b[0m in \u001b[0;36m__init__\u001b[0;34m(self, location, metadata, project_name, version, py_version, platform, precedence)\u001b[0m\n\u001b[1;32m   2588\u001b[0m         \u001b[0mself\u001b[0m\u001b[0;34m.\u001b[0m\u001b[0mproject_name\u001b[0m \u001b[0;34m=\u001b[0m \u001b[0msafe_name\u001b[0m\u001b[0;34m(\u001b[0m\u001b[0mproject_name\u001b[0m \u001b[0;32mor\u001b[0m \u001b[0;34m'Unknown'\u001b[0m\u001b[0;34m)\u001b[0m\u001b[0;34m\u001b[0m\u001b[0;34m\u001b[0m\u001b[0m\n\u001b[1;32m   2589\u001b[0m         \u001b[0;32mif\u001b[0m \u001b[0mversion\u001b[0m \u001b[0;32mis\u001b[0m \u001b[0;32mnot\u001b[0m \u001b[0;32mNone\u001b[0m\u001b[0;34m:\u001b[0m\u001b[0;34m\u001b[0m\u001b[0;34m\u001b[0m\u001b[0m\n\u001b[0;32m-> 2590\u001b[0;31m             \u001b[0mself\u001b[0m\u001b[0;34m.\u001b[0m\u001b[0m_version\u001b[0m \u001b[0;34m=\u001b[0m \u001b[0msafe_version\u001b[0m\u001b[0;34m(\u001b[0m\u001b[0mversion\u001b[0m\u001b[0;34m)\u001b[0m\u001b[0;34m\u001b[0m\u001b[0;34m\u001b[0m\u001b[0m\n\u001b[0m\u001b[1;32m   2591\u001b[0m         \u001b[0mself\u001b[0m\u001b[0;34m.\u001b[0m\u001b[0mpy_version\u001b[0m \u001b[0;34m=\u001b[0m \u001b[0mpy_version\u001b[0m\u001b[0;34m\u001b[0m\u001b[0;34m\u001b[0m\u001b[0m\n\u001b[1;32m   2592\u001b[0m         \u001b[0mself\u001b[0m\u001b[0;34m.\u001b[0m\u001b[0mplatform\u001b[0m \u001b[0;34m=\u001b[0m \u001b[0mplatform\u001b[0m\u001b[0;34m\u001b[0m\u001b[0;34m\u001b[0m\u001b[0m\n",
      "\u001b[0;32m/kernel/lib/python3.10/site-packages/pkg_resources/__init__.py\u001b[0m in \u001b[0;36msafe_version\u001b[0;34m(version)\u001b[0m\n\u001b[1;32m   1340\u001b[0m     \u001b[0;32mtry\u001b[0m\u001b[0;34m:\u001b[0m\u001b[0;34m\u001b[0m\u001b[0;34m\u001b[0m\u001b[0m\n\u001b[1;32m   1341\u001b[0m         \u001b[0;31m# normalize the version\u001b[0m\u001b[0;34m\u001b[0m\u001b[0;34m\u001b[0m\u001b[0m\n\u001b[0;32m-> 1342\u001b[0;31m         \u001b[0;32mreturn\u001b[0m \u001b[0mstr\u001b[0m\u001b[0;34m(\u001b[0m\u001b[0mpackaging\u001b[0m\u001b[0;34m.\u001b[0m\u001b[0mversion\u001b[0m\u001b[0;34m.\u001b[0m\u001b[0mVersion\u001b[0m\u001b[0;34m(\u001b[0m\u001b[0mversion\u001b[0m\u001b[0;34m)\u001b[0m\u001b[0;34m)\u001b[0m\u001b[0;34m\u001b[0m\u001b[0;34m\u001b[0m\u001b[0m\n\u001b[0m\u001b[1;32m   1343\u001b[0m     \u001b[0;32mexcept\u001b[0m \u001b[0mpackaging\u001b[0m\u001b[0;34m.\u001b[0m\u001b[0mversion\u001b[0m\u001b[0;34m.\u001b[0m\u001b[0mInvalidVersion\u001b[0m\u001b[0;34m:\u001b[0m\u001b[0;34m\u001b[0m\u001b[0;34m\u001b[0m\u001b[0m\n\u001b[1;32m   1344\u001b[0m         \u001b[0mversion\u001b[0m \u001b[0;34m=\u001b[0m \u001b[0mversion\u001b[0m\u001b[0;34m.\u001b[0m\u001b[0mreplace\u001b[0m\u001b[0;34m(\u001b[0m\u001b[0;34m' '\u001b[0m\u001b[0;34m,\u001b[0m \u001b[0;34m'.'\u001b[0m\u001b[0;34m)\u001b[0m\u001b[0;34m\u001b[0m\u001b[0;34m\u001b[0m\u001b[0m\n",
      "\u001b[0;32m/kernel/lib/python3.10/site-packages/pkg_resources/_vendor/packaging/version.py\u001b[0m in \u001b[0;36m__str__\u001b[0;34m(self)\u001b[0m\n\u001b[1;32m    310\u001b[0m \u001b[0;34m\u001b[0m\u001b[0m\n\u001b[1;32m    311\u001b[0m         \u001b[0;31m# Development release\u001b[0m\u001b[0;34m\u001b[0m\u001b[0;34m\u001b[0m\u001b[0m\n\u001b[0;32m--> 312\u001b[0;31m         \u001b[0;32mif\u001b[0m \u001b[0mself\u001b[0m\u001b[0;34m.\u001b[0m\u001b[0mdev\u001b[0m \u001b[0;32mis\u001b[0m \u001b[0;32mnot\u001b[0m \u001b[0;32mNone\u001b[0m\u001b[0;34m:\u001b[0m\u001b[0;34m\u001b[0m\u001b[0;34m\u001b[0m\u001b[0m\n\u001b[0m\u001b[1;32m    313\u001b[0m             \u001b[0mparts\u001b[0m\u001b[0;34m.\u001b[0m\u001b[0mappend\u001b[0m\u001b[0;34m(\u001b[0m\u001b[0;34mf\".dev{self.dev}\"\u001b[0m\u001b[0;34m)\u001b[0m\u001b[0;34m\u001b[0m\u001b[0;34m\u001b[0m\u001b[0m\n\u001b[1;32m    314\u001b[0m \u001b[0;34m\u001b[0m\u001b[0m\n",
      "\u001b[0;32m/kernel/lib/python3.10/site-packages/pkg_resources/_vendor/packaging/version.py\u001b[0m in \u001b[0;36mdev\u001b[0;34m(self)\u001b[0m\n\u001b[1;32m    340\u001b[0m     \u001b[0;34m@\u001b[0m\u001b[0mproperty\u001b[0m\u001b[0;34m\u001b[0m\u001b[0;34m\u001b[0m\u001b[0m\n\u001b[1;32m    341\u001b[0m     \u001b[0;32mdef\u001b[0m \u001b[0mdev\u001b[0m\u001b[0;34m(\u001b[0m\u001b[0mself\u001b[0m\u001b[0;34m)\u001b[0m \u001b[0;34m->\u001b[0m \u001b[0mOptional\u001b[0m\u001b[0;34m[\u001b[0m\u001b[0mint\u001b[0m\u001b[0;34m]\u001b[0m\u001b[0;34m:\u001b[0m\u001b[0;34m\u001b[0m\u001b[0;34m\u001b[0m\u001b[0m\n\u001b[0;32m--> 342\u001b[0;31m         \u001b[0;32mreturn\u001b[0m \u001b[0mself\u001b[0m\u001b[0;34m.\u001b[0m\u001b[0m_version\u001b[0m\u001b[0;34m.\u001b[0m\u001b[0mdev\u001b[0m\u001b[0;34m[\u001b[0m\u001b[0;36m1\u001b[0m\u001b[0;34m]\u001b[0m \u001b[0;32mif\u001b[0m \u001b[0mself\u001b[0m\u001b[0;34m.\u001b[0m\u001b[0m_version\u001b[0m\u001b[0;34m.\u001b[0m\u001b[0mdev\u001b[0m \u001b[0;32melse\u001b[0m \u001b[0;32mNone\u001b[0m\u001b[0;34m\u001b[0m\u001b[0;34m\u001b[0m\u001b[0m\n\u001b[0m\u001b[1;32m    343\u001b[0m \u001b[0;34m\u001b[0m\u001b[0m\n\u001b[1;32m    344\u001b[0m     \u001b[0;34m@\u001b[0m\u001b[0mproperty\u001b[0m\u001b[0;34m\u001b[0m\u001b[0;34m\u001b[0m\u001b[0m\n",
      "\u001b[0;31mKeyboardInterrupt\u001b[0m: "
     ]
    }
   ],
   "source": [
    "tokens_train_2 = [preprocess_w2v(t) for t in tqdm(X_train, desc=\"Препроцессинг train\", leave= False)]\n",
    "tokens_test_2 = [preprocess_w2v(t) for t in tqdm(X_test, desc=\"Препроцессинг test\", leave= False)]"
   ]
  },
  {
   "cell_type": "code",
   "execution_count": 116,
   "id": "398c0b61-a78d-421e-8359-8f29d2e6b8cb",
   "metadata": {
    "execution": {
     "iopub.execute_input": "2025-05-18T14:26:47.129173Z",
     "iopub.status.busy": "2025-05-18T14:26:47.128213Z",
     "iopub.status.idle": "2025-05-18T14:26:52.633807Z",
     "shell.execute_reply": "2025-05-18T14:26:52.633019Z",
     "shell.execute_reply.started": "2025-05-18T14:26:47.129133Z"
    },
    "tags": []
   },
   "outputs": [],
   "source": [
    "from gensim.models import Word2Vec"
   ]
  },
  {
   "cell_type": "code",
   "execution_count": 122,
   "id": "7c32f05a-a2d5-4760-9a3e-549966d67152",
   "metadata": {
    "execution": {
     "iopub.execute_input": "2025-05-18T14:29:08.475811Z",
     "iopub.status.busy": "2025-05-18T14:29:08.474936Z",
     "iopub.status.idle": "2025-05-18T14:29:39.437754Z",
     "shell.execute_reply": "2025-05-18T14:29:39.436887Z",
     "shell.execute_reply.started": "2025-05-18T14:29:08.475781Z"
    },
    "tags": []
   },
   "outputs": [
    {
     "name": "stdout",
     "output_type": "stream",
     "text": [
      "X_train shape: (19217, 100) , y_train shape: (19217,)\n",
      "X_test shape: (8237, 100) , y_test shape: (8237,)\n"
     ]
    }
   ],
   "source": [
    "vectorizer = Word2Vec(sentences=tokens_train_1, workers=8)\n",
    "\n",
    "X_train_w2v = np.array([\n",
    "    np.mean([vectorizer.wv[token] for token in tokens if token in vectorizer.wv], axis=0) \n",
    "    if any(token in vectorizer.wv for token in tokens) \n",
    "    else np.zeros(vectorizer.vector_size) \n",
    "    for tokens in tokens_train_1\n",
    "])\n",
    "\n",
    "X_test_w2v = np.array([\n",
    "    np.mean([vectorizer.wv[token] for token in tokens if token in vectorizer.wv], axis=0) \n",
    "    if any(token in vectorizer.wv for token in tokens) \n",
    "    else np.zeros(vectorizer.vector_size) \n",
    "    for tokens in tokens_test_1\n",
    "])\n",
    "\n",
    "print(\"X_train shape:\", X_train_w2v.shape, \", y_train shape:\", y_train.shape)\n",
    "print(\"X_test shape:\", X_test_w2v.shape, \", y_test shape:\", y_test.shape)"
   ]
  },
  {
   "cell_type": "code",
   "execution_count": 123,
   "id": "74a2c0f8-cf9b-4ca0-9407-2fa689571ae5",
   "metadata": {
    "execution": {
     "iopub.execute_input": "2025-05-18T14:29:39.439738Z",
     "iopub.status.busy": "2025-05-18T14:29:39.439074Z",
     "iopub.status.idle": "2025-05-18T14:29:39.476037Z",
     "shell.execute_reply": "2025-05-18T14:29:39.475264Z",
     "shell.execute_reply.started": "2025-05-18T14:29:39.439692Z"
    },
    "tags": []
   },
   "outputs": [
    {
     "name": "stdout",
     "output_type": "stream",
     "text": [
      "inputs:  torch.Size([64, 100])\n",
      "labels:  torch.Size([64, 20])\n"
     ]
    }
   ],
   "source": [
    "class TDataset_2(Dataset):\n",
    "    def __init__(self, features, labels):\n",
    "        self.features = features\n",
    "        self.labels = labels   \n",
    "    def __getitem__(self, idx):\n",
    "        x = torch.FloatTensor(self.features[idx])\n",
    "        y = torch.FloatTensor(self.labels.iloc[idx])\n",
    "        return x, y\n",
    "    def __len__(self):\n",
    "        return len(self.labels)\n",
    "\n",
    "train_dataset_2 = TDataset_2(X_train_w2v, y_train)\n",
    "val_dataset_2 = TDataset_2(X_test_w2v, y_test)\n",
    "\n",
    "train_loader_2 = DataLoader(train_dataset_2, batch_size=64, shuffle=True)\n",
    "val_loader_2 = DataLoader(val_dataset_2, batch_size=64)\n",
    "\n",
    "batch = next(iter(train_loader_2))\n",
    "print(\"inputs: \", batch[0].shape)  \n",
    "print(\"labels: \", batch[1].shape)"
   ]
  },
  {
   "cell_type": "code",
   "execution_count": 125,
   "id": "8ef26bc9-d94a-42a1-a08c-3d351ebc1e88",
   "metadata": {
    "execution": {
     "iopub.execute_input": "2025-05-18T14:29:46.577926Z",
     "iopub.status.busy": "2025-05-18T14:29:46.577036Z",
     "iopub.status.idle": "2025-05-18T14:29:46.604843Z",
     "shell.execute_reply": "2025-05-18T14:29:46.604Z",
     "shell.execute_reply.started": "2025-05-18T14:29:46.577898Z"
    },
    "tags": []
   },
   "outputs": [
    {
     "data": {
      "text/plain": [
       "Sequential(\n",
       "  (0): Linear(in_features=100, out_features=512, bias=True)\n",
       "  (1): LayerNorm((512,), eps=1e-05, elementwise_affine=True)\n",
       "  (2): ReLU()\n",
       "  (3): Dropout(p=0.5, inplace=False)\n",
       "  (4): Linear(in_features=512, out_features=128, bias=True)\n",
       "  (5): LayerNorm((128,), eps=1e-05, elementwise_affine=True)\n",
       "  (6): ReLU()\n",
       "  (7): Dropout(p=0.3, inplace=False)\n",
       "  (8): Linear(in_features=128, out_features=64, bias=True)\n",
       "  (9): LayerNorm((64,), eps=1e-05, elementwise_affine=True)\n",
       "  (10): ReLU()\n",
       "  (11): Dropout(p=0.4, inplace=False)\n",
       "  (12): Linear(in_features=64, out_features=20, bias=True)\n",
       "  (13): Sigmoid()\n",
       ")"
      ]
     },
     "execution_count": 125,
     "metadata": {},
     "output_type": "execute_result"
    }
   ],
   "source": [
    "model_2 = nn.Sequential(\n",
    "    nn.Linear(X_train_w2v.shape[1], 512),\n",
    "    nn.LayerNorm(512),\n",
    "    nn.ReLU(),\n",
    "    nn.Dropout(0.5),\n",
    "    \n",
    "    nn.Linear(512, 128),\n",
    "    nn.LayerNorm(128),\n",
    "    nn.ReLU(),\n",
    "    nn.Dropout(0.3),\n",
    "    \n",
    "    nn.Linear(128, 64),\n",
    "    nn.LayerNorm(64),\n",
    "    nn.ReLU(),\n",
    "    nn.Dropout(0.4),\n",
    "    \n",
    "    nn.Linear(64, 20),\n",
    "    nn.Sigmoid()\n",
    ")\n",
    "device = torch.device(\"cuda\" if torch.cuda.is_available() else \"cpu\")\n",
    "model_2.to(device)"
   ]
  },
  {
   "cell_type": "code",
   "execution_count": 126,
   "id": "960eb598-6ce4-4b48-9198-c23bd7163ad4",
   "metadata": {
    "execution": {
     "iopub.execute_input": "2025-05-18T14:29:49.606621Z",
     "iopub.status.busy": "2025-05-18T14:29:49.605703Z",
     "iopub.status.idle": "2025-05-18T14:29:49.646890Z",
     "shell.execute_reply": "2025-05-18T14:29:49.646052Z",
     "shell.execute_reply.started": "2025-05-18T14:29:49.606581Z"
    },
    "tags": []
   },
   "outputs": [],
   "source": [
    "criterion = nn.BCELoss()\n",
    "optimizer = optim.Adam(model_2.parameters(), lr=1e-4)\n",
    "scheduler= optim.lr_scheduler.ReduceLROnPlateau(optimizer, mode='min', factor=0.1, patience=3)"
   ]
  },
  {
   "cell_type": "code",
   "execution_count": 127,
   "id": "9369d15e-5d10-412b-8f0c-04f3d2547bf7",
   "metadata": {
    "execution": {
     "iopub.execute_input": "2025-05-18T14:29:50.636563Z",
     "iopub.status.busy": "2025-05-18T14:29:50.635619Z",
     "iopub.status.idle": "2025-05-18T14:30:40.300242Z",
     "shell.execute_reply": "2025-05-18T14:30:40.299461Z",
     "shell.execute_reply.started": "2025-05-18T14:29:50.636527Z"
    },
    "tags": []
   },
   "outputs": [
    {
     "name": "stdout",
     "output_type": "stream",
     "text": [
      "Epoch 1/100 | Train Loss: 0.5692 Train F1 Score: 0.5613 | Val Loss: 0.5019 Val F1 Score: 0.5478\n",
      "Epoch 2/100 | Train Loss: 0.5133 Train F1 Score: 0.5774 | Val Loss: 0.4864 Val F1 Score: 0.5662\n",
      "Epoch 3/100 | Train Loss: 0.4759 Train F1 Score: 0.6032 | Val Loss: 0.4145 Val F1 Score: 0.6509\n",
      "Epoch 4/100 | Train Loss: 0.4195 Train F1 Score: 0.6479 | Val Loss: 0.3792 Val F1 Score: 0.6703\n",
      "Epoch 5/100 | Train Loss: 0.3998 Train F1 Score: 0.6556 | Val Loss: 0.3650 Val F1 Score: 0.6759\n",
      "Epoch 6/100 | Train Loss: 0.3894 Train F1 Score: 0.6597 | Val Loss: 0.3609 Val F1 Score: 0.6764\n",
      "Epoch 7/100 | Train Loss: 0.3829 Train F1 Score: 0.6639 | Val Loss: 0.3520 Val F1 Score: 0.6784\n",
      "Epoch 8/100 | Train Loss: 0.3777 Train F1 Score: 0.6674 | Val Loss: 0.3489 Val F1 Score: 0.6791\n",
      "Epoch 9/100 | Train Loss: 0.3730 Train F1 Score: 0.6700 | Val Loss: 0.3457 Val F1 Score: 0.6795\n",
      "Epoch 10/100 | Train Loss: 0.3697 Train F1 Score: 0.6712 | Val Loss: 0.3453 Val F1 Score: 0.6803\n",
      "Epoch 11/100 | Train Loss: 0.3676 Train F1 Score: 0.6732 | Val Loss: 0.3410 Val F1 Score: 0.6818\n",
      "Epoch 12/100 | Train Loss: 0.3642 Train F1 Score: 0.6735 | Val Loss: 0.3391 Val F1 Score: 0.6821\n",
      "Epoch 13/100 | Train Loss: 0.3639 Train F1 Score: 0.6763 | Val Loss: 0.3398 Val F1 Score: 0.6828\n",
      "EarlyStopping counter: 1 out of 3\n",
      "Epoch 14/100 | Train Loss: 0.3621 Train F1 Score: 0.6783 | Val Loss: 0.3366 Val F1 Score: 0.6872\n",
      "Epoch 15/100 | Train Loss: 0.3601 Train F1 Score: 0.6796 | Val Loss: 0.3353 Val F1 Score: 0.6858\n",
      "Epoch 16/100 | Train Loss: 0.3588 Train F1 Score: 0.6808 | Val Loss: 0.3350 Val F1 Score: 0.6893\n",
      "Epoch 17/100 | Train Loss: 0.3575 Train F1 Score: 0.6833 | Val Loss: 0.3355 Val F1 Score: 0.6926\n",
      "EarlyStopping counter: 1 out of 3\n",
      "Epoch 18/100 | Train Loss: 0.3562 Train F1 Score: 0.6846 | Val Loss: 0.3350 Val F1 Score: 0.6937\n",
      "Epoch 19/100 | Train Loss: 0.3552 Train F1 Score: 0.6853 | Val Loss: 0.3333 Val F1 Score: 0.6935\n",
      "Epoch 20/100 | Train Loss: 0.3542 Train F1 Score: 0.6863 | Val Loss: 0.3324 Val F1 Score: 0.6962\n",
      "Epoch 21/100 | Train Loss: 0.3523 Train F1 Score: 0.6894 | Val Loss: 0.3297 Val F1 Score: 0.7003\n",
      "Epoch 22/100 | Train Loss: 0.3515 Train F1 Score: 0.6911 | Val Loss: 0.3290 Val F1 Score: 0.6973\n",
      "Epoch 23/100 | Train Loss: 0.3498 Train F1 Score: 0.6907 | Val Loss: 0.3295 Val F1 Score: 0.7031\n",
      "EarlyStopping counter: 1 out of 3\n",
      "Epoch 24/100 | Train Loss: 0.3496 Train F1 Score: 0.6916 | Val Loss: 0.3290 Val F1 Score: 0.7017\n",
      "Epoch 25/100 | Train Loss: 0.3495 Train F1 Score: 0.6907 | Val Loss: 0.3276 Val F1 Score: 0.7057\n",
      "Epoch 26/100 | Train Loss: 0.3486 Train F1 Score: 0.6920 | Val Loss: 0.3269 Val F1 Score: 0.7040\n",
      "Epoch 27/100 | Train Loss: 0.3473 Train F1 Score: 0.6941 | Val Loss: 0.3254 Val F1 Score: 0.7074\n",
      "Epoch 28/100 | Train Loss: 0.3468 Train F1 Score: 0.6940 | Val Loss: 0.3255 Val F1 Score: 0.7071\n",
      "EarlyStopping counter: 1 out of 3\n",
      "Epoch 29/100 | Train Loss: 0.3467 Train F1 Score: 0.6949 | Val Loss: 0.3261 Val F1 Score: 0.7064\n",
      "EarlyStopping counter: 2 out of 3\n",
      "Epoch 30/100 | Train Loss: 0.3463 Train F1 Score: 0.6945 | Val Loss: 0.3239 Val F1 Score: 0.7096\n",
      "Epoch 31/100 | Train Loss: 0.3442 Train F1 Score: 0.6967 | Val Loss: 0.3243 Val F1 Score: 0.7081\n",
      "EarlyStopping counter: 1 out of 3\n",
      "Epoch 32/100 | Train Loss: 0.3438 Train F1 Score: 0.6973 | Val Loss: 0.3229 Val F1 Score: 0.7119\n",
      "Epoch 33/100 | Train Loss: 0.3430 Train F1 Score: 0.6976 | Val Loss: 0.3217 Val F1 Score: 0.7139\n",
      "Epoch 34/100 | Train Loss: 0.3421 Train F1 Score: 0.6978 | Val Loss: 0.3230 Val F1 Score: 0.7106\n",
      "EarlyStopping counter: 1 out of 3\n",
      "Epoch 35/100 | Train Loss: 0.3418 Train F1 Score: 0.6981 | Val Loss: 0.3262 Val F1 Score: 0.7115\n",
      "EarlyStopping counter: 2 out of 3\n",
      "Epoch 36/100 | Train Loss: 0.3417 Train F1 Score: 0.6991 | Val Loss: 0.3219 Val F1 Score: 0.7153\n",
      "EarlyStopping counter: 3 out of 3\n",
      "Early stopping triggered!\n"
     ]
    },
    {
     "data": {
      "image/png": "[encoded data removed]",
      "text/plain": [
       "<Figure size 1200x500 with 2 Axes>"
      ]
     },
     "metadata": {},
     "output_type": "display_data"
    }
   ],
   "source": [
    "training(model_2,train_loader_2,train_dataset_2, val_loader_2,val_dataset_2, num_epochs=100)"
   ]
  },
  {
   "cell_type": "code",
   "execution_count": null,
   "id": "eb7c62de-eeda-439e-befb-9f28248f9ffb",
   "metadata": {},
   "outputs": [],
   "source": [
    "submission = pd.read_csv('sample_submission.csv')\n",
    "test = pd.read_csv('test.csv')\n",
    "print(test.shape)\n",
    "test.head()"
   ]
  },
  {
   "cell_type": "markdown",
   "id": "00ea0126-e088-4dbe-8eef-891433d15fd7",
   "metadata": {},
   "source": [
    "## Модель 3"
   ]
  },
  {
   "cell_type": "code",
   "execution_count": 21,
   "id": "02b97ab2-1d7a-47a0-bef8-3df6e910323b",
   "metadata": {
    "execution": {
     "iopub.execute_input": "2025-05-18T08:08:13.634140Z",
     "iopub.status.busy": "2025-05-18T08:08:13.633466Z",
     "iopub.status.idle": "2025-05-18T09:13:57.956041Z",
     "shell.execute_reply": "2025-05-18T09:13:57.955331Z",
     "shell.execute_reply.started": "2025-05-18T08:08:13.634110Z"
    },
    "tags": []
   },
   "outputs": [
    {
     "name": "stderr",
     "output_type": "stream",
     "text": [
      "                                                                           \r"
     ]
    }
   ],
   "source": [
    "tokens_train_3 = [preprocess_cnn(t) for t in tqdm(X_train, desc=\"Препроцессинг train\", leave= False)]\n",
    "tokens_test_3 = [preprocess_cnn(t) for t in tqdm(X_test, desc=\"Препроцессинг test\", leave= False)]"
   ]
  },
  {
   "cell_type": "code",
   "execution_count": 110,
   "id": "6d7f6d63-e853-4475-b98d-c0cc956f1262",
   "metadata": {
    "execution": {
     "iopub.execute_input": "2025-05-18T14:22:01.884158Z",
     "iopub.status.busy": "2025-05-18T14:22:01.882956Z",
     "iopub.status.idle": "2025-05-18T14:22:01.931032Z",
     "shell.execute_reply": "2025-05-18T14:22:01.929936Z",
     "shell.execute_reply.started": "2025-05-18T14:22:01.884115Z"
    },
    "tags": []
   },
   "outputs": [
    {
     "ename": "NameError",
     "evalue": "name 'tokens_train_3' is not defined",
     "output_type": "error",
     "traceback": [
      "\u001b[0;31m---------------------------------------------------------------------------\u001b[0m",
      "\u001b[0;31mNameError\u001b[0m                                 Traceback (most recent call last)",
      "\u001b[0;32m/tmp/ipykernel_5756/3848679418.py\u001b[0m in \u001b[0;36m<cell line: 44>\u001b[0;34m()\u001b[0m\n\u001b[1;32m     42\u001b[0m         \u001b[0;32mreturn\u001b[0m \u001b[0mX\u001b[0m\u001b[0;34m,\u001b[0m\u001b[0my\u001b[0m\u001b[0;34m\u001b[0m\u001b[0;34m\u001b[0m\u001b[0m\n\u001b[1;32m     43\u001b[0m \u001b[0;34m\u001b[0m\u001b[0m\n\u001b[0;32m---> 44\u001b[0;31m \u001b[0mv_train\u001b[0m \u001b[0;34m=\u001b[0m \u001b[0mvocab\u001b[0m\u001b[0;34m(\u001b[0m\u001b[0mtokens_train_3\u001b[0m\u001b[0;34m)\u001b[0m\u001b[0;34m\u001b[0m\u001b[0;34m\u001b[0m\u001b[0m\n\u001b[0m\u001b[1;32m     45\u001b[0m \u001b[0mv_test\u001b[0m \u001b[0;34m=\u001b[0m \u001b[0mvocab\u001b[0m\u001b[0;34m(\u001b[0m\u001b[0mtokens_test_3\u001b[0m\u001b[0;34m)\u001b[0m\u001b[0;34m\u001b[0m\u001b[0;34m\u001b[0m\u001b[0m\n\u001b[1;32m     46\u001b[0m \u001b[0;34m\u001b[0m\u001b[0m\n",
      "\u001b[0;31mNameError\u001b[0m: name 'tokens_train_3' is not defined"
     ]
    }
   ],
   "source": [
    "from collections import Counter\n",
    "\n",
    "def vocab(texts, min_freq=3):\n",
    "    counter = Counter()\n",
    "    for words in texts:\n",
    "        counter.update(words)\n",
    "        \n",
    "    vocab = {\"<pad>\": 0,\n",
    "             \"<unk>\": 1}\n",
    "    sorted_words = sorted(counter.items(), key=lambda item: -item[1])\n",
    "    \n",
    "    idx = 2\n",
    "    for word, count in sorted_words:\n",
    "        if count >= min_freq:\n",
    "            vocab[word] = idx\n",
    "            idx += 1   \n",
    "    return vocab\n",
    "\n",
    "class TDataset_3(Dataset):\n",
    "    def __init__(self, texts, labels, vocab, max_len):\n",
    "        self.words = texts\n",
    "        self.labels = labels\n",
    "        self.vocab = vocab\n",
    "        self.max_len = max_len\n",
    "        \n",
    "    def __len__(self):\n",
    "        return len(self.words)\n",
    "    \n",
    "    def __getitem__(self, idx):\n",
    "        numericalized = [\n",
    "            self.vocab.get(word, self.vocab[\"<unk>\"]) \n",
    "            for word in self.words[idx]\n",
    "        ]\n",
    "        \n",
    "        if len(numericalized) > self.max_len:\n",
    "            numericalized = numericalized[:self.max_len]\n",
    "        else:\n",
    "            numericalized = numericalized + [self.vocab[\"<pad>\"]] * (self.max_len - len(numericalized))\n",
    "        \n",
    "        X=torch.tensor(numericalized, dtype=torch.long)\n",
    "        y=torch.tensor(self.labels.iloc[idx], dtype=torch.float)\n",
    "        return X,y\n",
    "\n",
    "v_train = vocab(tokens_train_3)\n",
    "v_test = vocab(tokens_test_3)\n",
    "\n",
    "train_dataset_3 = TDataset_3(tokens_train_3, y_train, v_train, 1000)\n",
    "val_dataset_3 = TDataset_3(tokens_test_3, y_test, v_test, 1000)\n",
    "\n",
    "train_loader_3 = DataLoader(train_dataset_3, batch_size=64, shuffle=True)\n",
    "val_loader_3 = DataLoader(val_dataset_3, batch_size=64)\n",
    "\n",
    "batch = next(iter(train_loader_3))\n",
    "print(\"inputs: \", batch[0].shape)  \n",
    "print(\"labels: \", batch[1].shape)"
   ]
  },
  {
   "cell_type": "code",
   "execution_count": 37,
   "id": "ba8cb466-9145-4ef0-b063-dfd0df74477a",
   "metadata": {
    "execution": {
     "iopub.execute_input": "2025-05-18T09:25:25.634376Z",
     "iopub.status.busy": "2025-05-18T09:25:25.633459Z",
     "iopub.status.idle": "2025-05-18T09:25:25.705649Z",
     "shell.execute_reply": "2025-05-18T09:25:25.704930Z",
     "shell.execute_reply.started": "2025-05-18T09:25:25.634349Z"
    },
    "tags": []
   },
   "outputs": [
    {
     "data": {
      "text/plain": [
       "Sequential(\n",
       "  (0): Embedding(21076, 300)\n",
       "  (1): Permute()\n",
       "  (2): Conv1d(300, 256, kernel_size=(3,), stride=(1,), padding=(1,))\n",
       "  (3): ReLU()\n",
       "  (4): Dropout(p=0.5, inplace=False)\n",
       "  (5): AdaptiveMaxPool1d(output_size=500)\n",
       "  (6): Conv1d(256, 128, kernel_size=(3,), stride=(1,))\n",
       "  (7): ReLU()\n",
       "  (8): Dropout(p=0.3, inplace=False)\n",
       "  (9): AdaptiveMaxPool1d(output_size=1)\n",
       "  (10): Flatten(start_dim=1, end_dim=-1)\n",
       "  (11): Linear(in_features=128, out_features=64, bias=True)\n",
       "  (12): ReLU()\n",
       "  (13): Dropout(p=0.4, inplace=False)\n",
       "  (14): Linear(in_features=64, out_features=20, bias=True)\n",
       "  (15): Sigmoid()\n",
       ")"
      ]
     },
     "execution_count": 37,
     "metadata": {},
     "output_type": "execute_result"
    }
   ],
   "source": [
    "class Permute(nn.Module):\n",
    "    def forward(self, x):\n",
    "        return x.permute(0, 2, 1)\n",
    "\n",
    "model_3 = nn.Sequential(\n",
    "        nn.Embedding(len(v_train), 300),\n",
    "        Permute(),\n",
    "        \n",
    "        nn.Conv1d(300, 256, kernel_size=3, padding=1),\n",
    "        nn.ReLU(),\n",
    "        nn.Dropout(0.5),\n",
    "        nn.AdaptiveMaxPool1d(500), \n",
    "        \n",
    "        nn.Conv1d(256, 128, kernel_size=3),\n",
    "        nn.ReLU(),\n",
    "        nn.Dropout(0.3),\n",
    "        nn.AdaptiveMaxPool1d(1),\n",
    "        nn.Flatten(),\n",
    "        \n",
    "        nn.Linear(128, 64),\n",
    "        nn.ReLU(),\n",
    "        nn.Dropout(0.4),\n",
    "        \n",
    "        nn.Linear(64, 20),\n",
    "        nn.Sigmoid()\n",
    "    )\n",
    "\n",
    "device = torch.device(\"cuda\" if torch.cuda.is_available() else \"cpu\")\n",
    "model_3.to(device)"
   ]
  },
  {
   "cell_type": "code",
   "execution_count": 38,
   "id": "9696a920-35b7-40e1-a535-55f0d8354090",
   "metadata": {
    "execution": {
     "iopub.execute_input": "2025-05-18T09:25:26.071566Z",
     "iopub.status.busy": "2025-05-18T09:25:26.070544Z",
     "iopub.status.idle": "2025-05-18T09:25:26.089584Z",
     "shell.execute_reply": "2025-05-18T09:25:26.088810Z",
     "shell.execute_reply.started": "2025-05-18T09:25:26.071527Z"
    },
    "tags": []
   },
   "outputs": [],
   "source": [
    "criterion = nn.BCELoss()\n",
    "optimizer = optim.Adam(model_3.parameters(), lr=1e-4)\n",
    "scheduler= optim.lr_scheduler.ReduceLROnPlateau(optimizer, mode='min', factor=0.1, patience=3)"
   ]
  },
  {
   "cell_type": "code",
   "execution_count": 39,
   "id": "78f01518-c8ad-4e54-a575-dd5dca7a1d01",
   "metadata": {
    "execution": {
     "iopub.execute_input": "2025-05-18T09:25:26.857692Z",
     "iopub.status.busy": "2025-05-18T09:25:26.856708Z",
     "iopub.status.idle": "2025-05-18T09:27:02.247449Z",
     "shell.execute_reply": "2025-05-18T09:27:02.246545Z",
     "shell.execute_reply.started": "2025-05-18T09:25:26.857649Z"
    },
    "tags": []
   },
   "outputs": [
    {
     "name": "stdout",
     "output_type": "stream",
     "text": [
      "Epoch 1/100 | Train Loss: 0.5222 Train F1 Score: 0.5866 | Val Loss: 0.4996 Val F1 Score: 0.5874\n",
      "Epoch 2/100 | Train Loss: 0.4148 Train F1 Score: 0.6567 | Val Loss: 0.4680 Val F1 Score: 0.5863\n",
      "Epoch 3/100 | Train Loss: 0.3685 Train F1 Score: 0.6745 | Val Loss: 0.4569 Val F1 Score: 0.5909\n",
      "Epoch 4/100 | Train Loss: 0.3448 Train F1 Score: 0.6827 | Val Loss: 0.4449 Val F1 Score: 0.5951\n",
      "Epoch 5/100 | Train Loss: 0.3282 Train F1 Score: 0.6906 | Val Loss: 0.4440 Val F1 Score: 0.5922\n",
      "Epoch 6/100 | Train Loss: 0.3159 Train F1 Score: 0.6971 | Val Loss: 0.4354 Val F1 Score: 0.6006\n",
      "Epoch 7/100 | Train Loss: 0.3052 Train F1 Score: 0.7028 | Val Loss: 0.4402 Val F1 Score: 0.5972\n",
      "EarlyStopping counter: 1 out of 3\n",
      "Epoch 8/100 | Train Loss: 0.2971 Train F1 Score: 0.7063 | Val Loss: 0.4487 Val F1 Score: 0.5922\n",
      "EarlyStopping counter: 2 out of 3\n",
      "Epoch 9/100 | Train Loss: 0.2917 Train F1 Score: 0.7105 | Val Loss: 0.4467 Val F1 Score: 0.5947\n",
      "EarlyStopping counter: 3 out of 3\n",
      "Early stopping triggered!\n"
     ]
    },
    {
     "data": {
      "image/png": "[encoded data removed]",
      "text/plain": [
       "<Figure size 1200x500 with 2 Axes>"
      ]
     },
     "metadata": {},
     "output_type": "display_data"
    }
   ],
   "source": [
    "training(model_3,train_loader_3,train_dataset_3, val_loader_3,val_dataset_3, num_epochs=100)"
   ]
  },
  {
   "cell_type": "code",
   "execution_count": 97,
   "id": "4f00a58b-ae5c-48c0-be56-081822f4ac75",
   "metadata": {
    "execution": {
     "iopub.execute_input": "2025-05-18T14:01:19.552050Z",
     "iopub.status.busy": "2025-05-18T14:01:19.551005Z",
     "iopub.status.idle": "2025-05-18T14:01:19.578199Z",
     "shell.execute_reply": "2025-05-18T14:01:19.577330Z",
     "shell.execute_reply.started": "2025-05-18T14:01:19.552015Z"
    },
    "tags": []
   },
   "outputs": [],
   "source": [
    "idden, cell) = self.rnn(embedded)\n",
    "        hidden = self.dropout(hidden[-1])  # Берем последний слой\n",
    "        return self.fc(hidden)\n"
   ]
  },
  {
   "cell_type": "code",
   "execution_count": 98,
   "id": "4819c387-8db5-4d4f-b8d9-8cb2183b374e",
   "metadata": {
    "execution": {
     "iopub.execute_input": "2025-05-18T14:01:21.592145Z",
     "iopub.status.busy": "2025-05-18T14:01:21.591016Z",
     "iopub.status.idle": "2025-05-18T14:01:21.644083Z",
     "shell.execute_reply": "2025-05-18T14:01:21.642959Z",
     "shell.execute_reply.started": "2025-05-18T14:01:21.592101Z"
    },
    "tags": []
   },
   "outputs": [
    {
     "ename": "TypeError",
     "evalue": "RNNModel.__init__() missing 6 required positional arguments: 'vocab_size', 'embed_dim', 'hidden_dim', 'output_dim', 'n_layers', and 'dropout'",
     "output_type": "error",
     "traceback": [
      "\u001b[0;31m---------------------------------------------------------------------------\u001b[0m",
      "\u001b[0;31mTypeError\u001b[0m                                 Traceback (most recent call last)",
      "\u001b[0;32m/tmp/ipykernel_5756/1304961516.py\u001b[0m in \u001b[0;36m<cell line: 1>\u001b[0;34m()\u001b[0m\n\u001b[0;32m----> 1\u001b[0;31m \u001b[0mmodel_4\u001b[0m \u001b[0;34m=\u001b[0m \u001b[0mRNNModel\u001b[0m\u001b[0;34m(\u001b[0m\u001b[0;34m)\u001b[0m\u001b[0;34m\u001b[0m\u001b[0;34m\u001b[0m\u001b[0m\n\u001b[0m",
      "\u001b[0;31mTypeError\u001b[0m: RNNModel.__init__() missing 6 required positional arguments: 'vocab_size', 'embed_dim', 'hidden_dim', 'output_dim', 'n_layers', and 'dropout'"
     ]
    }
   ],
   "source": [
    "model_4 = RNNModel()"
   ]
  },
  {
   "cell_type": "code",
   "execution_count": null,
   "id": "38bbf079-57bf-4b7d-9e90-1f1157038868",
   "metadata": {},
   "outputs": [],
   "source": [
    "from tensorflow.keras.models import Sequential\n",
    "from tensorflow.keras.layers import Embedding, LSTM, Dense, Dropout\n",
    "from tensorflow.keras.callbacks import EarlyStopping, ModelCheckpoint, ReduceLROnPlateau\n",
    "\n",
    "model = Sequential([\n",
    "    Embedding(MAX_WORDS, EMBEDDING_DIM, input_length=MAX_LEN),\n",
    "    LSTM(128, return_sequences=True),\n",
    "    LSTM(64),\n",
    "    Dense(64, activation='relu'),\n",
    "    Dropout(0.5),\n",
    "    Dense(NUM_CLASSES, activation='sigmoid')  # Для мультилейблинга\n",
    "])\n",
    "\n",
    "model.compile(\n",
    "    optimizer='adam',\n",
    "    loss='binary_crossentropy',  # Для мультилейблинга\n",
    "    metrics=[tf.keras.metrics.F1Score(average='macro')]\n",
    ")"
   ]
  },
  {
   "cell_type": "markdown",
   "id": "bdbd5949-504c-4c5b-b086-96a8835973b3",
   "metadata": {},
   "source": [
    "## Модель 5"
   ]
  },
  {
   "cell_type": "code",
   "execution_count": null,
   "id": "980b6342-4b78-426b-a4f2-f16121d6de83",
   "metadata": {},
   "outputs": [],
   "source": [
    "import re\n",
    "import string\n",
    "from nltk.corpus import stopwords\n",
    "from nltk.tokenize import word_tokenize\n",
    "from nltk.stem import WordNetLemmatizer\n",
    "import nltk\n",
    "\n",
    "# Загрузка необходимых ресурсов NLTK\n",
    "nltk.download('punkt')\n",
    "nltk.download('stopwords')\n",
    "nltk.download('wordnet')\n",
    "\n",
    "def clean_text(text, remove_stopwords=True, lemmatize=True):\n",
    "\n",
    "    # Приведение к нижнему регистру\n",
    "    text = text.lower()\n",
    "    \n",
    "    # Удаление HTML/XML тегов\n",
    "    text = re.sub(r'<[^>]+>', '', text)\n",
    "    \n",
    "    # Удаление URL\n",
    "    text = re.sub(r'https?://\\S+|www\\.\\S+', '', text)\n",
    "    \n",
    "    # Удаление email\n",
    "    text = re.sub(r'\\S+@\\S+', '', text)\n",
    "    \n",
    "    # Удаление упоминаний и хэштегов\n",
    "    text = re.sub(r'@\\w+|#\\w+', '', text)\n",
    "    \n",
    "    # Удаление пунктуации\n",
    "    text = text.translate(str.maketrans('', '', string.punctuation))\n",
    "    \n",
    "    # Удаление чисел\n",
    "    text = re.sub(r'\\d+', '', text)\n",
    "    \n",
    "    # Удаление лишних пробелов\n",
    "    text = re.sub(r'\\s+', ' ', text).strip()\n",
    "    \n",
    "    # Токенизация\n",
    "    words = word_tokenize(text)\n",
    "    \n",
    "    # Удаление стоп-слов (если требуется)\n",
    "    if remove_stopwords:\n",
    "        stop_words = set(stopwords.words('english'))\n",
    "        words = [w for w in words if w not in stop_words]\n",
    "    \n",
    "    # Лемматизация (если требуется)\n",
    "    if lemmatize:\n",
    "        lemmatizer = WordNetLemmatizer()\n",
    "        words = [lemmatizer.lemmatize(w) for w in words]\n",
    "    \n",
    "    return ' '.join(words)"
   ]
  },
  {
   "cell_type": "code",
   "execution_count": null,
   "id": "8dc081ce-0511-4b63-a4f4-2b397e2244d0",
   "metadata": {},
   "outputs": [],
   "source": [
    "import torch\n",
    "from transformers import BertTokenizer, BertForSequenceClassification\n",
    "from transformers import Trainer, TrainingArguments\n",
    "from sklearn.model_selection import train_test_split\n",
    "from sklearn.metrics import accuracy_score, f1_score, classification_report\n",
    "from torch.utils.data import Dataset\n",
    "import numpy as np\n",
    "import pandas as pd\n",
    "\n",
    "# 1. Подготовка данных\n",
    "class MultiLabelDataset(Dataset):\n",
    "    def __init__(self, texts, labels, tokenizer, max_len):\n",
    "        self.texts = texts\n",
    "        self.labels = labels\n",
    "        self.tokenizer = tokenizer\n",
    "        self.max_len = max_len\n",
    "    \n",
    "    def __len__(self):\n",
    "        return len(self.texts)\n",
    "    \n",
    "    def __getitem__(self, idx):\n",
    "        text = str(self.texts[idx])\n",
    "        label = self.labels[idx]\n",
    "        \n",
    "        encoding = self.tokenizer.encode_plus(\n",
    "            text,\n",
    "            add_special_tokens=True,\n",
    "            max_length=self.max_len,\n",
    "            return_token_type_ids=False,\n",
    "            padding='max_length',\n",
    "            truncation=True,\n",
    "            return_attention_mask=True,\n",
    "            return_tensors='pt',\n",
    "        )\n",
    "        \n",
    "        return {\n",
    "            'input_ids': encoding['input_ids'].flatten(),\n",
    "            'attention_mask': encoding['attention_mask'].flatten(),\n",
    "            'labels': torch.FloatTensor(label)\n",
    "        }\n",
    "\n",
    "# 2. Создание модели\n",
    "def create_model(num_labels):\n",
    "    model = BertForSequenceClassification.from_pretrained(\n",
    "        'bert-base-uncased',\n",
    "        num_labels=num_labels,\n",
    "        problem_type=\"multi_label_classification\"\n",
    "    )\n",
    "    return model\n",
    "\n",
    "# 3. Метрики\n",
    "def compute_metrics(pred):\n",
    "    labels = pred.label_ids\n",
    "    preds = pred.predictions\n",
    "    \n",
    "    # Для multi-label используем порог 0.5\n",
    "    preds = (torch.sigmoid(torch.Tensor(preds)) > 0.5\n",
    "    preds = preds.numpy()\n",
    "    \n",
    "    f1_micro = f1_score(labels, preds, average='micro')\n",
    "    f1_macro = f1_score(labels, preds, average='macro')\n",
    "    \n",
    "    return {\n",
    "        'f1_micro': f1_micro,\n",
    "        'f1_macro': f1_macro,\n",
    "    }\n",
    "\n",
    "# 4. Основной пайплайн\n",
    "def bert_multilabel_pipeline(df, text_col, label_cols, test_size=0.2, max_len=128, batch_size=16, epochs=3):\n",
    "    # Разделение данных\n",
    "    train_texts, val_texts, train_labels, val_labels = train_test_split(\n",
    "        df[text_col].values,\n",
    "        df[label_cols].values,\n",
    "        test_size=test_size\n",
    "    )\n",
    "    \n",
    "    # Инициализация токенизатора\n",
    "    tokenizer = BertTokenizer.from_pretrained('bert-base-uncased')\n",
    "    \n",
    "    # Создание датасетов\n",
    "    train_dataset = MultiLabelDataset(train_texts, train_labels, tokenizer, max_len)\n",
    "    val_dataset = MultiLabelDataset(val_texts, val_labels, tokenizer, max_len)\n",
    "    \n",
    "    # Создание модели\n",
    "    model = create_model(len(label_cols))\n",
    "    \n",
    "    # Аргументы обучения\n",
    "    training_args = TrainingArguments(\n",
    "        output_dir='./results',\n",
    "        num_train_epochs=epochs,\n",
    "        per_device_train_batch_size=batch_size,\n",
    "        per_device_eval_batch_size=batch_size,\n",
    "        warmup_steps=500,\n",
    "        weight_decay=0.01,\n",
    "        logging_dir='./logs',\n",
    "        logging_steps=10,\n",
    "        evaluation_strategy=\"epoch\",\n",
    "        save_strategy=\"epoch\",\n",
    "        load_best_model_at_end=True\n",
    "    )\n",
    "    \n",
    "    # Тренер\n",
    "    trainer = Trainer(\n",
    "        model=model,\n",
    "        args=training_args,\n",
    "        train_dataset=train_dataset,\n",
    "        eval_dataset=val_dataset,\n",
    "        compute_metrics=compute_metrics\n",
    "    )\n",
    "    \n",
    "    # Обучение\n",
    "    trainer.train()\n",
    "    \n",
    "    # Оценка\n",
    "    results = trainer.evaluate()\n",
    "    print(f\"Final metrics: {results}\")\n",
    "    \n",
    "    return trainer, tokenizer\n",
    "\n",
    "# Пример использования\n",
    "if __name__ == \"__main__\":\n",
    "    # Пример данных (замените на свои)\n",
    "    data = {\n",
    "        'text': [\n",
    "            \"This is a positive review about technology\",\n",
    "            \"Negative experience with customer service\",\n",
    "            \"Mixed feelings about the product quality\",\n",
    "            \"Absolutely loved the design and features\"\n",
    "        ],\n",
    "        'label_positive': [1, 0, 0, 1],\n",
    "        'label_negative': [0, 1, 1, 0],\n",
    "        'label_neutral': [0, 0, 1, 0]\n",
    "    }\n",
    "    df = pd.DataFrame(data)\n",
    "    \n",
    "    # Запуск пайплайна\n",
    "    label_cols = ['label_positive', 'label_negative', 'label_neutral']\n",
    "    trainer, tokenizer = bert_multilabel_pipeline(df, 'text', label_cols)\n",
    "    \n",
    "    # Предсказание на новых данных\n",
    "    def predict(text, trainer, tokenizer, max_len=128):\n",
    "        encoding = tokenizer.encode_plus(\n",
    "            text,\n",
    "            add_special_tokens=True,\n",
    "            max_length=max_len,\n",
    "            return_token_type_ids=False,\n",
    "            padding='max_length',\n",
    "            truncation=True,\n",
    "            return_attention_mask=True,\n",
    "            return_tensors='pt',\n",
    "        )\n",
    "        \n",
    "        input_ids = encoding['input_ids'].to(trainer.model.device)\n",
    "        attention_mask = encoding['attention_mask'].to(trainer.model.device)\n",
    "        \n",
    "        with torch.no_grad():\n",
    "            outputs = trainer.model(input_ids, attention_mask=attention_mask)\n",
    "        \n",
    "        preds = torch.sigmoid(outputs.logits).cpu().numpy()[0]\n",
    "        return preds\n",
    "    \n",
    "    test_text = \"I really dislike the interface but the performance is great\"\n",
    "    predictions = predict(test_text, trainer, tokenizer)\n",
    "    print(f\"Predictions: {predictions}\")"
   ]
  }
 ],
 "metadata": {
  "kernelspec": {
   "display_name": "DataSphere Kernel",
   "language": "python",
   "name": "python3"
  },
  "language_info": {
   "codemirror_mode": {
    "name": "ipython",
    "version": 3
   },
   "file_extension": ".py",
   "mimetype": "text/x-python",
   "name": "python",
   "nbconvert_exporter": "python",
   "pygments_lexer": "ipython3",
   "version": "3.10.12"
  }
 },
 "nbformat": 4,
 "nbformat_minor": 5
}
